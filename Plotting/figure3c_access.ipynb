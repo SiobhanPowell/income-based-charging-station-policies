{
 "cells": [
  {
   "cell_type": "markdown",
   "metadata": {},
   "source": [
    "# Figure 3c\n",
    "\n",
    "This notebook loads the data and produces figure 3c. The intermediate files \"figure3c_pricing.csv\", \"figure3c_ownership.csv\", \"figure3c_network.csv\", and \"figure3c_plug.csv\" are saved here and reloaded to be used for the figure. You can reproduce the figure starting from that point in the code by downloading the files from our data repository. "
   ]
  },
  {
   "cell_type": "code",
   "execution_count": 1,
   "metadata": {},
   "outputs": [],
   "source": [
    "savedate = '20251021'"
   ]
  },
  {
   "cell_type": "code",
   "execution_count": 5,
   "metadata": {},
   "outputs": [],
   "source": [
    "data_path = ''  # path to data - not needed for you to rerun figure\n",
    "figure_data_path = '' # save the data from the data repository here in a subfolder called \"FigureData\"\n",
    "figure_path = '' # path to Figures folder"
   ]
  },
  {
   "cell_type": "code",
   "execution_count": 3,
   "metadata": {},
   "outputs": [],
   "source": [
    "import pandas as pd\n",
    "import geopandas as geopd\n",
    "import matplotlib.pyplot as plt\n",
    "import numpy as np\n",
    "pd.options.mode.chained_assignment = None\n",
    "import matplotlib.patches as mpatches\n",
    "from matplotlib.colors import LinearSegmentedColormap\n",
    "import matplotlib\n",
    "matplotlib.rcParams['font.family'] = 'Arial'"
   ]
  },
  {
   "cell_type": "markdown",
   "metadata": {},
   "source": [
    "# Load and process data"
   ]
  },
  {
   "cell_type": "code",
   "execution_count": 6,
   "metadata": {},
   "outputs": [
    {
     "name": "stderr",
     "output_type": "stream",
     "text": [
      "/var/folders/x0/47mhggk13ms4ct1vkkn6b88r0000gs/T/ipykernel_36678/3092571744.py:1: DtypeWarning: Columns (7,17,39) have mixed types. Specify dtype option on import or set low_memory=False.\n",
      "  station_level = pd.read_csv(data_path + '20d_level_stations_US_compiled_250415_wlabels.zip')\n"
     ]
    },
    {
     "name": "stdout",
     "output_type": "stream",
     "text": [
      "0.24485428127142309\n",
      "0.28809336699717425\n"
     ]
    },
    {
     "name": "stderr",
     "output_type": "stream",
     "text": [
      "/var/folders/x0/47mhggk13ms4ct1vkkn6b88r0000gs/T/ipykernel_36678/3092571744.py:14: FutureWarning: Setting an item of incompatible dtype is deprecated and will raise in a future error of pandas. Value 'Missing' has dtype incompatible with bool, please explicitly cast to a compatible dtype first.\n",
      "  station_level.loc[station_level[station_level['EV Pricing'].isna()].index, 'free_label'] = 'Missing'\n",
      "/var/folders/x0/47mhggk13ms4ct1vkkn6b88r0000gs/T/ipykernel_36678/3092571744.py:28: FutureWarning: Setting an item of incompatible dtype is deprecated and will raise in a future error of pandas. Value 'Missing' has dtype incompatible with bool, please explicitly cast to a compatible dtype first.\n",
      "  station_level.loc[station_level[station_level['EV Network'].isna()].index, 'tesla_label'] = 'Missing'\n"
     ]
    }
   ],
   "source": [
    "station_level = pd.read_csv(data_path + '20d_level_stations_US_compiled_250415_wlabels.zip')\n",
    "\n",
    "print(len(station_level[~station_level['EV Pricing'].isna()]) / len(station_level))\n",
    "print(len(station_level[~station_level['Owner Type Code'].isna()]) / len(station_level))\n",
    "\n",
    "# Cluster mappings\n",
    "cluster_order_numbers8_v3 = [1, 3, 5, 2, 6, 7, 4, 0]\n",
    "cluster_paper_to_kmeans_map = {i+1:j for i, j in enumerate(cluster_order_numbers8_v3)}\n",
    "cluster_kmeans_to_paper_map = {j:i for i, j in cluster_paper_to_kmeans_map.items()}\n",
    "\n",
    "# Pricing\n",
    "station_level['free_label'] = False\n",
    "station_level.loc[station_level.loc[(station_level['EV Pricing'].str.contains('free'))|(station_level['EV Pricing'].str.contains('Free'))].index, 'free_label'] = True\n",
    "station_level.loc[station_level[station_level['EV Pricing'].isna()].index, 'free_label'] = 'Missing'\n",
    "plotdf_pricing = pd.DataFrame(station_level.groupby('Kmeans_nc8')['free_label'].value_counts(normalize=True))\n",
    "# station_level[~station_level['EV Pricing'].isna()].groupby('Kmeans_nc8')['free_label'].value_counts(normalize=True).sort_values()\n",
    "\n",
    "# Ownership\n",
    "station_level['owner_label'] = 'Other'\n",
    "station_level.loc[station_level[station_level['Owner Type Code']=='P'].index, 'owner_label'] = 'Private'\n",
    "station_level.loc[station_level[station_level['Owner Type Code'].isna()].index, 'owner_label'] = 'Missing'\n",
    "plotdf_owner = pd.DataFrame(station_level.groupby('Kmeans_nc8')['owner_label'].value_counts(normalize=True))\n",
    "# tmp[~tmp['Owner Type Code'].isna()].groupby('Kmeans_nc8')['owner_label'].value_counts(normalize=True).sort_values()\n",
    "\n",
    "# Network\n",
    "station_level['tesla_label'] = False\n",
    "station_level.loc[station_level[station_level['EV Network'].isin(['Tesla', 'Tesla Destination'])].index, 'tesla_label'] = True\n",
    "station_level.loc[station_level[station_level['EV Network'].isna()].index, 'tesla_label'] = 'Missing'\n",
    "plotdf_network = pd.DataFrame(station_level.groupby('Kmeans_nc8')['tesla_label'].value_counts(normalize=True))\n",
    "\n",
    "# DC\n",
    "station_level['no_stations'] = station_level[['EV Level1 EVSE Num', 'EV Level2 EVSE Num', 'EV DC Fast Count']].sum(axis=1)\n",
    "station_level[['EV Level1 EVSE Num', 'EV Level2 EVSE Num', 'EV DC Fast Count']] = station_level[['EV Level1 EVSE Num', 'EV Level2 EVSE Num', 'EV DC Fast Count']].fillna(0)\n",
    "station_level['dc_mix_label'] = 'Mixed'\n",
    "station_level.loc[station_level[station_level['EV DC Fast Count']==station_level['no_stations']].index, 'dc_mix_label'] = 'All DC'\n",
    "station_level.loc[station_level[station_level['EV DC Fast Count']==0].index, 'dc_mix_label'] = 'No DC'\n",
    "plotdf_dc = pd.DataFrame(station_level.groupby('Kmeans_nc8')['dc_mix_label'].value_counts(normalize=True))"
   ]
  },
  {
   "cell_type": "markdown",
   "metadata": {},
   "source": [
    "## Save and reload \n",
    "Then the following plotting script can be run by anyone using the posted data.\n",
    "\n",
    "We add \"paper_cluster_labels\" before saving so that the numbering in the saved data matches that of the paper. "
   ]
  },
  {
   "cell_type": "code",
   "execution_count": 7,
   "metadata": {},
   "outputs": [],
   "source": [
    "# Save\n",
    "## Pricing\n",
    "plotdf_pricing['paper_cluster_labels'] = plotdf_pricing.index.get_level_values('Kmeans_nc8').map(cluster_kmeans_to_paper_map)\n",
    "plotdf_pricing = plotdf_pricing.set_index('paper_cluster_labels', append=True)\n",
    "plotdf_pricing = plotdf_pricing.reorder_levels(['paper_cluster_labels', 'Kmeans_nc8', 'free_label'])\n",
    "plotdf_pricing.to_csv(figure_data_path + 'FigureData/figure3c_pricing.csv')\n",
    "\n",
    "## Ownership\n",
    "plotdf_owner['paper_cluster_labels'] = plotdf_owner.index.get_level_values('Kmeans_nc8').map(cluster_kmeans_to_paper_map)\n",
    "plotdf_owner = plotdf_owner.set_index('paper_cluster_labels', append=True)\n",
    "plotdf_owner = plotdf_owner.reorder_levels(['paper_cluster_labels', 'Kmeans_nc8', 'owner_label'])\n",
    "plotdf_owner.to_csv(figure_data_path + 'FigureData/figure3c_ownership.csv')\n",
    "\n",
    "## Network\n",
    "plotdf_network['paper_cluster_labels'] = plotdf_network.index.get_level_values('Kmeans_nc8').map(cluster_kmeans_to_paper_map)\n",
    "plotdf_network = plotdf_network.set_index('paper_cluster_labels', append=True)\n",
    "plotdf_network = plotdf_network.reorder_levels(['paper_cluster_labels', 'Kmeans_nc8', 'tesla_label'])\n",
    "plotdf_network.to_csv(figure_data_path + 'FigureData/figure3c_network.csv')\n",
    "\n",
    "## DC\n",
    "plotdf_dc['paper_cluster_labels'] = plotdf_dc.index.get_level_values('Kmeans_nc8').map(cluster_kmeans_to_paper_map)\n",
    "plotdf_dc = plotdf_dc.set_index('paper_cluster_labels', append=True)\n",
    "plotdf_dc = plotdf_dc.reorder_levels(['paper_cluster_labels', 'Kmeans_nc8', 'dc_mix_label'])\n",
    "plotdf_dc.to_csv(figure_data_path + 'FigureData/figure3c_plug.csv')"
   ]
  },
  {
   "cell_type": "markdown",
   "metadata": {},
   "source": [
    "### Run from here if reloading data"
   ]
  },
  {
   "cell_type": "code",
   "execution_count": 8,
   "metadata": {},
   "outputs": [],
   "source": [
    "# Reload\n",
    "plotdf_pricing = pd.read_csv(figure_data_path + 'FigureData/figure3c_pricing.csv', index_col=['Kmeans_nc8', 'free_label'])[['proportion']]\n",
    "plotdf_owner = pd.read_csv(figure_data_path + 'FigureData/figure3c_ownership.csv', index_col=['Kmeans_nc8', 'owner_label'])[['proportion']]\n",
    "plotdf_network = pd.read_csv(figure_data_path + 'FigureData/figure3c_network.csv', index_col=['Kmeans_nc8', 'tesla_label'])[['proportion']]\n",
    "plotdf_dc = pd.read_csv(figure_data_path + 'FigureData/figure3c_plug.csv', index_col=['Kmeans_nc8', 'dc_mix_label'])[['proportion']]"
   ]
  },
  {
   "cell_type": "markdown",
   "metadata": {},
   "source": [
    "# Plot"
   ]
  },
  {
   "cell_type": "code",
   "execution_count": 9,
   "metadata": {},
   "outputs": [],
   "source": [
    "colours_dict8_v3 = {1:'#006837', \n",
    "                    3:'#1a9850',\n",
    "                    5:'#a6d96a',\n",
    "                    2:'#fdae61',\n",
    "                    6:'#f46d43',\n",
    "                    7:'#cb181d',\n",
    "                    4:'#df65b0',\n",
    "                    0:'#8073ac'}\n",
    "\n",
    "colours_dict8_v3['Missing'] = 'lightgrey'"
   ]
  },
  {
   "cell_type": "code",
   "execution_count": 10,
   "metadata": {},
   "outputs": [],
   "source": [
    "def plot_access_shares(plotdf, axes, truelabel='True', falselabel='False', ylabel=False, \n",
    "                       case1=False, case2=False, multikeys=[], legend_title=None, loc='upper left'):\n",
    "    \n",
    "    if case1:\n",
    "        hatches={'Private':'//', 'Other':None, 'Missing':None}\n",
    "        alphas={'Private':1.0, 'Other':0.5, 'Missing':1}\n",
    "        bottom = np.zeros((8,))\n",
    "        for key in multikeys:\n",
    "            if key == 'Missing':\n",
    "                vals1 = np.array([plotdf.loc[k].loc[key, 'proportion'] for k in cluster_order_numbers8_v3])\n",
    "                axes.bar(np.arange(1, 9), vals1, color='lightgrey', bottom=bottom, label=key, alpha=alphas[key], hatch=hatches[key])\n",
    "                \n",
    "            else:\n",
    "                vals1 = np.array([plotdf.loc[k].loc[key, 'proportion'] for k in cluster_order_numbers8_v3])\n",
    "                axes.bar(np.arange(1, 9), vals1, color=[colours_dict8_v3[k] for k in cluster_order_numbers8_v3], bottom=bottom, label=key, alpha=alphas[key], hatch=hatches[key])\n",
    "                bottom += vals1\n",
    "                \n",
    "    elif case2:\n",
    "        hatches={'All DC':'//', 'No DC':None, 'Mixed':'...', 'Missing':None}\n",
    "        alphas={'All DC':1.0, 'No DC':0.5, 'Mixed':0.75, 'Missing':1}\n",
    "        bottom = np.zeros((8,))\n",
    "        for key in multikeys:\n",
    "            if key == 'Missing':\n",
    "                vals1 = np.array([plotdf.loc[k].loc[key, 'proportion'] for k in cluster_order_numbers8_v3])\n",
    "                axes.bar(np.arange(1, 9), vals1, color='lightgrey', bottom=bottom, label=key, alpha=alphas[key], hatch=hatches[key])\n",
    "                \n",
    "            else:\n",
    "                vals1 = np.array([plotdf.loc[k].loc[key, 'proportion'] for k in cluster_order_numbers8_v3])\n",
    "                axes.bar(np.arange(1, 9), vals1, color=[colours_dict8_v3[k] for k in cluster_order_numbers8_v3], bottom=bottom, label=key, alpha=alphas[key], hatch=hatches[key])\n",
    "                bottom += vals1\n",
    "        \n",
    "    else:\n",
    "        vals1 = [pd.DataFrame(plotdf).loc[k].loc['True', 'proportion'] for k in cluster_order_numbers8_v3]\n",
    "        axes.bar(np.arange(1, 9), vals1, color=[colours_dict8_v3[k] for k in cluster_order_numbers8_v3], hatch='//', label=truelabel)\n",
    "        \n",
    "        vals2 = [pd.DataFrame(plotdf).loc[k].loc['False', 'proportion'] for k in cluster_order_numbers8_v3]\n",
    "        axes.bar(np.arange(1, 9), vals2, bottom=vals1, color=[colours_dict8_v3[k] for k in cluster_order_numbers8_v3], alpha=0.5, label=falselabel)\n",
    "        \n",
    "        missing_data = pd.DataFrame(plotdf).xs('Missing', level=pd.DataFrame(plotdf).index.names[1])\n",
    "        vals3 = [missing_data.loc[k, 'proportion'] if k in missing_data.index else 0 for k in cluster_order_numbers8_v3]#[pd.DataFrame(plotdf).loc[k].loc['Missing', 'proportion'] if 'Missing' in pd.DataFrame(plotdf).loc[k].index else 0 for k in cluster_order_numbers8_v3]\n",
    "        axes.bar(np.arange(1, 9), np.array(vals3), bottom=np.array(vals1)+np.array(vals2), color='lightgrey', alpha=1, label='Missing')\n",
    "    \n",
    "    axes.legend(title=legend_title, fontsize=8, title_fontsize=8, loc=loc)\n",
    "\n",
    "    axes.set_xlabel('Cluster Number')\n",
    "    if ylabel:\n",
    "        axes.set_ylabel('Share of Stations')\n",
    "    axes.set_xticks(np.arange(1, 9))\n",
    "    \n",
    "    return axes"
   ]
  },
  {
   "cell_type": "code",
   "execution_count": 11,
   "metadata": {},
   "outputs": [
    {
     "data": {
      "image/png": "[encoded data removed]",
      "text/plain": [
       "<Figure size 800x250 with 4 Axes>"
      ]
     },
     "metadata": {},
     "output_type": "display_data"
    }
   ],
   "source": [
    "fig, ax = plt.subplots(1, 4, figsize=(8, 2.5), sharey=True)\n",
    "\n",
    "ax[0] = plot_access_shares(plotdf_network, ax[0], truelabel='Tesla Only', falselabel='Mixed or Other', ylabel=True, legend_title='Network')\n",
    "ax[1] = plot_access_shares(plotdf_dc, ax[1], case2=True, multikeys=['All DC', 'Mixed', 'No DC'], legend_title='Plug Types')\n",
    "ax[2] = plot_access_shares(plotdf_pricing, ax[2], truelabel='Free', falselabel='Other', legend_title='Pricing', loc='upper left')\n",
    "ax[3] = plot_access_shares(plotdf_owner, ax[3], case1=True, multikeys=['Private', 'Other', 'Missing'], legend_title='Ownership')#, 'Other'])\n",
    "\n",
    "counter = ['i', 'ii', 'iii', 'iv']\n",
    "for i in range(4):\n",
    "    ax[i].set_title(counter[i]+'.', loc='left')\n",
    "\n",
    "plt.tight_layout()\n",
    "plt.savefig(figure_path + 'Figures/figure3c_access_'+savedate+'.pdf', bbox_inches='tight')\n",
    "plt.savefig(figure_path + 'Figures/figure3c_access_'+savedate+'.png', bbox_inches='tight', dpi=400)\n",
    "plt.show()"
   ]
  }
 ],
 "metadata": {
  "kernelspec": {
   "display_name": "Python 3 (ipykernel)",
   "language": "python",
   "name": "python3"
  },
  "language_info": {
   "codemirror_mode": {
    "name": "ipython",
    "version": 3
   },
   "file_extension": ".py",
   "mimetype": "text/x-python",
   "name": "python",
   "nbconvert_exporter": "python",
   "pygments_lexer": "ipython3",
   "version": "3.10.7"
  }
 },
 "nbformat": 4,
 "nbformat_minor": 2
}
