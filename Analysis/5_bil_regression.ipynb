{
 "cells": [
  {
   "cell_type": "markdown",
   "metadata": {},
   "source": [
    "# Run regressions for case study on the Bipartisan Infrastructure Law (BIL)\n",
    "Using the BIL suggested labeling of disadvantaged communities. "
   ]
  },
  {
   "cell_type": "code",
   "execution_count": 1,
   "metadata": {},
   "outputs": [],
   "source": [
    "savedate = '20251031'"
   ]
  },
  {
   "cell_type": "code",
   "execution_count": 2,
   "metadata": {},
   "outputs": [],
   "source": [
    "data_path = '' # path to data"
   ]
  },
  {
   "cell_type": "code",
   "execution_count": 3,
   "metadata": {},
   "outputs": [],
   "source": [
    "import pandas as pd\n",
    "pd.options.mode.chained_assignment = None  # default='warn'\n",
    "import statsmodels.formula.api as smf\n",
    "import statsmodels.api as sm\n",
    "import numpy as np\n",
    "import matplotlib.pyplot as plt\n",
    "import matplotlib\n",
    "matplotlib.rcParams['font.family'] = 'Arial'\n",
    "from stargazer.stargazer import Stargazer, LineLocation\n",
    "from statsmodels.iolib.summary2 import summary_col\n",
    "import us\n",
    "state_list = [state.abbr for state in us.states.STATES]"
   ]
  },
  {
   "cell_type": "markdown",
   "metadata": {},
   "source": [
    "# Read data"
   ]
  },
  {
   "cell_type": "code",
   "execution_count": 4,
   "metadata": {},
   "outputs": [],
   "source": [
    "# Load data\n",
    "df_bg_level = pd.read_csv(data_path + '23_level_BG_US_imputedquantiles_20250722.zip',dtype={'GEOID':str,'STATEFP':str,'COUNTYFP':str,'BGFIPS':str},index_col=0)\n",
    "df_bg_level['STATEFP'] = df_bg_level['STATEFP'].str.zfill(2)\n",
    "df_bg_level['COUNTYFP'] = df_bg_level['COUNTYFP'].str.zfill(5)\n",
    "\n",
    "for col in ['median_household_income_imputed', 'av_income_10km_withoutBG_imputed', 'av_income_50km_withoutBG_imputed']:\n",
    "    df_bg_level[col+'_k'] = df_bg_level[col] / 1000.0\n",
    "    df_bg_level[col+'_10k'] = df_bg_level[col] / 10000.0\n",
    "    \n",
    "col = 'nearest_highway_km_BG'\n",
    "df_bg_level[col+'_100'] = df_bg_level[col] / 100"
   ]
  },
  {
   "cell_type": "markdown",
   "metadata": {},
   "source": [
    "# Regression 1: BIL labels as covariates to income regression"
   ]
  },
  {
   "cell_type": "code",
   "execution_count": 5,
   "metadata": {},
   "outputs": [],
   "source": [
    "# Run a single regression\n",
    "def run_regression(df_data,dep_var,indep_var,covs=[],state_FE=False,which='OLS'):\n",
    "    df_data_noNaN = df_data.dropna(subset=[indep_var,dep_var] + covs)\n",
    "#     print(dep_var + ' ~ ' + indep_var + ' + '+ str(covs) + ' + ' + str(state_FE))\n",
    "    X = df_data_noNaN[[indep_var] + covs]  # Independent variable(s)\n",
    "    if state_FE:\n",
    "        assert type(df_data_noNaN['STATEFP'].iloc[0]) == str  # Ensure STATEFP is a string\n",
    "        dummies = pd.get_dummies(df_data_noNaN['STATEFP'], dtype=int, drop_first=True)\n",
    "        X = pd.concat([X, dummies], axis=1)\n",
    "    X = sm.add_constant(X)  # Adds a constant term to the predictor\n",
    "    Y = df_data_noNaN[dep_var]  # Dependent variable\n",
    "    if which == 'OLS':\n",
    "        model = sm.OLS(Y, X).fit()\n",
    "    elif which == 'Logit':\n",
    "        model = sm.Logit(Y, X).fit()\n",
    "    return model"
   ]
  },
  {
   "cell_type": "code",
   "execution_count": 6,
   "metadata": {},
   "outputs": [],
   "source": [
    "# Regressions for BG-level data\n",
    "OLS_corr = run_regression(df_bg_level,'no_stations','median_household_income_imputed_10k',['is_disadvantaged_IRA'],state_FE=None,which='OLS')\n",
    "OLS_StateFE = run_regression(df_bg_level,'no_stations','median_household_income_imputed_10k',['is_disadvantaged_IRA'],state_FE='STATEFP',which='OLS')\n",
    "OLS_BG_10 = run_regression(df_bg_level,'no_stations','median_household_income_imputed_10k',['av_income_10km_withoutBG_imputed_10k', 'is_disadvantaged_IRA'],state_FE='STATEFP',which='OLS')\n",
    "OLS_BG_50 = run_regression(df_bg_level,'no_stations','median_household_income_imputed_10k',['av_income_50km_withoutBG_imputed_10k', 'is_disadvantaged_IRA'],state_FE='STATEFP',which='OLS')\n",
    "OLS_BG_10_IRA = run_regression(df_bg_level,'no_stations','is_disadvantaged_IRA',['shareIRA_10km'],state_FE='STATEFP',which='OLS')\n",
    "OLS_BG_50_IRA = run_regression(df_bg_level,'no_stations','is_disadvantaged_IRA',['shareIRA_50km'],state_FE='STATEFP',which='OLS')"
   ]
  },
  {
   "cell_type": "code",
   "execution_count": 7,
   "metadata": {},
   "outputs": [],
   "source": [
    "list_covs_cleaned = ['median_household_income_imputed_10k',\n",
    "                     'av_income_10km_withoutBG_imputed_10k', 'av_income_50km_withoutBG_imputed_10k', \n",
    "                     'is_disadvantaged_IRA', 'shareIRA_10km', 'shareIRA_50km']\n",
    "dict_rename_covs = {'median_household_income_imputed_10k': 'BG median household income [10k USD]',\n",
    "                    'av_income_10km_withoutBG_imputed_10k':'Average neighbouring income [10k USD], BG/10km',\n",
    "                    'av_income_50km_withoutBG_imputed_10k':'Average neighbouring income [10k USD], BG/50km',\n",
    "                    'is_disadvantaged_IRA':'BG in DAC', \n",
    "                    'shareIRA_10km':'DAC share, BG/10km', \n",
    "                    'shareIRA_50km':'DAC share, BG/50km'}"
   ]
  },
  {
   "cell_type": "code",
   "execution_count": 8,
   "metadata": {},
   "outputs": [
    {
     "data": {
      "text/html": [
       "<table style=\"text-align:center\"><tr><td colspan=\"7\" style=\"border-bottom: 1px solid black\"></td></tr>\n",
       "<tr><td style=\"text-align:left\"></td><td colspan=\"6\"><em>Dependent variable: Number of stations</em></td></tr><tr><td style=\"text-align:left\"></td><tr><td style=\"text-align:left\"></td><td>(1)</td><td>(2)</td><td>(3)</td><td>(4)</td><td>(5)</td><td>(6)</td></tr>\n",
       "<tr><td colspan=\"7\" style=\"border-bottom: 1px solid black\"></td></tr>\n",
       "\n",
       "<tr><td style=\"text-align:left\">BG median household income [10k USD]</td><td>0.008<sup>***</sup></td><td>-0.003<sup>**</sup></td><td>-0.015<sup>***</sup></td><td>-0.009<sup>***</sup></td><td></td><td></td></tr>\n",
       "<tr><td style=\"text-align:left\"></td><td>(0.001)</td><td>(0.001)</td><td>(0.001)</td><td>(0.001)</td><td></td><td></td></tr>\n",
       "<tr><td style=\"text-align:left\">Average neighbouring income [10k USD], BG/10km</td><td></td><td></td><td>0.053<sup>***</sup></td><td></td><td></td><td></td></tr>\n",
       "<tr><td style=\"text-align:left\"></td><td></td><td></td><td>(0.002)</td><td></td><td></td><td></td></tr>\n",
       "<tr><td style=\"text-align:left\">Average neighbouring income [10k USD], BG/50km</td><td></td><td></td><td></td><td>0.052<sup>***</sup></td><td></td><td></td></tr>\n",
       "<tr><td style=\"text-align:left\"></td><td></td><td></td><td></td><td>(0.003)</td><td></td><td></td></tr>\n",
       "<tr><td style=\"text-align:left\">BG in DAC</td><td>-0.088<sup>***</sup></td><td>-0.111<sup>***</sup></td><td>-0.073<sup>***</sup></td><td>-0.103<sup>***</sup></td><td>-0.065<sup>***</sup></td><td>-0.071<sup>***</sup></td></tr>\n",
       "<tr><td style=\"text-align:left\"></td><td>(0.008)</td><td>(0.008)</td><td>(0.008)</td><td>(0.008)</td><td>(0.009)</td><td>(0.008)</td></tr>\n",
       "<tr><td style=\"text-align:left\">DAC share, BG/10km</td><td></td><td></td><td></td><td></td><td>-0.135<sup>***</sup></td><td></td></tr>\n",
       "<tr><td style=\"text-align:left\"></td><td></td><td></td><td></td><td></td><td>(0.017)</td><td></td></tr>\n",
       "<tr><td style=\"text-align:left\">DAC share, BG/50km</td><td></td><td></td><td></td><td></td><td></td><td>-0.298<sup>***</sup></td></tr>\n",
       "<tr><td style=\"text-align:left\"></td><td></td><td></td><td></td><td></td><td></td><td>(0.020)</td></tr>\n",
       "\n",
       "<td colspan=\"7\" style=\"border-bottom: 1px solid black\"></td></tr>\n",
       "<tr><td style=\"text-align: left\">Unit of observation</td><td>BG</td><td>BG</td><td>BG</td><td>BG</td><td>BG</td><td>BG</td></tr><tr><td style=\"text-align: left\">State FE</td><td>No</td><td>Yes</td><td>Yes</td><td>Yes</td><td>Yes</td><td>Yes</td></tr><tr><td style=\"text-align: left\">Observations</td><td>239780</td><td>239780</td><td>239766</td><td>239776</td><td>239776</td><td>239779</td></tr><tr><td style=\"text-align: left\">R<sup>2</sup></td><td>0.001</td><td>0.011</td><td>0.014</td><td>0.013</td><td>0.011</td><td>0.012</td></tr><tr><td style=\"text-align: left\">Adjusted R<sup>2</sup></td><td>0.001</td><td>0.011</td><td>0.013</td><td>0.012</td><td>0.011</td><td>0.012</td></tr><tr><td style=\"text-align: left\">Residual Std. Error</td><td>1.650</td><td>1.642</td><td>1.640</td><td>1.641</td><td>1.642</td><td>1.641</td></tr><tr><td style=\"text-align: left\">F Statistic</td><td>167.746<sup>***</sup></td><td>51.256<sup>***</sup></td><td>62.451<sup>***</sup></td><td>57.317<sup>***</sup></td><td>52.347<sup>***</sup></td><td>55.247<sup>***</sup></td></tr>\n",
       "<tr><td colspan=\"7\" style=\"border-bottom: 1px solid black\"></td></tr><tr><td style=\"text-align: left\">Note:</td><td colspan=\"6\" style=\"text-align: right\"><sup>*</sup>p&lt;0.05; <sup>**</sup>p&lt;0.01; <sup>***</sup>p&lt;0.001</td></tr></table>"
      ],
      "text/plain": [
       "<stargazer.stargazer.Stargazer at 0x14fc2bf70>"
      ]
     },
     "execution_count": 8,
     "metadata": {},
     "output_type": "execute_result"
    }
   ],
   "source": [
    "stargazer = Stargazer([OLS_corr,OLS_StateFE,OLS_BG_10,OLS_BG_50,OLS_BG_10_IRA,OLS_BG_50_IRA])\n",
    "stargazer.significance_levels([0.05, 0.01, 0.001])\n",
    "\n",
    "stargazer.dependent_variable_name('Number of stations')\n",
    "stargazer.covariate_order(list_covs_cleaned)\n",
    "stargazer.rename_covariates(dict_rename_covs)\n",
    "\n",
    "stargazer.significant_digits(3)\n",
    "stargazer.show_degrees_of_freedom(False)\n",
    "\n",
    "stargazer.add_line('Unit of observation', ['BG', 'BG', 'BG', 'BG','BG', 'BG'], LineLocation.FOOTER_TOP)\n",
    "stargazer.add_line('State FE', ['No', 'Yes', 'Yes', 'Yes','Yes', 'Yes'], LineLocation.FOOTER_TOP)\n",
    "\n",
    "stargazer"
   ]
  },
  {
   "cell_type": "code",
   "execution_count": 9,
   "metadata": {},
   "outputs": [
    {
     "name": "stdout",
     "output_type": "stream",
     "text": [
      "\\begin{table}[!htbp] \\centering\n",
      "\\begin{tabular}{@{\\extracolsep{5pt}}lcccccc}\n",
      "\\\\[-1.8ex]\\hline\n",
      "\\hline \\\\[-1.8ex]\n",
      "& \\multicolumn{6}{c}{\\textit{Dependent variable: Number of stations}} \\\n",
      "\\cr \\cline{2-7}\n",
      "\\\\[-1.8ex] & (1) & (2) & (3) & (4) & (5) & (6) \\\\\n",
      "\\hline \\\\[-1.8ex]\n",
      " BG median household income [10k USD] & 0.008$^{***}$ & -0.003$^{**}$ & -0.015$^{***}$ & -0.009$^{***}$ & & \\\\\n",
      "& (0.001) & (0.001) & (0.001) & (0.001) & & \\\\\n",
      " Average neighbouring income [10k USD], BG/10km & & & 0.053$^{***}$ & & & \\\\\n",
      "& & & (0.002) & & & \\\\\n",
      " Average neighbouring income [10k USD], BG/50km & & & & 0.052$^{***}$ & & \\\\\n",
      "& & & & (0.003) & & \\\\\n",
      " BG in DAC & -0.088$^{***}$ & -0.111$^{***}$ & -0.073$^{***}$ & -0.103$^{***}$ & -0.065$^{***}$ & -0.071$^{***}$ \\\\\n",
      "& (0.008) & (0.008) & (0.008) & (0.008) & (0.009) & (0.008) \\\\\n",
      " DAC share, BG/10km & & & & & -0.135$^{***}$ & \\\\\n",
      "& & & & & (0.017) & \\\\\n",
      " DAC share, BG/50km & & & & & & -0.298$^{***}$ \\\\\n",
      "& & & & & & (0.020) \\\\\n",
      "\\hline \\\\[-1.8ex]\n",
      " Unit of observation & BG & BG & BG & BG & BG & BG \\\\\n",
      " State FE & No & Yes & Yes & Yes & Yes & Yes \\\\\n",
      " Observations & 239780 & 239780 & 239766 & 239776 & 239776 & 239779 \\\\\n",
      " $R^2$ & 0.001 & 0.011 & 0.014 & 0.013 & 0.011 & 0.012 \\\\\n",
      " Adjusted $R^2$ & 0.001 & 0.011 & 0.013 & 0.012 & 0.011 & 0.012 \\\\\n",
      " Residual Std. Error & 1.650 & 1.642 & 1.640 & 1.641 & 1.642 & 1.641 \\\\\n",
      " F Statistic & 167.746$^{***}$ & 51.256$^{***}$ & 62.451$^{***}$ & 57.317$^{***}$ & 52.347$^{***}$ & 55.247$^{***}$ \\\\\n",
      "\\hline\n",
      "\\hline \\\\[-1.8ex]\n",
      "\\textit{Note:} & \\multicolumn{6}{r}{$^{*}$p$<$0.05; $^{**}$p$<$0.01; $^{***}$p$<$0.001} \\\\\n",
      "\\end{tabular}\n",
      "\\end{table}\n"
     ]
    }
   ],
   "source": [
    "print(stargazer.render_latex())"
   ]
  },
  {
   "cell_type": "markdown",
   "metadata": {},
   "source": [
    "# Regression 2: Income regression in DAC or non-DAC labelled communities"
   ]
  },
  {
   "cell_type": "code",
   "execution_count": 10,
   "metadata": {},
   "outputs": [],
   "source": [
    "OLS_BG_10_DAC = run_regression(df_bg_level[df_bg_level['is_disadvantaged_IRA']==1],'no_stations','median_household_income_imputed_10k',['av_income_10km_withoutBG_imputed_10k', 'is_disadvantaged_IRA'],state_FE='STATEFP',which='OLS')\n",
    "OLS_BG_50_DAC = run_regression(df_bg_level[df_bg_level['is_disadvantaged_IRA']==1],'no_stations','median_household_income_imputed_10k',['av_income_50km_withoutBG_imputed_10k', 'is_disadvantaged_IRA'],state_FE='STATEFP',which='OLS')\n",
    "OLS_BG_10_nonDAC = run_regression(df_bg_level[df_bg_level['is_disadvantaged_IRA']==0],'no_stations','median_household_income_imputed_10k',['av_income_10km_withoutBG_imputed_10k', 'is_disadvantaged_IRA'],state_FE='STATEFP',which='OLS')\n",
    "OLS_BG_50_nonDAC = run_regression(df_bg_level[df_bg_level['is_disadvantaged_IRA']==0],'no_stations','median_household_income_imputed_10k',['av_income_50km_withoutBG_imputed_10k', 'is_disadvantaged_IRA'],state_FE='STATEFP',which='OLS')"
   ]
  },
  {
   "cell_type": "code",
   "execution_count": 11,
   "metadata": {},
   "outputs": [
    {
     "data": {
      "text/html": [
       "<table style=\"text-align:center\"><tr><td colspan=\"5\" style=\"border-bottom: 1px solid black\"></td></tr>\n",
       "<tr><td style=\"text-align:left\"></td><td colspan=\"4\"><em>Dependent variable: Number of stations</em></td></tr><tr><td style=\"text-align:left\"></td><tr><td style=\"text-align:left\"></td><td>(1)</td><td>(2)</td><td>(3)</td><td>(4)</td></tr>\n",
       "<tr><td colspan=\"5\" style=\"border-bottom: 1px solid black\"></td></tr>\n",
       "\n",
       "<tr><td style=\"text-align:left\">BG median household income [10k USD]</td><td>-0.008<sup>**</sup></td><td>-0.003<sup></sup></td><td>-0.017<sup>***</sup></td><td>-0.012<sup>***</sup></td></tr>\n",
       "<tr><td style=\"text-align:left\"></td><td>(0.003)</td><td>(0.003)</td><td>(0.001)</td><td>(0.001)</td></tr>\n",
       "<tr><td style=\"text-align:left\">Average neighbouring income [10k USD], BG/10km</td><td>0.052<sup>***</sup></td><td></td><td>0.052<sup>***</sup></td><td></td></tr>\n",
       "<tr><td style=\"text-align:left\"></td><td>(0.004)</td><td></td><td>(0.003)</td><td></td></tr>\n",
       "<tr><td style=\"text-align:left\">Average neighbouring income [10k USD], BG/50km</td><td></td><td>0.030<sup>***</sup></td><td></td><td>0.065<sup>***</sup></td></tr>\n",
       "<tr><td style=\"text-align:left\"></td><td></td><td>(0.004)</td><td></td><td>(0.004)</td></tr>\n",
       "\n",
       "<td colspan=\"5\" style=\"border-bottom: 1px solid black\"></td></tr>\n",
       "<tr><td style=\"text-align: left\">Observations</td><td>83508</td><td>83511</td><td>156258</td><td>156265</td></tr><tr><td style=\"text-align: left\">R<sup>2</sup></td><td>0.010</td><td>0.009</td><td>0.014</td><td>0.014</td></tr><tr><td style=\"text-align: left\">Adjusted R<sup>2</sup></td><td>0.009</td><td>0.008</td><td>0.014</td><td>0.013</td></tr><tr><td style=\"text-align: left\">Residual Std. Error</td><td>1.508</td><td>1.509</td><td>1.706</td><td>1.706</td></tr><tr><td style=\"text-align: left\">F Statistic</td><td>16.193<sup>***</sup></td><td>13.808<sup>***</sup></td><td>43.892<sup>***</sup></td><td>41.864<sup>***</sup></td></tr>\n",
       "<tr><td colspan=\"5\" style=\"border-bottom: 1px solid black\"></td></tr><tr><td style=\"text-align: left\">Note:</td><td colspan=\"4\" style=\"text-align: right\"><sup>*</sup>p&lt;0.05; <sup>**</sup>p&lt;0.01; <sup>***</sup>p&lt;0.001</td></tr></table>"
      ],
      "text/plain": [
       "<stargazer.stargazer.Stargazer at 0x14fc94e80>"
      ]
     },
     "execution_count": 11,
     "metadata": {},
     "output_type": "execute_result"
    }
   ],
   "source": [
    "list_covs_cleaned = ['median_household_income_imputed_10k', 'av_income_10km_withoutBG_imputed_10k', 'av_income_50km_withoutBG_imputed_10k']\n",
    "\n",
    "stargazer = Stargazer([OLS_BG_10_DAC, OLS_BG_50_DAC, OLS_BG_10_nonDAC, OLS_BG_50_nonDAC])\n",
    "stargazer.significance_levels([0.05, 0.01, 0.001])\n",
    "stargazer.dependent_variable_name('Number of stations')\n",
    "stargazer.covariate_order(list_covs_cleaned)\n",
    "stargazer.rename_covariates(dict_rename_covs)\n",
    "\n",
    "stargazer.significant_digits(3)\n",
    "stargazer.show_degrees_of_freedom(False)\n",
    "\n",
    "stargazer"
   ]
  },
  {
   "cell_type": "code",
   "execution_count": 12,
   "metadata": {},
   "outputs": [
    {
     "name": "stdout",
     "output_type": "stream",
     "text": [
      "\\begin{table}[!htbp] \\centering\n",
      "\\begin{tabular}{@{\\extracolsep{5pt}}lcccc}\n",
      "\\\\[-1.8ex]\\hline\n",
      "\\hline \\\\[-1.8ex]\n",
      "& \\multicolumn{4}{c}{\\textit{Dependent variable: Number of stations}} \\\n",
      "\\cr \\cline{2-5}\n",
      "\\\\[-1.8ex] & (1) & (2) & (3) & (4) \\\\\n",
      "\\hline \\\\[-1.8ex]\n",
      " BG median household income [10k USD] & -0.008$^{**}$ & -0.003$^{}$ & -0.017$^{***}$ & -0.012$^{***}$ \\\\\n",
      "& (0.003) & (0.003) & (0.001) & (0.001) \\\\\n",
      " Average neighbouring income [10k USD], BG/10km & 0.052$^{***}$ & & 0.052$^{***}$ & \\\\\n",
      "& (0.004) & & (0.003) & \\\\\n",
      " Average neighbouring income [10k USD], BG/50km & & 0.030$^{***}$ & & 0.065$^{***}$ \\\\\n",
      "& & (0.004) & & (0.004) \\\\\n",
      "\\hline \\\\[-1.8ex]\n",
      " Observations & 83508 & 83511 & 156258 & 156265 \\\\\n",
      " $R^2$ & 0.010 & 0.009 & 0.014 & 0.014 \\\\\n",
      " Adjusted $R^2$ & 0.009 & 0.008 & 0.014 & 0.013 \\\\\n",
      " Residual Std. Error & 1.508 & 1.509 & 1.706 & 1.706 \\\\\n",
      " F Statistic & 16.193$^{***}$ & 13.808$^{***}$ & 43.892$^{***}$ & 41.864$^{***}$ \\\\\n",
      "\\hline\n",
      "\\hline \\\\[-1.8ex]\n",
      "\\textit{Note:} & \\multicolumn{4}{r}{$^{*}$p$<$0.05; $^{**}$p$<$0.01; $^{***}$p$<$0.001} \\\\\n",
      "\\end{tabular}\n",
      "\\end{table}\n"
     ]
    }
   ],
   "source": [
    "print(stargazer.render_latex())"
   ]
  }
 ],
 "metadata": {
  "kernelspec": {
   "display_name": "Python 3 (ipykernel)",
   "language": "python",
   "name": "python3"
  },
  "language_info": {
   "codemirror_mode": {
    "name": "ipython",
    "version": 3
   },
   "file_extension": ".py",
   "mimetype": "text/x-python",
   "name": "python",
   "nbconvert_exporter": "python",
   "pygments_lexer": "ipython3",
   "version": "3.10.7"
  }
 },
 "nbformat": 4,
 "nbformat_minor": 2
}
