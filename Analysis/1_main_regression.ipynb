{
 "cells": [
  {
   "cell_type": "markdown",
   "id": "3389a1af",
   "metadata": {},
   "source": [
    "# Main Regression\n",
    "This file loads the data and runs the regression shown in Table 1 of the paper. "
   ]
  },
  {
   "cell_type": "code",
   "execution_count": 1,
   "id": "b44a8cb1",
   "metadata": {},
   "outputs": [],
   "source": [
    "data_folder = '' # path to data\n",
    "figure_path = '' # path to figures folder location"
   ]
  },
  {
   "cell_type": "code",
   "execution_count": 2,
   "id": "e968e6ca",
   "metadata": {},
   "outputs": [],
   "source": [
    "import pandas as pd\n",
    "pd.options.mode.chained_assignment = None \n",
    "import numpy as np\n",
    "import statsmodels.api as sm\n",
    "import statsmodels.formula.api as smf\n",
    "from IPython.display import display, Latex, HTML\n",
    "from stargazer.stargazer import Stargazer, LineLocation"
   ]
  },
  {
   "cell_type": "markdown",
   "id": "fbc5f0d1",
   "metadata": {},
   "source": [
    "# Read data"
   ]
  },
  {
   "cell_type": "code",
   "execution_count": 3,
   "id": "030c5964",
   "metadata": {},
   "outputs": [
    {
     "name": "stdout",
     "output_type": "stream",
     "text": [
      "Mean size of a BG: 1374.4094576338239\n",
      "Std: 705.1132344046625\n"
     ]
    }
   ],
   "source": [
    "df_BG = pd.read_csv(data_folder + '23_level_BG_US_imputedquantiles_20250722.zip', index_col=0)\n",
    "df_BG['STATEFP'] = df_BG['STATEFP'].astype(str).str.zfill(2)  # Ensure STATEFP is two digits\n",
    "df_BG['COUNTYFP'] = df_BG['COUNTYFP'].astype(str).str.zfill(5)  # Ensure COUNTYFP is three digits\n",
    "df_BG.index = df_BG.index.astype(str).str.zfill(12)  # Ensure BGFP is six digits\n",
    "\n",
    "print('Mean size of a BG:', df_BG[df_BG['total_pop_byBG']>0]['total_pop_byBG'].mean())\n",
    "print('Std:', df_BG[df_BG['total_pop_byBG']>0]['total_pop_byBG'].std())"
   ]
  },
  {
   "cell_type": "code",
   "execution_count": 4,
   "id": "076abd4f",
   "metadata": {},
   "outputs": [],
   "source": [
    "income_cols_BG = ['median_household_income_imputed_10k', 'av_income_10km_withoutBG_imputed_10k', 'av_income_50km_withoutBG_imputed_10k']\n",
    "for col in income_cols_BG:\n",
    "    df_BG[col + '_k'] = df_BG[col] / 1000.0  # Convert income to thousands of USD\n",
    "    df_BG[col + '_10k'] = df_BG[col] / 10000.0  # Convert income to 10s of thousands of USD"
   ]
  },
  {
   "cell_type": "markdown",
   "id": "fc6da710",
   "metadata": {},
   "source": [
    "# Functions"
   ]
  },
  {
   "cell_type": "code",
   "execution_count": 5,
   "id": "9641e696",
   "metadata": {},
   "outputs": [],
   "source": [
    "# Run a single regression\n",
    "def run_regression(df_data,dep_var,indep_var,covs=[],state_FE=False,which='OLS'):\n",
    "    df_data_noNaN = df_data.dropna(subset=[indep_var,dep_var] + covs)\n",
    "    print(dep_var + ' ~ ' + indep_var + ' + '+ str(covs) + ' + ' + str(state_FE))\n",
    "    X = df_data_noNaN[[indep_var] + covs]  # Independent variable(s)\n",
    "    if state_FE:\n",
    "        assert type(df_data_noNaN['STATEFP'].iloc[0]) == str  # Ensure STATEFP is a string\n",
    "        dummies = pd.get_dummies(df_data_noNaN['STATEFP'], dtype=int, drop_first=True)\n",
    "        X = pd.concat([X, dummies], axis=1)\n",
    "    X = sm.add_constant(X)  # Adds a constant term to the predictor\n",
    "    Y = df_data_noNaN[dep_var]  # Dependent variable\n",
    "    if which == 'OLS':\n",
    "        model = sm.OLS(Y, X).fit()\n",
    "    elif which == 'Logit':\n",
    "        model = sm.Logit(Y, X).fit()\n",
    "    return model"
   ]
  },
  {
   "cell_type": "markdown",
   "id": "11240856",
   "metadata": {},
   "source": [
    "# Table 1: Main regression"
   ]
  },
  {
   "cell_type": "code",
   "execution_count": 6,
   "id": "7c8d1eae",
   "metadata": {},
   "outputs": [
    {
     "name": "stdout",
     "output_type": "stream",
     "text": [
      "no_stations ~ median_household_income_imputed_10k + [] + STATEFP\n",
      "no_stations ~ median_household_income_imputed_10k + ['av_income_10km_withoutBG_imputed_10k'] + STATEFP\n",
      "no_stations ~ median_household_income_imputed_10k + ['av_income_50km_withoutBG_imputed_10k'] + STATEFP\n"
     ]
    }
   ],
   "source": [
    "# Regressions for BG-level data\n",
    "OLS_StateFE_imputed = run_regression(df_BG,'no_stations','median_household_income_imputed_10k',[],state_FE='STATEFP',which='OLS')\n",
    "OLS_BG_10_imputed = run_regression(df_BG,'no_stations','median_household_income_imputed_10k',['av_income_10km_withoutBG_imputed_10k'],state_FE='STATEFP',which='OLS')\n",
    "OLS_BG_50_imputed = run_regression(df_BG,'no_stations','median_household_income_imputed_10k',['av_income_50km_withoutBG_imputed_10k'],state_FE='STATEFP',which='OLS')"
   ]
  },
  {
   "cell_type": "code",
   "execution_count": 7,
   "id": "d58800c0",
   "metadata": {},
   "outputs": [],
   "source": [
    "list_covs_cleaned = ['median_household_income_imputed_10k', \n",
    "                     'av_income_10km_withoutBG_imputed_10k', \n",
    "                     'av_income_50km_withoutBG_imputed_10k']\n",
    "\n",
    "dict_rename_covs = {'median_household_income_imputed_10k': 'BG median household income [10kUSD]',\n",
    "                    'av_income_10km_withoutBG_imputed_10k':'Average neighbouring income [10kUSD], BG/10km',\n",
    "                    'av_income_50km_withoutBG_imputed_10k':'Average neighbouring income [10kUSD], BG/50km'}"
   ]
  },
  {
   "cell_type": "code",
   "execution_count": 8,
   "id": "cb653046",
   "metadata": {},
   "outputs": [
    {
     "data": {
      "text/html": [
       "<table style=\"text-align:center\"><tr><td colspan=\"4\" style=\"border-bottom: 1px solid black\"></td></tr>\n",
       "<tr><td style=\"text-align:left\"></td><td colspan=\"3\"><em>Dependent variable: Number of stations</em></td></tr><tr><td style=\"text-align:left\"></td><tr><td style=\"text-align:left\"></td><td>(1)</td><td>(2)</td><td>(3)</td></tr>\n",
       "<tr><td colspan=\"4\" style=\"border-bottom: 1px solid black\"></td></tr>\n",
       "\n",
       "<tr><td style=\"text-align:left\">BG median household income [10kUSD]</td><td>0.003<sup>***</sup></td><td>-0.012<sup>***</sup></td><td>-0.003<sup>***</sup></td></tr>\n",
       "<tr><td style=\"text-align:left\"></td><td>(0.001)</td><td>(0.001)</td><td>(0.001)</td></tr>\n",
       "<tr><td style=\"text-align:left\">Average neighbouring income [10kUSD], BG/10km</td><td></td><td>0.056<sup>***</sup></td><td></td></tr>\n",
       "<tr><td style=\"text-align:left\"></td><td></td><td>(0.002)</td><td></td></tr>\n",
       "<tr><td style=\"text-align:left\">Average neighbouring income [10kUSD], BG/50km</td><td></td><td></td><td>0.054<sup>***</sup></td></tr>\n",
       "<tr><td style=\"text-align:left\"></td><td></td><td></td><td>(0.003)</td></tr>\n",
       "\n",
       "<td colspan=\"4\" style=\"border-bottom: 1px solid black\"></td></tr>\n",
       "<tr><td style=\"text-align: left\">Observations</td><td>239780</td><td>239766</td><td>239776</td></tr><tr><td style=\"text-align: left\">R<sup>2</sup></td><td>0.010</td><td>0.013</td><td>0.012</td></tr><tr><td style=\"text-align: left\">Adjusted R<sup>2</sup></td><td>0.010</td><td>0.013</td><td>0.012</td></tr><tr><td style=\"text-align: left\">Residual Std. Error</td><td>1.643</td><td>1.640</td><td>1.641</td></tr><tr><td style=\"text-align: left\">F Statistic</td><td>48.536<sup>***</sup></td><td>62.087<sup>***</sup></td><td>55.224<sup>***</sup></td></tr>\n",
       "<tr><td colspan=\"4\" style=\"border-bottom: 1px solid black\"></td></tr><tr><td style=\"text-align: left\">Note:</td><td colspan=\"3\" style=\"text-align: right\"><sup>*</sup>p&lt;0.05; <sup>**</sup>p&lt;0.01; <sup>***</sup>p&lt;0.001</td></tr></table>"
      ],
      "text/plain": [
       "<stargazer.stargazer.Stargazer at 0x169371330>"
      ]
     },
     "execution_count": 8,
     "metadata": {},
     "output_type": "execute_result"
    }
   ],
   "source": [
    "stargazer = Stargazer([OLS_StateFE_imputed, OLS_BG_10_imputed, OLS_BG_50_imputed])\n",
    "stargazer.significance_levels([0.05, 0.01, 0.001])\n",
    "stargazer.dependent_variable_name('Number of stations')\n",
    "stargazer.covariate_order(list_covs_cleaned)\n",
    "stargazer.rename_covariates(dict_rename_covs)\n",
    "\n",
    "stargazer.significant_digits(3)\n",
    "stargazer.show_degrees_of_freedom(False)\n",
    "\n",
    "stargazer"
   ]
  },
  {
   "cell_type": "code",
   "execution_count": 9,
   "id": "85e010ba",
   "metadata": {},
   "outputs": [
    {
     "name": "stdout",
     "output_type": "stream",
     "text": [
      "\\begin{table}[!htbp] \\centering\n",
      "\\begin{tabular}{@{\\extracolsep{5pt}}lccc}\n",
      "\\\\[-1.8ex]\\hline\n",
      "\\hline \\\\[-1.8ex]\n",
      "& \\multicolumn{3}{c}{\\textit{Dependent variable: Number of stations}} \\\n",
      "\\cr \\cline{2-4}\n",
      "\\\\[-1.8ex] & (1) & (2) & (3) \\\\\n",
      "\\hline \\\\[-1.8ex]\n",
      " BG median household income [10kUSD] & 0.003$^{***}$ & -0.012$^{***}$ & -0.003$^{***}$ \\\\\n",
      "& (0.001) & (0.001) & (0.001) \\\\\n",
      " Average neighbouring income [10kUSD], BG/10km & & 0.056$^{***}$ & \\\\\n",
      "& & (0.002) & \\\\\n",
      " Average neighbouring income [10kUSD], BG/50km & & & 0.054$^{***}$ \\\\\n",
      "& & & (0.003) \\\\\n",
      "\\hline \\\\[-1.8ex]\n",
      " Observations & 239780 & 239766 & 239776 \\\\\n",
      " $R^2$ & 0.010 & 0.013 & 0.012 \\\\\n",
      " Adjusted $R^2$ & 0.010 & 0.013 & 0.012 \\\\\n",
      " Residual Std. Error & 1.643 & 1.640 & 1.641 \\\\\n",
      " F Statistic & 48.536$^{***}$ & 62.087$^{***}$ & 55.224$^{***}$ \\\\\n",
      "\\hline\n",
      "\\hline \\\\[-1.8ex]\n",
      "\\textit{Note:} & \\multicolumn{3}{r}{$^{*}$p$<$0.05; $^{**}$p$<$0.01; $^{***}$p$<$0.001} \\\\\n",
      "\\end{tabular}\n",
      "\\end{table}\n"
     ]
    }
   ],
   "source": [
    "htmlstring = stargazer.render_html()\n",
    "with open(figure_path + \"Figures/Table_1.html\", \"w\") as file:\n",
    "    file.write(htmlstring)\n",
    "    \n",
    "# Generate LaTeX output\n",
    "print(stargazer.render_latex())"
   ]
  }
 ],
 "metadata": {
  "kernelspec": {
   "display_name": "Python 3 (ipykernel)",
   "language": "python",
   "name": "python3"
  },
  "language_info": {
   "codemirror_mode": {
    "name": "ipython",
    "version": 3
   },
   "file_extension": ".py",
   "mimetype": "text/x-python",
   "name": "python",
   "nbconvert_exporter": "python",
   "pygments_lexer": "ipython3",
   "version": "3.10.7"
  }
 },
 "nbformat": 4,
 "nbformat_minor": 5
}
