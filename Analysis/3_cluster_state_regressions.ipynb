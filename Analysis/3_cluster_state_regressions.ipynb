{
 "cells": [
  {
   "cell_type": "markdown",
   "metadata": {},
   "source": [
    "# Run *# stations ~ income* regressions by cluster and by state\n",
    "\n",
    "By cluster, we run the regression with local and 10km neighbourhood income.\n",
    "\n",
    "By state, we run the regression with local income only, and the regression with local and 10km neighborhood income."
   ]
  },
  {
   "cell_type": "code",
   "execution_count": 1,
   "metadata": {},
   "outputs": [],
   "source": [
    "data_path = '' # path to data\n",
    "figure_data_folder = '' # where to save data for figures"
   ]
  },
  {
   "cell_type": "code",
   "execution_count": 2,
   "metadata": {},
   "outputs": [],
   "source": [
    "import pandas as pd\n",
    "pd.options.mode.chained_assignment = None \n",
    "import geopandas as geopd\n",
    "import statsmodels.formula.api as smf\n",
    "import statsmodels.api as sm\n",
    "import numpy as np\n",
    "import matplotlib.pyplot as plt\n",
    "import matplotlib\n",
    "matplotlib.rcParams['font.family'] = 'Arial'\n",
    "import us\n",
    "state_list = [state.abbr for state in us.states.STATES]"
   ]
  },
  {
   "cell_type": "markdown",
   "metadata": {},
   "source": [
    "## Read data"
   ]
  },
  {
   "cell_type": "code",
   "execution_count": 3,
   "metadata": {},
   "outputs": [],
   "source": [
    "df_bg_level = pd.read_csv(data_path + '23_level_BG_US_imputedquantiles_20250722.zip',dtype={'GEOID':str,'STATEFP':str,'COUNTYFP':str,'BGFIPS':str},index_col=0)\n",
    "df_bg_level['STATEFP'] = df_bg_level['STATEFP'].str.zfill(2)\n",
    "df_bg_level['COUNTYFP'] = df_bg_level['COUNTYFP'].str.zfill(5)\n",
    "\n",
    "for col in ['median_household_income_imputed', 'av_income_10km_withoutBG_imputed']:\n",
    "    df_bg_level[col + '_k'] = df_bg_level[col] / 1000.0\n",
    "    df_bg_level[col + '_10k'] = df_bg_level[col] / 10000.0"
   ]
  },
  {
   "cell_type": "markdown",
   "metadata": {},
   "source": [
    "## Run regressions"
   ]
  },
  {
   "cell_type": "code",
   "execution_count": 4,
   "metadata": {},
   "outputs": [],
   "source": [
    "def run_regression(df_data, dep_var, indep_var, covs=[], state_FE=False, which='OLS'):\n",
    "    #     print(dep_var + ' ~ ' + indep_var + ' + '+ str(covs) + ' + ' + str(state_FE))\n",
    "\n",
    "    # Prepare data\n",
    "    df_data_noNaN = df_data.dropna(subset=[indep_var,dep_var] + covs)\n",
    "    X = df_data_noNaN[[indep_var] + covs]  # Independent variable(s)\n",
    "    if state_FE:\n",
    "        assert type(df_data_noNaN['STATEFP'].iloc[0]) == str  # Ensure STATEFP is a string\n",
    "        dummies = pd.get_dummies(df_data_noNaN['STATEFP'], dtype=int, drop_first=True)\n",
    "        X = pd.concat([X, dummies], axis=1)\n",
    "    X = sm.add_constant(X)  # Adds a constant term to the predictor\n",
    "    Y = df_data_noNaN[dep_var]  # Dependent variable\n",
    "    \n",
    "    # Run model\n",
    "    if which == 'OLS':\n",
    "        model = sm.OLS(Y, X).fit()\n",
    "    elif which == 'Logit':\n",
    "        model = sm.Logit(Y, X).fit()\n",
    "        \n",
    "    return model"
   ]
  },
  {
   "cell_type": "markdown",
   "metadata": {},
   "source": [
    "### By Cluster"
   ]
  },
  {
   "cell_type": "code",
   "execution_count": 5,
   "metadata": {},
   "outputs": [],
   "source": [
    "label_mapping = {}\n",
    "label_mapping['Column Names'] = {0:'University_college_campuses', \n",
    "                                 1:'Weekday_daytime_short_stops', \n",
    "                                 2:'City_neighborhoods', \n",
    "                                 3:'Weekday_daytime_long_stops', \n",
    "                                 4:'Gas_stations_very_short_stops', \n",
    "                                 5:'Weekend_evening_recreation', \n",
    "                                 6:'High_density_city', \n",
    "                                 7:'Hotels'}\n",
    "\n",
    "cluster_order_numbers8_v3 = [1, 3, 5, 2, 6, 7, 4, 0]"
   ]
  },
  {
   "cell_type": "code",
   "execution_count": 6,
   "metadata": {},
   "outputs": [],
   "source": [
    "# Run regression for each cluster\n",
    "bg10_all = {}\n",
    "for i, clustnum in enumerate(cluster_order_numbers8_v3):\n",
    "    col = 'no_stations_k8_'+label_mapping['Column Names'][clustnum]\n",
    "    bg10_all[clustnum] = run_regression(df_data = df_bg_level, \n",
    "                                        dep_var = col, \n",
    "                                        indep_var = 'median_household_income_imputed_10k', \n",
    "                                        covs = ['av_income_10km_withoutBG_imputed_10k'], \n",
    "                                        state_FE = 'STATEFP', which = 'OLS')"
   ]
  },
  {
   "cell_type": "code",
   "execution_count": 7,
   "metadata": {},
   "outputs": [],
   "source": [
    "# Compile into df to save\n",
    "savedf = None\n",
    "for clustnum in range(8):\n",
    "    \n",
    "    # Assemble for each cluster\n",
    "    tmp1 = pd.DataFrame(bg10_all[clustnum].params.loc[['const', 'median_household_income_imputed_10k', 'av_income_10km_withoutBG_imputed_10k']], columns=['Coeff'])\n",
    "    tmp2 = pd.DataFrame(bg10_all[clustnum].pvalues.loc[['const', 'median_household_income_imputed_10k', 'av_income_10km_withoutBG_imputed_10k']], columns=['Pvals'])\n",
    "    tmp3 = pd.DataFrame(bg10_all[clustnum].bse.loc[['const', 'median_household_income_imputed_10k', 'av_income_10km_withoutBG_imputed_10k']], columns=['BSE'])\n",
    "    tmp4 = pd.concat((tmp1, tmp2, tmp3), axis=1)\n",
    "    tmp4['Cluster'] = clustnum\n",
    "    \n",
    "    # Compile\n",
    "    if savedf is None:\n",
    "        savedf = tmp4.copy()\n",
    "    else:\n",
    "        savedf = pd.concat((savedf, tmp4), axis=0)"
   ]
  },
  {
   "cell_type": "code",
   "execution_count": 8,
   "metadata": {},
   "outputs": [],
   "source": [
    "savedf.to_csv(figure_data_folder + 'FigureData/figure4d_cluster_regression_coefficients.csv')"
   ]
  },
  {
   "cell_type": "markdown",
   "metadata": {},
   "source": [
    "### By State"
   ]
  },
  {
   "cell_type": "code",
   "execution_count": 9,
   "metadata": {
    "scrolled": true
   },
   "outputs": [],
   "source": [
    "# Run regressions for each state\n",
    "param_dfs_states = {}\n",
    "for state in state_list + ['DC']:\n",
    "    if state == 'DC':\n",
    "        fips = '11'\n",
    "    else: \n",
    "        fips = us.states.lookup(state).fips\n",
    "\n",
    "    # Local income only\n",
    "    model_STATE = run_regression(df_bg_level[df_bg_level['STATEFP']==fips], \n",
    "                                 'no_stations', 'median_household_income_imputed_10k', [], state_FE=False, which='OLS')\n",
    "    # Local and neighborhood income\n",
    "    model_STATE_10km = run_regression(df_bg_level[df_bg_level['STATEFP']==fips], \n",
    "                                      'no_stations', 'median_household_income_imputed_10k', \n",
    "                                      ['av_income_10km_withoutBG_imputed_10k'], state_FE=False, which='OLS')\n",
    "    param_dfs_tmp = {}\n",
    "    names = ['R'+str(i) for i in [0, 1]]\n",
    "    for name, model in {'R0':model_STATE, 'R1':model_STATE_10km}.items():\n",
    "        param_dfs_tmp[name] = pd.concat((pd.DataFrame(model.params, columns=[name+' Coeff']),\n",
    "                                     pd.DataFrame(model.pvalues, columns=[name+' P-values']),\n",
    "                                     pd.DataFrame(model.bse, columns=[name+' std err'])), axis=1)\n",
    "\n",
    "    param_dfs_print_tmp = pd.concat(tuple([param_dfs_tmp[name] for name in names]), axis=1, ignore_index=False)\n",
    "    param_dfs_states[state] = param_dfs_print_tmp.loc[['const', 'median_household_income_imputed_10k', 'av_income_10km_withoutBG_imputed_10k'], :].fillna('-')\n",
    "    "
   ]
  },
  {
   "cell_type": "code",
   "execution_count": 10,
   "metadata": {},
   "outputs": [],
   "source": [
    "def fill_sign_df(rowname, colname, row1, r1, df_input, df_output):\n",
    "    \n",
    "    if type(df_input.loc[row1, r1+' P-values']) != str:\n",
    "        if df_input.loc[row1, r1+' P-values'] < 0.05:\n",
    "            if df_input.loc[row1, r1+' Coeff'] < 0:\n",
    "                df_output.loc[rowname, colname] = 'NEG'\n",
    "            else:\n",
    "                df_output.loc[rowname, colname] = 'POS'\n",
    "        else:\n",
    "            df_output.loc[rowname, colname] = 'INSIG'\n",
    "\n",
    "    return df_output"
   ]
  },
  {
   "cell_type": "code",
   "execution_count": 11,
   "metadata": {},
   "outputs": [],
   "source": [
    "# Compile into big df to save\n",
    "state_categories_all = None\n",
    "for state in state_list + ['DC']:\n",
    "    state_categories_tmp = pd.DataFrame(index=['localBG_only', 'localBG_10km', 'neighBG_10km'], columns=['All'])\n",
    "    state_categories_tmp = fill_sign_df('localBG_only', 'All', 'median_household_income_imputed_10k', 'R0', param_dfs_states[state], state_categories_tmp)\n",
    "    state_categories_tmp = fill_sign_df('localBG_10km', 'All', 'median_household_income_imputed_10k', 'R1', param_dfs_states[state], state_categories_tmp)\n",
    "    state_categories_tmp = fill_sign_df('neighBG_10km', 'All', 'av_income_10km_withoutBG_imputed_10k', 'R1', param_dfs_states[state], state_categories_tmp)\n",
    "    if state_categories_all is None:\n",
    "        state_categories_all = state_categories_tmp.rename(columns={'All':state}).copy()\n",
    "    else:\n",
    "        state_categories_all = pd.concat((state_categories_all, state_categories_tmp.rename(columns={'All':state}).copy()), axis=1)\n",
    "        \n",
    "state_categories_all.to_csv(figure_data_folder + 'FigureData/figure6_nbdadvantage_significance_bystate.csv')"
   ]
  },
  {
   "cell_type": "code",
   "execution_count": 12,
   "metadata": {},
   "outputs": [],
   "source": [
    "coeffs_by_state = pd.DataFrame({state:param_dfs_states[state]['R1 Coeff'] for state in state_list})\n",
    "coeffs_by_state.to_csv(figure_data_folder + 'FigureData/figure6b_nbdadvantage_coefficients_bystate.csv')"
   ]
  }
 ],
 "metadata": {
  "kernelspec": {
   "display_name": "Python 3 (ipykernel)",
   "language": "python",
   "name": "python3"
  },
  "language_info": {
   "codemirror_mode": {
    "name": "ipython",
    "version": 3
   },
   "file_extension": ".py",
   "mimetype": "text/x-python",
   "name": "python",
   "nbconvert_exporter": "python",
   "pygments_lexer": "ipython3",
   "version": "3.10.7"
  }
 },
 "nbformat": 4,
 "nbformat_minor": 2
}
