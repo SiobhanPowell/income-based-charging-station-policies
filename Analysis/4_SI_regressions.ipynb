{
 "cells": [
  {
   "cell_type": "markdown",
   "id": "ce6fd6ad",
   "metadata": {},
   "source": [
    "# SI Regressions\n",
    "This file loads the BG-level and CT-level datasets and runs the regressions shown in the Supplementary Information."
   ]
  },
  {
   "cell_type": "code",
   "execution_count": 1,
   "id": "b44a8cb1",
   "metadata": {},
   "outputs": [],
   "source": [
    "data_folder = ''\n",
    "figure_path = ''"
   ]
  },
  {
   "cell_type": "code",
   "execution_count": 2,
   "id": "e968e6ca",
   "metadata": {},
   "outputs": [],
   "source": [
    "import pandas as pd\n",
    "pd.options.mode.chained_assignment = None \n",
    "import numpy as np\n",
    "import itertools\n",
    "from tqdm import tqdm\n",
    "import statsmodels.api as sm\n",
    "import statsmodels.formula.api as smf\n",
    "import matplotlib.pyplot as plt\n",
    "import matplotlib\n",
    "matplotlib.rcParams['font.family'] = 'Arial'\n",
    "from IPython.display import display, Latex, HTML\n",
    "from stargazer.stargazer import Stargazer, LineLocation"
   ]
  },
  {
   "cell_type": "markdown",
   "id": "fbc5f0d1",
   "metadata": {},
   "source": [
    "# Read data"
   ]
  },
  {
   "cell_type": "code",
   "execution_count": 3,
   "id": "030c5964",
   "metadata": {},
   "outputs": [
    {
     "name": "stdout",
     "output_type": "stream",
     "text": [
      "Mean size of a BG: 1374.4094576338239\n",
      "Std: 705.1132344046625\n"
     ]
    }
   ],
   "source": [
    "# Read BG-level data\n",
    "df_BG = pd.read_csv(data_folder + '23_level_BG_US_imputedquantiles_20250722.zip', index_col=0)#+ '21c_level_BG_US_compiled_wlabels_250702.zip',index_col=0)\n",
    "df_BG['STATEFP'] = df_BG['STATEFP'].astype(str).str.zfill(2)  # Ensure STATEFP is two digits\n",
    "df_BG['COUNTYFP'] = df_BG['COUNTYFP'].astype(str).str.zfill(5)  # Ensure COUNTYFP is three digits\n",
    "df_BG.index = df_BG.index.astype(str).str.zfill(12)  # Ensure BGFP is six digits\n",
    "\n",
    "print('Mean size of a BG:', df_BG[df_BG['total_pop_byBG']>0]['total_pop_byBG'].mean())\n",
    "print('Std:', df_BG[df_BG['total_pop_byBG']>0]['total_pop_byBG'].std())\n",
    "\n",
    "# Read CT-level data\n",
    "df_CT = pd.read_csv(data_folder + '23_level_CT_US_imputedquantiles_20250722.zip', index_col='TRACTFP')#+ '22_level_CT_US_compiled_wlabels_250702.zip',index_col='TRACTFP')\n",
    "df_CT['STATEFP'] = df_CT['STATEFP'].astype(str).str.zfill(2)  # Ensure STATEFP is two digits\n",
    "df_CT['COUNTYFP'] = df_CT['COUNTYFP'].astype(str).str.zfill(5)  # Ensure COUNTYFP is three digits\n",
    "df_CT.drop('Unnamed: 0', axis=1, inplace=True)  # Drop unnecessary column\n",
    "df_CT.index = df_CT.index.astype(str).str.zfill(11)  # Ensure BGFP is six digits"
   ]
  },
  {
   "cell_type": "code",
   "execution_count": 4,
   "id": "076abd4f",
   "metadata": {},
   "outputs": [],
   "source": [
    "# Scale columns for regression\n",
    "income_cols_BG = ['median_household_income_imputed', 'av_income_10km_withoutBG_imputed', 'av_income_50km_withoutBG_imputed', ]\n",
    "for col in income_cols_BG:\n",
    "    df_BG[col + '_k'] = df_BG[col] / 1000.0  # Convert income to thousands of USD\n",
    "    df_BG[col + '_10k'] = df_BG[col] / 10000.0  # Convert income to 10s of thousands of USD\n",
    "    \n",
    "income_cols_CT = ['median_household_income_byCT_imputed', 'av_income_10km_withoutCT', 'av_income_50km_withoutCT']\n",
    "for col in income_cols_CT:\n",
    "    df_CT[col + '_k'] = df_CT[col] / 1000.0  # Convert income to thousands of USD\n",
    "    df_CT[col + '_10k'] = df_CT[col] / 10000.0  # Convert income to 10s of thousands of USD\n",
    "    \n",
    "df_BG['nearest_highway_km_BG' + '_100km'] = df_BG['nearest_highway_km_BG'] / 100.0 # Convert to hundreds of kms\n",
    "df_CT['nearest_highway_km_BG' + '_100km'] = df_CT['nearest_highway_km_BG'] / 100.0 # Convert to hundreds of kms"
   ]
  },
  {
   "cell_type": "markdown",
   "id": "fc6da710",
   "metadata": {},
   "source": [
    "# Functions"
   ]
  },
  {
   "cell_type": "code",
   "execution_count": 5,
   "id": "9641e696",
   "metadata": {},
   "outputs": [],
   "source": [
    "# Run a single regression\n",
    "def run_regression(df_data,dep_var,indep_var,covs=[],state_FE=False,which='OLS'):\n",
    "    df_data_noNaN = df_data.dropna(subset=[indep_var,dep_var] + covs)\n",
    "    print(dep_var + ' ~ ' + indep_var + ' + '+ str(covs) + ' + ' + str(state_FE))\n",
    "    X = df_data_noNaN[[indep_var] + covs]  # Independent variable(s)\n",
    "    if state_FE:\n",
    "        assert type(df_data_noNaN['STATEFP'].iloc[0]) == str  # Ensure STATEFP is a string\n",
    "        dummies = pd.get_dummies(df_data_noNaN['STATEFP'], dtype=int, drop_first=True)\n",
    "        X = pd.concat([X, dummies], axis=1)\n",
    "    X = sm.add_constant(X)  # Adds a constant term to the predictor\n",
    "    Y = df_data_noNaN[dep_var]  # Dependent variable\n",
    "    if which == 'OLS':\n",
    "        model = sm.OLS(Y, X).fit()\n",
    "    elif which == 'Logit':\n",
    "        model = sm.Logit(Y, X).fit()\n",
    "    return model"
   ]
  },
  {
   "cell_type": "markdown",
   "id": "11240856",
   "metadata": {},
   "source": [
    "# Table S1: Extended main regression"
   ]
  },
  {
   "cell_type": "code",
   "execution_count": 6,
   "id": "7c8d1eae",
   "metadata": {},
   "outputs": [
    {
     "name": "stdout",
     "output_type": "stream",
     "text": [
      "no_stations ~ median_household_income_imputed_10k + [] + None\n",
      "no_stations ~ median_household_income_imputed_10k + [] + STATEFP\n",
      "no_stations ~ median_household_income_imputed_10k + ['av_income_10km_withoutBG_imputed_10k'] + STATEFP\n",
      "no_stations ~ median_household_income_imputed_10k + ['av_income_50km_withoutBG_imputed_10k'] + STATEFP\n",
      "no_stations ~ median_household_income_imputed_10k + ['av_income_10km_withoutBG_imputed_10k', 'nearest_highway_km_BG_100km'] + STATEFP\n"
     ]
    }
   ],
   "source": [
    "# Regressions for BG-level data\n",
    "OLS_corr = run_regression(df_BG,'no_stations','median_household_income_imputed_10k',[],state_FE=None,which='OLS')\n",
    "OLS_StateFE_imputed = run_regression(df_BG,'no_stations','median_household_income_imputed_10k',[],state_FE='STATEFP',which='OLS')\n",
    "OLS_BG_10_imputed = run_regression(df_BG,'no_stations','median_household_income_imputed_10k',['av_income_10km_withoutBG_imputed_10k'],state_FE='STATEFP',which='OLS')\n",
    "OLS_BG_50_imputed = run_regression(df_BG,'no_stations','median_household_income_imputed_10k',['av_income_50km_withoutBG_imputed_10k'],state_FE='STATEFP',which='OLS')\n",
    "OLS_BG_hwy = run_regression(df_BG,'no_stations','median_household_income_imputed_10k',['av_income_10km_withoutBG_imputed_10k','nearest_highway_km_BG_100km'],state_FE='STATEFP',which='OLS')"
   ]
  },
  {
   "cell_type": "code",
   "execution_count": 7,
   "id": "d58800c0",
   "metadata": {},
   "outputs": [],
   "source": [
    "list_covs_cleaned = ['median_household_income_imputed_10k', \n",
    "                     'av_income_10km_withoutBG_imputed_10k', \n",
    "                     'av_income_50km_withoutBG_imputed_10k',\n",
    "                     'nearest_highway_km_BG_100km'] # Hide state fixed effects (if implemented as fixed effects labels)\n",
    "\n",
    "dict_rename_covs = {'median_household_income_imputed_10k': 'BG median household income [10kUSD]',\n",
    "                    'av_income_10km_withoutBG_imputed_10k':'Average neighbouring income [10kUSD], BG/10km',\n",
    "                    'av_income_50km_withoutBG_imputed_10k':'Average neighbouring income [10kUSD], BG/50km',\n",
    "                    'nearest_highway_km_BG_100km':'Distance to nearest highway [100km]'}"
   ]
  },
  {
   "cell_type": "code",
   "execution_count": 8,
   "id": "3fec5f98",
   "metadata": {},
   "outputs": [
    {
     "data": {
      "text/html": [
       "<table style=\"text-align:center\"><tr><td colspan=\"6\" style=\"border-bottom: 1px solid black\"></td></tr>\n",
       "<tr><td style=\"text-align:left\"></td><td colspan=\"5\"><em>Dependent variable: Number of stations</em></td></tr><tr><td style=\"text-align:left\"></td><tr><td style=\"text-align:left\"></td><td>(1)</td><td>(2)</td><td>(3)</td><td>(4)</td><td>(5)</td></tr>\n",
       "<tr><td colspan=\"6\" style=\"border-bottom: 1px solid black\"></td></tr>\n",
       "\n",
       "<tr><td style=\"text-align:left\">BG median household income [10kUSD]</td><td>0.012<sup>***</sup></td><td>0.003<sup>***</sup></td><td>-0.012<sup>***</sup></td><td>-0.003<sup>***</sup></td><td>-0.012<sup>***</sup></td></tr>\n",
       "<tr><td style=\"text-align:left\"></td><td>(0.001)</td><td>(0.001)</td><td>(0.001)</td><td>(0.001)</td><td>(0.001)</td></tr>\n",
       "<tr><td style=\"text-align:left\">Average neighbouring income [10kUSD], BG/10km</td><td></td><td></td><td>0.056<sup>***</sup></td><td></td><td>0.056<sup>***</sup></td></tr>\n",
       "<tr><td style=\"text-align:left\"></td><td></td><td></td><td>(0.002)</td><td></td><td>(0.002)</td></tr>\n",
       "<tr><td style=\"text-align:left\">Average neighbouring income [10kUSD], BG/50km</td><td></td><td></td><td></td><td>0.054<sup>***</sup></td><td></td></tr>\n",
       "<tr><td style=\"text-align:left\"></td><td></td><td></td><td></td><td>(0.003)</td><td></td></tr>\n",
       "<tr><td style=\"text-align:left\">Distance to nearest highway [100km]</td><td></td><td></td><td></td><td></td><td>-0.017<sup></sup></td></tr>\n",
       "<tr><td style=\"text-align:left\"></td><td></td><td></td><td></td><td></td><td>(0.013)</td></tr>\n",
       "\n",
       "<td colspan=\"6\" style=\"border-bottom: 1px solid black\"></td></tr>\n",
       "<tr><td style=\"text-align: left\">Unit of observation</td><td>BG</td><td>BG</td><td>BG</td><td>BG</td><td>BG</td></tr><tr><td style=\"text-align: left\">State FE</td><td>No</td><td>Yes</td><td>Yes</td><td>Yes</td><td>Yes</td></tr><tr><td style=\"text-align: left\">Observations</td><td>239780</td><td>239780</td><td>239766</td><td>239776</td><td>239766</td></tr><tr><td style=\"text-align: left\">R<sup>2</sup></td><td>0.001</td><td>0.010</td><td>0.013</td><td>0.012</td><td>0.013</td></tr><tr><td style=\"text-align: left\">Adjusted R<sup>2</sup></td><td>0.001</td><td>0.010</td><td>0.013</td><td>0.012</td><td>0.013</td></tr><tr><td style=\"text-align: left\">Residual Std. Error</td><td>1.650</td><td>1.643</td><td>1.640</td><td>1.641</td><td>1.640</td></tr><tr><td style=\"text-align: left\">F Statistic</td><td>210.165<sup>***</sup></td><td>48.536<sup>***</sup></td><td>62.087<sup>***</sup></td><td>55.224<sup>***</sup></td><td>60.946<sup>***</sup></td></tr>\n",
       "<tr><td colspan=\"6\" style=\"border-bottom: 1px solid black\"></td></tr><tr><td style=\"text-align: left\">Note:</td><td colspan=\"5\" style=\"text-align: right\"><sup>*</sup>p&lt;0.05; <sup>**</sup>p&lt;0.01; <sup>***</sup>p&lt;0.001</td></tr></table>"
      ],
      "text/plain": [
       "<stargazer.stargazer.Stargazer at 0x17d9d4b50>"
      ]
     },
     "execution_count": 8,
     "metadata": {},
     "output_type": "execute_result"
    }
   ],
   "source": [
    "stargazer = Stargazer([OLS_corr, OLS_StateFE_imputed, OLS_BG_10_imputed, OLS_BG_50_imputed, OLS_BG_hwy])\n",
    "stargazer.significance_levels([0.05, 0.01, 0.001])\n",
    "stargazer.dependent_variable_name('Number of stations')\n",
    "stargazer.covariate_order(list_covs_cleaned)\n",
    "stargazer.rename_covariates(dict_rename_covs)\n",
    "\n",
    "stargazer.significant_digits(3)\n",
    "stargazer.show_degrees_of_freedom(False)\n",
    "\n",
    "stargazer.add_line('Unit of observation', ['BG', 'BG', 'BG', 'BG','BG'], LineLocation.FOOTER_TOP)\n",
    "stargazer.add_line('State FE', ['No', 'Yes', 'Yes', 'Yes','Yes'], LineLocation.FOOTER_TOP)\n",
    "\n",
    "stargazer"
   ]
  },
  {
   "cell_type": "code",
   "execution_count": 9,
   "id": "85e010ba",
   "metadata": {},
   "outputs": [
    {
     "name": "stdout",
     "output_type": "stream",
     "text": [
      "\\begin{table}[!htbp] \\centering\n",
      "\\begin{tabular}{@{\\extracolsep{5pt}}lccccc}\n",
      "\\\\[-1.8ex]\\hline\n",
      "\\hline \\\\[-1.8ex]\n",
      "& \\multicolumn{5}{c}{\\textit{Dependent variable: Number of stations}} \\\n",
      "\\cr \\cline{2-6}\n",
      "\\\\[-1.8ex] & (1) & (2) & (3) & (4) & (5) \\\\\n",
      "\\hline \\\\[-1.8ex]\n",
      " BG median household income [10kUSD] & 0.012$^{***}$ & 0.003$^{***}$ & -0.012$^{***}$ & -0.003$^{***}$ & -0.012$^{***}$ \\\\\n",
      "& (0.001) & (0.001) & (0.001) & (0.001) & (0.001) \\\\\n",
      " Average neighbouring income [10kUSD], BG/10km & & & 0.056$^{***}$ & & 0.056$^{***}$ \\\\\n",
      "& & & (0.002) & & (0.002) \\\\\n",
      " Average neighbouring income [10kUSD], BG/50km & & & & 0.054$^{***}$ & \\\\\n",
      "& & & & (0.003) & \\\\\n",
      " Distance to nearest highway [100km] & & & & & -0.017$^{}$ \\\\\n",
      "& & & & & (0.013) \\\\\n",
      "\\hline \\\\[-1.8ex]\n",
      " Unit of observation & BG & BG & BG & BG & BG \\\\\n",
      " State FE & No & Yes & Yes & Yes & Yes \\\\\n",
      " Observations & 239780 & 239780 & 239766 & 239776 & 239766 \\\\\n",
      " $R^2$ & 0.001 & 0.010 & 0.013 & 0.012 & 0.013 \\\\\n",
      " Adjusted $R^2$ & 0.001 & 0.010 & 0.013 & 0.012 & 0.013 \\\\\n",
      " Residual Std. Error & 1.650 & 1.643 & 1.640 & 1.641 & 1.640 \\\\\n",
      " F Statistic & 210.165$^{***}$ & 48.536$^{***}$ & 62.087$^{***}$ & 55.224$^{***}$ & 60.946$^{***}$ \\\\\n",
      "\\hline\n",
      "\\hline \\\\[-1.8ex]\n",
      "\\textit{Note:} & \\multicolumn{5}{r}{$^{*}$p$<$0.05; $^{**}$p$<$0.01; $^{***}$p$<$0.001} \\\\\n",
      "\\end{tabular}\n",
      "\\end{table}\n"
     ]
    }
   ],
   "source": [
    "htmlstring = stargazer.render_html()\n",
    "with open(figure_path + \"Figures/Table_S1.html\", \"w\") as file:\n",
    "    file.write(htmlstring)\n",
    "    \n",
    "# Generate LaTeX output\n",
    "print(stargazer.render_latex())"
   ]
  },
  {
   "cell_type": "markdown",
   "id": "5039ad89",
   "metadata": {},
   "source": [
    "# Table S2"
   ]
  },
  {
   "cell_type": "code",
   "execution_count": 10,
   "id": "339e13d1",
   "metadata": {},
   "outputs": [
    {
     "name": "stdout",
     "output_type": "stream",
     "text": [
      "no_stations ~ median_household_income_byCT_imputed_10k + [] + None\n",
      "no_stations ~ median_household_income_byCT_imputed_10k + [] + STATEFP\n",
      "no_stations ~ median_household_income_byCT_imputed_10k + ['av_income_10km_withoutCT_10k'] + STATEFP\n",
      "no_stations ~ median_household_income_byCT_imputed_10k + ['av_income_50km_withoutCT_10k'] + STATEFP\n",
      "no_stations ~ median_household_income_byCT_imputed_10k + ['av_income_10km_withoutCT_10k', 'nearest_highway_km_BG_100km'] + STATEFP\n"
     ]
    }
   ],
   "source": [
    "OLS_corr = run_regression(df_CT,'no_stations','median_household_income_byCT_imputed_10k',[],state_FE=None,which='OLS')\n",
    "OLS_StateFE = run_regression(df_CT,'no_stations','median_household_income_byCT_imputed_10k',[],state_FE='STATEFP',which='OLS')\n",
    "OLS_CT_10 = run_regression(df_CT,'no_stations','median_household_income_byCT_imputed_10k',['av_income_10km_withoutCT_10k'],state_FE='STATEFP',which='OLS')\n",
    "OLS_CT_50 = run_regression(df_CT,'no_stations','median_household_income_byCT_imputed_10k',['av_income_50km_withoutCT_10k'],state_FE='STATEFP',which='OLS')\n",
    "OLS_CT_hwy = run_regression(df_CT,'no_stations','median_household_income_byCT_imputed_10k',['av_income_10km_withoutCT_10k','nearest_highway_km_BG_100km'],state_FE='STATEFP',which='OLS')"
   ]
  },
  {
   "cell_type": "code",
   "execution_count": 11,
   "id": "a8d7e26d",
   "metadata": {},
   "outputs": [],
   "source": [
    "list_covs_cleaned = ['median_household_income_byCT_imputed_10k', \n",
    "                     'av_income_10km_withoutCT_10k', \n",
    "                     'av_income_50km_withoutCT_10k',\n",
    "                     'nearest_highway_km_BG_100km'] # Hide state fixed effects (if implemented as fixed effects labels)\n",
    "\n",
    "dict_rename_covs = {'median_household_income_byCT_imputed_10k': 'CT median household income [10kUSD]',\n",
    "                    'av_income_10km_withoutCT_10k':'Average neighbouring income [10kUSD], BG/10km',\n",
    "                    'av_income_50km_withoutCT_10k':'Average neighbouring income [10kUSD], BG/50km',\n",
    "                    'nearest_highway_km_BG_100km':'Distance to nearest highway [100km]'}"
   ]
  },
  {
   "cell_type": "code",
   "execution_count": 12,
   "id": "a6632206",
   "metadata": {},
   "outputs": [
    {
     "data": {
      "text/html": [
       "<table style=\"text-align:center\"><tr><td colspan=\"6\" style=\"border-bottom: 1px solid black\"></td></tr>\n",
       "<tr><td style=\"text-align:left\"></td><td colspan=\"5\"><em>Dependent variable: Number of stations</em></td></tr><tr><td style=\"text-align:left\"></td><tr><td style=\"text-align:left\"></td><td>(1)</td><td>(2)</td><td>(3)</td><td>(4)</td><td>(5)</td></tr>\n",
       "<tr><td colspan=\"6\" style=\"border-bottom: 1px solid black\"></td></tr>\n",
       "\n",
       "<tr><td style=\"text-align:left\">CT median household income [10kUSD]</td><td>0.055<sup>***</sup></td><td>0.026<sup>***</sup></td><td>-0.025<sup>***</sup></td><td>0.004<sup></sup></td><td>-0.025<sup>***</sup></td></tr>\n",
       "<tr><td style=\"text-align:left\"></td><td>(0.003)</td><td>(0.003)</td><td>(0.004)</td><td>(0.003)</td><td>(0.004)</td></tr>\n",
       "<tr><td style=\"text-align:left\">Average neighbouring income [10kUSD], BG/10km</td><td></td><td></td><td>0.157<sup>***</sup></td><td></td><td>0.157<sup>***</sup></td></tr>\n",
       "<tr><td style=\"text-align:left\"></td><td></td><td></td><td>(0.007)</td><td></td><td>(0.007)</td></tr>\n",
       "<tr><td style=\"text-align:left\">Average neighbouring income [10kUSD], BG/50km</td><td></td><td></td><td></td><td>0.147<sup>***</sup></td><td></td></tr>\n",
       "<tr><td style=\"text-align:left\"></td><td></td><td></td><td></td><td>(0.009)</td><td></td></tr>\n",
       "<tr><td style=\"text-align:left\">Distance to nearest highway [100km]</td><td></td><td></td><td></td><td></td><td>-0.025<sup></sup></td></tr>\n",
       "<tr><td style=\"text-align:left\"></td><td></td><td></td><td></td><td></td><td>(0.041)</td></tr>\n",
       "\n",
       "<td colspan=\"6\" style=\"border-bottom: 1px solid black\"></td></tr>\n",
       "<tr><td style=\"text-align: left\">Unit of observation</td><td>CT</td><td>CT</td><td>CT</td><td>CT</td><td>CT</td></tr><tr><td style=\"text-align: left\">State FE</td><td>No</td><td>Yes</td><td>Yes</td><td>Yes</td><td>Yes</td></tr><tr><td style=\"text-align: left\">Observations</td><td>84414</td><td>84414</td><td>84404</td><td>84411</td><td>84404</td></tr><tr><td style=\"text-align: left\">R<sup>2</sup></td><td>0.004</td><td>0.025</td><td>0.031</td><td>0.028</td><td>0.031</td></tr><tr><td style=\"text-align: left\">Adjusted R<sup>2</sup></td><td>0.004</td><td>0.024</td><td>0.030</td><td>0.027</td><td>0.030</td></tr><tr><td style=\"text-align: left\">Residual Std. Error</td><td>3.042</td><td>3.011</td><td>3.002</td><td>3.006</td><td>3.002</td></tr><tr><td style=\"text-align: left\">F Statistic</td><td>336.384<sup>***</sup></td><td>42.111<sup>***</sup></td><td>51.698<sup>***</sup></td><td>46.776<sup>***</sup></td><td>50.729<sup>***</sup></td></tr>\n",
       "<tr><td colspan=\"6\" style=\"border-bottom: 1px solid black\"></td></tr><tr><td style=\"text-align: left\">Note:</td><td colspan=\"5\" style=\"text-align: right\"><sup>*</sup>p&lt;0.05; <sup>**</sup>p&lt;0.01; <sup>***</sup>p&lt;0.001</td></tr></table>"
      ],
      "text/plain": [
       "<stargazer.stargazer.Stargazer at 0x17d9d6020>"
      ]
     },
     "execution_count": 12,
     "metadata": {},
     "output_type": "execute_result"
    }
   ],
   "source": [
    "stargazer = Stargazer([OLS_corr,OLS_StateFE,OLS_CT_10,OLS_CT_50,OLS_CT_hwy])\n",
    "stargazer.significance_levels([0.05, 0.01, 0.001])\n",
    "stargazer.dependent_variable_name('Number of stations')\n",
    "stargazer.covariate_order(list_covs_cleaned)\n",
    "stargazer.rename_covariates(dict_rename_covs)\n",
    "\n",
    "stargazer.significant_digits(3)\n",
    "stargazer.show_degrees_of_freedom(False)\n",
    "\n",
    "stargazer.add_line('Unit of observation', ['CT', 'CT', 'CT', 'CT','CT'], LineLocation.FOOTER_TOP)\n",
    "stargazer.add_line('State FE', ['No', 'Yes', 'Yes', 'Yes','Yes'], LineLocation.FOOTER_TOP)\n",
    "\n",
    "stargazer"
   ]
  },
  {
   "cell_type": "code",
   "execution_count": 13,
   "id": "f902c5d4",
   "metadata": {},
   "outputs": [
    {
     "name": "stdout",
     "output_type": "stream",
     "text": [
      "\\begin{table}[!htbp] \\centering\n",
      "\\begin{tabular}{@{\\extracolsep{5pt}}lccccc}\n",
      "\\\\[-1.8ex]\\hline\n",
      "\\hline \\\\[-1.8ex]\n",
      "& \\multicolumn{5}{c}{\\textit{Dependent variable: Number of stations}} \\\n",
      "\\cr \\cline{2-6}\n",
      "\\\\[-1.8ex] & (1) & (2) & (3) & (4) & (5) \\\\\n",
      "\\hline \\\\[-1.8ex]\n",
      " CT median household income [10kUSD] & 0.055$^{***}$ & 0.026$^{***}$ & -0.025$^{***}$ & 0.004$^{}$ & -0.025$^{***}$ \\\\\n",
      "& (0.003) & (0.003) & (0.004) & (0.003) & (0.004) \\\\\n",
      " Average neighbouring income [10kUSD], BG/10km & & & 0.157$^{***}$ & & 0.157$^{***}$ \\\\\n",
      "& & & (0.007) & & (0.007) \\\\\n",
      " Average neighbouring income [10kUSD], BG/50km & & & & 0.147$^{***}$ & \\\\\n",
      "& & & & (0.009) & \\\\\n",
      " Distance to nearest highway [100km] & & & & & -0.025$^{}$ \\\\\n",
      "& & & & & (0.041) \\\\\n",
      "\\hline \\\\[-1.8ex]\n",
      " Unit of observation & CT & CT & CT & CT & CT \\\\\n",
      " State FE & No & Yes & Yes & Yes & Yes \\\\\n",
      " Observations & 84414 & 84414 & 84404 & 84411 & 84404 \\\\\n",
      " $R^2$ & 0.004 & 0.025 & 0.031 & 0.028 & 0.031 \\\\\n",
      " Adjusted $R^2$ & 0.004 & 0.024 & 0.030 & 0.027 & 0.030 \\\\\n",
      " Residual Std. Error & 3.042 & 3.011 & 3.002 & 3.006 & 3.002 \\\\\n",
      " F Statistic & 336.384$^{***}$ & 42.111$^{***}$ & 51.698$^{***}$ & 46.776$^{***}$ & 50.729$^{***}$ \\\\\n",
      "\\hline\n",
      "\\hline \\\\[-1.8ex]\n",
      "\\textit{Note:} & \\multicolumn{5}{r}{$^{*}$p$<$0.05; $^{**}$p$<$0.01; $^{***}$p$<$0.001} \\\\\n",
      "\\end{tabular}\n",
      "\\end{table}\n"
     ]
    }
   ],
   "source": [
    "htmlstring = stargazer.render_html()\n",
    "with open(figure_path + \"Figures/Table_S2.html\", \"w\") as file:\n",
    "    file.write(htmlstring)\n",
    "    \n",
    "print(stargazer.render_latex())  # For LaTeX"
   ]
  },
  {
   "cell_type": "markdown",
   "id": "73a7da70",
   "metadata": {},
   "source": [
    "# Table S3"
   ]
  },
  {
   "cell_type": "code",
   "execution_count": 14,
   "id": "85516cb5",
   "metadata": {},
   "outputs": [],
   "source": [
    "# Include has_stations\n",
    "df_BG['has_stations'] = 0\n",
    "df_BG.loc[df_BG['no_stations'] > 0,'has_stations'] = 1"
   ]
  },
  {
   "cell_type": "code",
   "execution_count": 15,
   "id": "3b873985",
   "metadata": {},
   "outputs": [],
   "source": [
    "# BGs with stations\n",
    "df_BG_hasstations = df_BG.loc[df_BG['has_stations'] == 1]"
   ]
  },
  {
   "cell_type": "code",
   "execution_count": 16,
   "id": "dbfaf249",
   "metadata": {},
   "outputs": [
    {
     "name": "stdout",
     "output_type": "stream",
     "text": [
      "no_stations ~ median_household_income_imputed_10k + ['av_income_10km_withoutBG_imputed_10k'] + STATEFP\n",
      "no_stations ~ median_household_income_imputed_10k + ['av_income_10km_withoutBG_imputed_10k'] + STATEFP\n",
      "no_L2_stations ~ median_household_income_imputed_10k + ['av_income_10km_withoutBG_imputed_10k'] + STATEFP\n",
      "no_DC_stations ~ median_household_income_imputed_10k + ['av_income_10km_withoutBG_imputed_10k'] + STATEFP\n",
      "has_stations ~ median_household_income_imputed_10k + ['av_income_10km_withoutBG_imputed_10k'] + STATEFP\n",
      "Optimization terminated successfully.\n",
      "         Current function value: 0.320583\n",
      "         Iterations 7\n"
     ]
    }
   ],
   "source": [
    "# Regressions for BG-level data\n",
    "OLS_BG_10 = run_regression(df_BG,'no_stations','median_household_income_imputed_10k',['av_income_10km_withoutBG_imputed_10k'],state_FE='STATEFP',which='OLS')\n",
    "OLS_BG_atleastone = run_regression(df_BG_hasstations,'no_stations','median_household_income_imputed_10k',['av_income_10km_withoutBG_imputed_10k'],state_FE='STATEFP',which='OLS')\n",
    "OLS_BG_L2 = run_regression(df_BG,'no_L2_stations','median_household_income_imputed_10k',['av_income_10km_withoutBG_imputed_10k'],state_FE='STATEFP',which='OLS')\n",
    "OLS_BG_DC = run_regression(df_BG,'no_DC_stations','median_household_income_imputed_10k',['av_income_10km_withoutBG_imputed_10k'],state_FE='STATEFP',which='OLS')\n",
    "OLS_BG_hasstations = run_regression(df_BG,'has_stations','median_household_income_imputed_10k',['av_income_10km_withoutBG_imputed_10k'],state_FE='STATEFP',which='Logit')"
   ]
  },
  {
   "cell_type": "code",
   "execution_count": 17,
   "id": "7fcf1311",
   "metadata": {},
   "outputs": [],
   "source": [
    "list_covs_cleaned = ['median_household_income_imputed_10k', 'av_income_10km_withoutBG_imputed_10k']\n",
    "dict_rename_covs = {'median_household_income_imputed_10k': 'BG median household income [10kUSD]',\n",
    "                    'av_income_10km_withoutBG_imputed_10k':'Average neighbouring income [10kUSD], BG/10km'}"
   ]
  },
  {
   "cell_type": "code",
   "execution_count": 18,
   "id": "680734e7",
   "metadata": {},
   "outputs": [
    {
     "data": {
      "text/html": [
       "<table style=\"text-align:center\"><tr><td colspan=\"6\" style=\"border-bottom: 1px solid black\"></td></tr>\n",
       "<tr><td style=\"text-align:left\"></td><tr><td style=\"text-align:left\"></td><td>(1)</td><td>(2)</td><td>(3)</td><td>(4)</td><td>(5)</td></tr>\n",
       "<tr><td colspan=\"6\" style=\"border-bottom: 1px solid black\"></td></tr>\n",
       "\n",
       "<tr><td style=\"text-align:left\">BG median household income [10kUSD]</td><td>-0.012<sup>***</sup></td><td>-0.016<sup></sup></td><td>-0.012<sup>***</sup></td><td>-0.012<sup>***</sup></td><td>-0.034<sup>***</sup></td></tr>\n",
       "<tr><td style=\"text-align:left\"></td><td>(0.001)</td><td>(0.009)</td><td>(0.001)</td><td>(0.001)</td><td>(0.002)</td></tr>\n",
       "<tr><td style=\"text-align:left\">Average neighbouring income [10kUSD], BG/10km</td><td>0.056<sup>***</sup></td><td>0.177<sup>***</sup></td><td>0.056<sup>***</sup></td><td>0.056<sup>***</sup></td><td>0.123<sup>***</sup></td></tr>\n",
       "<tr><td style=\"text-align:left\"></td><td>(0.002)</td><td>(0.016)</td><td>(0.002)</td><td>(0.002)</td><td>(0.004)</td></tr>\n",
       "\n",
       "<td colspan=\"6\" style=\"border-bottom: 1px solid black\"></td></tr>\n",
       "<tr><td style=\"text-align: left\">Unit of observation</td><td>BG</td><td>BG</td><td>BG</td><td>BG</td><td>BG</td></tr><tr><td style=\"text-align: left\">State FE</td><td>Yes</td><td>Yes</td><td>Yes</td><td>Yes</td><td>Yes</td></tr><tr><td style=\"text-align: left\">Observations</td><td>239766</td><td>24660</td><td>239766</td><td>239766</td><td>239766</td></tr><tr><td style=\"text-align: left\">R<sup>2</sup></td><td>0.013</td><td>0.031</td><td>0.013</td><td>0.013</td><td></td></tr><tr><td style=\"text-align: left\">Adjusted R<sup>2</sup></td><td>0.013</td><td>0.029</td><td>0.013</td><td>0.013</td><td></td></tr><tr><td style=\"text-align: left\">Pseudo R<sup>2</sup></td><td></td><td></td><td></td><td></td><td>0.032</td></tr><tr><td style=\"text-align: left\">Residual Std. Error</td><td>1.640</td><td>4.541</td><td>1.640</td><td>1.640</td><td></td></tr><tr><td style=\"text-align: left\">F Statistic</td><td>62.087<sup>***</sup></td><td>14.939<sup>***</sup></td><td>62.087<sup>***</sup></td><td>62.087<sup>***</sup></td><td></td></tr>\n",
       "<tr><td colspan=\"6\" style=\"border-bottom: 1px solid black\"></td></tr><tr><td style=\"text-align: left\">Note:</td><td colspan=\"5\" style=\"text-align: right\"><sup>*</sup>p&lt;0.05; <sup>**</sup>p&lt;0.01; <sup>***</sup>p&lt;0.001</td></tr></table>"
      ],
      "text/plain": [
       "<stargazer.stargazer.Stargazer at 0x30451e5f0>"
      ]
     },
     "execution_count": 18,
     "metadata": {},
     "output_type": "execute_result"
    }
   ],
   "source": [
    "stargazer = Stargazer([OLS_BG_10,OLS_BG_atleastone,OLS_BG_L2,OLS_BG_DC,OLS_BG_hasstations])\n",
    "stargazer.significance_levels([0.05, 0.01, 0.001])\n",
    "stargazer.dependent_variable_name('Number of stations')\n",
    "stargazer.covariate_order(list_covs_cleaned)\n",
    "stargazer.rename_covariates(dict_rename_covs)\n",
    "\n",
    "stargazer.significant_digits(3)\n",
    "stargazer.show_degrees_of_freedom(False)\n",
    "\n",
    "stargazer.add_line('Unit of observation', ['BG', 'BG', 'BG', 'BG','BG'], LineLocation.FOOTER_TOP)\n",
    "stargazer.add_line('State FE', ['Yes', 'Yes', 'Yes', 'Yes','Yes'], LineLocation.FOOTER_TOP)\n",
    "\n",
    "stargazer"
   ]
  },
  {
   "cell_type": "code",
   "execution_count": 19,
   "id": "16fb57fc",
   "metadata": {},
   "outputs": [
    {
     "name": "stdout",
     "output_type": "stream",
     "text": [
      "\\begin{table}[!htbp] \\centering\n",
      "\\begin{tabular}{@{\\extracolsep{5pt}}lccccc}\n",
      "\\\\[-1.8ex]\\hline\n",
      "\\hline \\\\[-1.8ex]\n",
      "\\\\[-1.8ex] & (1) & (2) & (3) & (4) & (5) \\\\\n",
      "\\hline \\\\[-1.8ex]\n",
      " BG median household income [10kUSD] & -0.012$^{***}$ & -0.016$^{}$ & -0.012$^{***}$ & -0.012$^{***}$ & -0.034$^{***}$ \\\\\n",
      "& (0.001) & (0.009) & (0.001) & (0.001) & (0.002) \\\\\n",
      " Average neighbouring income [10kUSD], BG/10km & 0.056$^{***}$ & 0.177$^{***}$ & 0.056$^{***}$ & 0.056$^{***}$ & 0.123$^{***}$ \\\\\n",
      "& (0.002) & (0.016) & (0.002) & (0.002) & (0.004) \\\\\n",
      "\\hline \\\\[-1.8ex]\n",
      " Unit of observation & BG & BG & BG & BG & BG \\\\\n",
      " State FE & Yes & Yes & Yes & Yes & Yes \\\\\n",
      " Observations & 239766 & 24660 & 239766 & 239766 & 239766 \\\\\n",
      " $R^2$ & 0.013 & 0.031 & 0.013 & 0.013 &  \\\\\n",
      " Adjusted $R^2$ & 0.013 & 0.029 & 0.013 & 0.013 &  \\\\\n",
      " Pseudo $R^2$ &  &  &  &  & 0.032 \\\\\n",
      " Residual Std. Error & 1.640 & 4.541 & 1.640 & 1.640 &  \\\\\n",
      " F Statistic & 62.087$^{***}$ & 14.939$^{***}$ & 62.087$^{***}$ & 62.087$^{***}$ &  \\\\\n",
      "\\hline\n",
      "\\hline \\\\[-1.8ex]\n",
      "\\textit{Note:} & \\multicolumn{5}{r}{$^{*}$p$<$0.05; $^{**}$p$<$0.01; $^{***}$p$<$0.001} \\\\\n",
      "\\end{tabular}\n",
      "\\end{table}\n"
     ]
    }
   ],
   "source": [
    "htmlstring = stargazer.render_html()\n",
    "\n",
    "with open(figure_path + \"Figures/Table_S3.html\", \"w\") as file:\n",
    "    file.write(htmlstring)\n",
    "    \n",
    "print(stargazer.render_latex())  # For LaTeX"
   ]
  },
  {
   "cell_type": "markdown",
   "id": "0aa0806f",
   "metadata": {},
   "source": [
    "# Table S4"
   ]
  },
  {
   "cell_type": "code",
   "execution_count": 20,
   "id": "abc722ba",
   "metadata": {},
   "outputs": [],
   "source": [
    "df_BG['pop_density_byBG'] = df_BG['total_pop_byBG'] / df_BG['BGALAND']"
   ]
  },
  {
   "cell_type": "code",
   "execution_count": 21,
   "id": "b0976ccd",
   "metadata": {},
   "outputs": [],
   "source": [
    "# Include has_hwy_passing\n",
    "df_BG['has_highway_passing'] = 0\n",
    "df_BG.loc[df_BG['nearest_highway_km_BG'] == 0,'has_highway_passing'] = 1"
   ]
  },
  {
   "cell_type": "code",
   "execution_count": 22,
   "id": "f4c1b802",
   "metadata": {},
   "outputs": [],
   "source": [
    "median_density = df_BG['pop_density_byBG'].median()\n",
    "df_BG_urban = df_BG.loc[df_BG['pop_density_byBG'] > median_density]\n",
    "df_BG_rural = df_BG.loc[df_BG['pop_density_byBG'] <= median_density]"
   ]
  },
  {
   "cell_type": "code",
   "execution_count": 23,
   "id": "5b7715c6",
   "metadata": {},
   "outputs": [
    {
     "name": "stdout",
     "output_type": "stream",
     "text": [
      "no_stations ~ median_household_income_imputed_10k + ['av_income_10km_withoutBG_imputed_10k'] + STATEFP\n",
      "no_stations ~ median_household_income_imputed_10k + ['av_income_10km_withoutBG_imputed_10k', 'has_highway_passing'] + STATEFP\n",
      "no_stations ~ median_household_income_imputed_10k + ['av_income_10km_withoutBG_imputed_10k', 'pop_density_byBG'] + STATEFP\n",
      "no_stations ~ median_household_income_imputed_10k + ['av_income_10km_withoutBG_imputed_10k'] + STATEFP\n",
      "no_stations ~ median_household_income_imputed_10k + ['av_income_10km_withoutBG_imputed_10k'] + STATEFP\n"
     ]
    }
   ],
   "source": [
    "OLS_BG_10 = run_regression(df_BG,'no_stations','median_household_income_imputed_10k',['av_income_10km_withoutBG_imputed_10k'],state_FE='STATEFP',which='OLS')\n",
    "OLS_BG_10_hwy = run_regression(df_BG,'no_stations','median_household_income_imputed_10k',['av_income_10km_withoutBG_imputed_10k','has_highway_passing'],state_FE='STATEFP',which='OLS')\n",
    "OLS_BG_10_dens = run_regression(df_BG,'no_stations','median_household_income_imputed_10k',['av_income_10km_withoutBG_imputed_10k','pop_density_byBG'],state_FE='STATEFP',which='OLS')\n",
    "OLS_BG_urban = run_regression(df_BG_urban,'no_stations','median_household_income_imputed_10k',['av_income_10km_withoutBG_imputed_10k'],state_FE='STATEFP',which='OLS')\n",
    "OLS_BG_rural = run_regression(df_BG_rural,'no_stations','median_household_income_imputed_10k',['av_income_10km_withoutBG_imputed_10k'],state_FE='STATEFP',which='OLS')"
   ]
  },
  {
   "cell_type": "code",
   "execution_count": 24,
   "id": "c94de754",
   "metadata": {},
   "outputs": [],
   "source": [
    "list_covs_cleaned = ['median_household_income_imputed_10k', 'av_income_10km_withoutBG_imputed_10k', 'has_highway_passing', 'pop_density_byBG']\n",
    "\n",
    "dict_rename_covs = {'median_household_income_imputed_10k': 'BG median household income [10kUSD]',\n",
    "                    'av_income_10km_withoutBG_imputed_10k':'Average neighbouring income [10kUSD], BG/10km',\n",
    "                    'has_highway_passing': 'Has highway passing through',\n",
    "                    'pop_density_byBG':'Population density'}"
   ]
  },
  {
   "cell_type": "code",
   "execution_count": 25,
   "id": "c4c241a5",
   "metadata": {},
   "outputs": [
    {
     "data": {
      "text/html": [
       "<table style=\"text-align:center\"><tr><td colspan=\"6\" style=\"border-bottom: 1px solid black\"></td></tr>\n",
       "<tr><td style=\"text-align:left\"></td><td colspan=\"5\"><em>Dependent variable: Number of stations</em></td></tr><tr><td style=\"text-align:left\"></td><tr><td style=\"text-align:left\"></td><td>(1)</td><td>(2)</td><td>(3)</td><td>(4)</td><td>(5)</td></tr>\n",
       "<tr><td colspan=\"6\" style=\"border-bottom: 1px solid black\"></td></tr>\n",
       "\n",
       "<tr><td style=\"text-align:left\">BG median household income [10kUSD]</td><td>-0.012<sup>***</sup></td><td>-0.011<sup>***</sup></td><td>-0.013<sup>***</sup></td><td>-0.005<sup>***</sup></td><td>-0.034<sup>***</sup></td></tr>\n",
       "<tr><td style=\"text-align:left\"></td><td>(0.001)</td><td>(0.001)</td><td>(0.001)</td><td>(0.001)</td><td>(0.002)</td></tr>\n",
       "<tr><td style=\"text-align:left\">Average neighbouring income [10kUSD], BG/10km</td><td>0.056<sup>***</sup></td><td>0.054<sup>***</sup></td><td>0.058<sup>***</sup></td><td>0.037<sup>***</sup></td><td>0.108<sup>***</sup></td></tr>\n",
       "<tr><td style=\"text-align:left\"></td><td>(0.002)</td><td>(0.002)</td><td>(0.002)</td><td>(0.002)</td><td>(0.004)</td></tr>\n",
       "<tr><td style=\"text-align:left\">Has highway passing through</td><td></td><td>0.406<sup>***</sup></td><td></td><td></td><td></td></tr>\n",
       "<tr><td style=\"text-align:left\"></td><td></td><td>(0.008)</td><td></td><td></td><td></td></tr>\n",
       "<tr><td style=\"text-align:left\">Population density</td><td></td><td></td><td>-8.352<sup>***</sup></td><td></td><td></td></tr>\n",
       "<tr><td style=\"text-align:left\"></td><td></td><td></td><td>(0.617)</td><td></td><td></td></tr>\n",
       "\n",
       "<td colspan=\"6\" style=\"border-bottom: 1px solid black\"></td></tr>\n",
       "<tr><td style=\"text-align: left\">Unit of observation</td><td>BG</td><td>BG</td><td>BG</td><td>BG</td><td>BG</td></tr><tr><td style=\"text-align: left\">State FE</td><td>Yes</td><td>Yes</td><td>Yes</td><td>Yes</td><td>Yes</td></tr><tr><td style=\"text-align: left\">Observations</td><td>239766</td><td>239766</td><td>239167</td><td>119589</td><td>119578</td></tr><tr><td style=\"text-align: left\">R<sup>2</sup></td><td>0.013</td><td>0.023</td><td>0.014</td><td>0.012</td><td>0.027</td></tr><tr><td style=\"text-align: left\">Adjusted R<sup>2</sup></td><td>0.013</td><td>0.022</td><td>0.014</td><td>0.012</td><td>0.026</td></tr><tr><td style=\"text-align: left\">Residual Std. Error</td><td>1.640</td><td>1.632</td><td>1.642</td><td>1.375</td><td>1.860</td></tr><tr><td style=\"text-align: left\">F Statistic</td><td>62.087<sup>***</sup></td><td>104.694<sup>***</sup></td><td>64.323<sup>***</sup></td><td>27.782<sup>***</sup></td><td>62.813<sup>***</sup></td></tr>\n",
       "<tr><td colspan=\"6\" style=\"border-bottom: 1px solid black\"></td></tr><tr><td style=\"text-align: left\">Note:</td><td colspan=\"5\" style=\"text-align: right\"><sup>*</sup>p&lt;0.05; <sup>**</sup>p&lt;0.01; <sup>***</sup>p&lt;0.001</td></tr></table>"
      ],
      "text/plain": [
       "<stargazer.stargazer.Stargazer at 0x303815a50>"
      ]
     },
     "execution_count": 25,
     "metadata": {},
     "output_type": "execute_result"
    }
   ],
   "source": [
    "stargazer = Stargazer([OLS_BG_10,OLS_BG_10_hwy,OLS_BG_10_dens,OLS_BG_urban,OLS_BG_rural])\n",
    "stargazer.significance_levels([0.05, 0.01, 0.001])\n",
    "stargazer.dependent_variable_name('Number of stations')\n",
    "stargazer.covariate_order(list_covs_cleaned)\n",
    "stargazer.rename_covariates(dict_rename_covs)\n",
    "stargazer.significant_digits(3)\n",
    "stargazer.show_degrees_of_freedom(False)\n",
    "\n",
    "stargazer.add_line('Unit of observation', ['BG', 'BG', 'BG', 'BG', 'BG'], LineLocation.FOOTER_TOP)\n",
    "stargazer.add_line('State FE', ['Yes', 'Yes', 'Yes', 'Yes', 'Yes'], LineLocation.FOOTER_TOP)\n",
    "\n",
    "stargazer"
   ]
  },
  {
   "cell_type": "code",
   "execution_count": 26,
   "id": "15fb1892",
   "metadata": {
    "scrolled": false
   },
   "outputs": [
    {
     "name": "stdout",
     "output_type": "stream",
     "text": [
      "\\begin{table}[!htbp] \\centering\n",
      "\\begin{tabular}{@{\\extracolsep{5pt}}lccccc}\n",
      "\\\\[-1.8ex]\\hline\n",
      "\\hline \\\\[-1.8ex]\n",
      "& \\multicolumn{5}{c}{\\textit{Dependent variable: Number of stations}} \\\n",
      "\\cr \\cline{2-6}\n",
      "\\\\[-1.8ex] & (1) & (2) & (3) & (4) & (5) \\\\\n",
      "\\hline \\\\[-1.8ex]\n",
      " BG median household income [10kUSD] & -0.012$^{***}$ & -0.011$^{***}$ & -0.013$^{***}$ & -0.005$^{***}$ & -0.034$^{***}$ \\\\\n",
      "& (0.001) & (0.001) & (0.001) & (0.001) & (0.002) \\\\\n",
      " Average neighbouring income [10kUSD], BG/10km & 0.056$^{***}$ & 0.054$^{***}$ & 0.058$^{***}$ & 0.037$^{***}$ & 0.108$^{***}$ \\\\\n",
      "& (0.002) & (0.002) & (0.002) & (0.002) & (0.004) \\\\\n",
      " Has highway passing through & & 0.406$^{***}$ & & & \\\\\n",
      "& & (0.008) & & & \\\\\n",
      " Population density & & & -8.352$^{***}$ & & \\\\\n",
      "& & & (0.617) & & \\\\\n",
      "\\hline \\\\[-1.8ex]\n",
      " Unit of observation & BG & BG & BG & BG & BG \\\\\n",
      " State FE & Yes & Yes & Yes & Yes & Yes \\\\\n",
      " Observations & 239766 & 239766 & 239167 & 119589 & 119578 \\\\\n",
      " $R^2$ & 0.013 & 0.023 & 0.014 & 0.012 & 0.027 \\\\\n",
      " Adjusted $R^2$ & 0.013 & 0.022 & 0.014 & 0.012 & 0.026 \\\\\n",
      " Residual Std. Error & 1.640 & 1.632 & 1.642 & 1.375 & 1.860 \\\\\n",
      " F Statistic & 62.087$^{***}$ & 104.694$^{***}$ & 64.323$^{***}$ & 27.782$^{***}$ & 62.813$^{***}$ \\\\\n",
      "\\hline\n",
      "\\hline \\\\[-1.8ex]\n",
      "\\textit{Note:} & \\multicolumn{5}{r}{$^{*}$p$<$0.05; $^{**}$p$<$0.01; $^{***}$p$<$0.001} \\\\\n",
      "\\end{tabular}\n",
      "\\end{table}\n"
     ]
    }
   ],
   "source": [
    "htmlstring = stargazer.render_html()\n",
    "with open(figure_path + \"Figures/Table_S4.html\", \"w\") as file:\n",
    "    file.write(htmlstring)\n",
    "    \n",
    "print(stargazer.render_latex())  # For LaTeX"
   ]
  }
 ],
 "metadata": {
  "kernelspec": {
   "display_name": "Python 3 (ipykernel)",
   "language": "python",
   "name": "python3"
  },
  "language_info": {
   "codemirror_mode": {
    "name": "ipython",
    "version": 3
   },
   "file_extension": ".py",
   "mimetype": "text/x-python",
   "name": "python",
   "nbconvert_exporter": "python",
   "pygments_lexer": "ipython3",
   "version": "3.10.7"
  }
 },
 "nbformat": 4,
 "nbformat_minor": 5
}
