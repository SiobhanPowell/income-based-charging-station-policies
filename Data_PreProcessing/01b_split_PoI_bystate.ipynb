{
 "cells": [
  {
   "cell_type": "markdown",
   "metadata": {},
   "source": [
    "This code takes the full set of PoIs, assigns their FIPS codes, and saves them separately by state."
   ]
  },
  {
   "cell_type": "code",
   "execution_count": null,
   "metadata": {},
   "outputs": [],
   "source": [
    "import os\n",
    "import pandas as pd\n",
    "import geopandas as geopd\n",
    "import us\n",
    "from tqdm import tqdm"
   ]
  },
  {
   "cell_type": "code",
   "execution_count": null,
   "metadata": {},
   "outputs": [],
   "source": [
    "root = ''\n",
    "path = root + 'Data/'\n",
    "path_US_data = root + 'Data/geodata/'\n",
    "result_path = root + 'final_data/'\n",
    "path_IRA = root + 'Data/IRA/1.0-shapefile-codebook/usa/'"
   ]
  },
  {
   "cell_type": "code",
   "execution_count": null,
   "metadata": {},
   "outputs": [],
   "source": [
    "# Create folder if not exists\n",
    "if not os.path.exists(result_path + 'Dewey/'):\n",
    "    os.makedirs(result_path + 'Dewey/')"
   ]
  },
  {
   "cell_type": "markdown",
   "metadata": {},
   "source": [
    "# Read Dewey / Safegraph data: PoI"
   ]
  },
  {
   "cell_type": "code",
   "execution_count": null,
   "metadata": {},
   "outputs": [],
   "source": [
    "# Read in Dewey data\n",
    "file = path + 'Dewey_original/compiled.csv'\n",
    "df_dewey = pd.read_csv(file,index_col=['placekey'])\n",
    "df_dewey.drop('Unnamed: 0',axis=1,inplace=True)\n",
    "print(df_dewey['region'].unique())"
   ]
  },
  {
   "cell_type": "markdown",
   "metadata": {},
   "source": [
    "# Split Dewey data by state"
   ]
  },
  {
   "cell_type": "code",
   "execution_count": null,
   "metadata": {},
   "outputs": [],
   "source": [
    "# Read station data\n",
    "df_stations_wbgs = pd.read_csv(result_path + '00_alt_fuel_stations (Apr 3 2023)_wFIPS.csv',index_col=0)\n",
    "df_stations_wbgs.head(3)"
   ]
  },
  {
   "cell_type": "code",
   "execution_count": null,
   "metadata": {},
   "outputs": [],
   "source": [
    "# Get states as used by final station data\n",
    "states_AFDC = list(df_stations_wbgs['State'].unique())"
   ]
  },
  {
   "cell_type": "code",
   "execution_count": null,
   "metadata": {},
   "outputs": [],
   "source": [
    "# Split Dewey data by state and delete charging stations\n",
    "for col in tqdm(states_AFDC):\n",
    "    # Split\n",
    "    df_dewey_state = df_dewey.loc[df_dewey['region'] == col]\n",
    "\n",
    "    # Remove charging stations from PoI to avoid double counting\n",
    "    df_dewey_chargingstations = df_dewey_state.loc[df_dewey_state['sub_category'] == 'Other Gasoline Stations'] # Checked: they are all charging stations!\n",
    "    df_dewey_chargingstations.to_csv(result_path + 'Dewey/compiled_'+col+'_chargingstations.csv')\n",
    "    df_dewey_state = df_dewey_state.loc[df_dewey_state['sub_category'] != 'Other Gasoline Stations']\n",
    "\n",
    "    # Save\n",
    "    df_dewey_state.to_csv(result_path + 'Dewey/compiled_'+col+'.csv')"
   ]
  },
  {
   "cell_type": "markdown",
   "metadata": {},
   "source": [
    "# Assign FIPS"
   ]
  },
  {
   "cell_type": "code",
   "execution_count": null,
   "metadata": {},
   "outputs": [],
   "source": [
    "# Converts Dewey data to geodataframe\n",
    "def assign_FIPS(df_dewey_state,gdf_county,col):\n",
    "    # Convert to geodataframe\n",
    "    gdf_dewey_state = geopd.GeoDataFrame(df_dewey_state, geometry=geopd.points_from_xy(df_dewey_state['longitude'], df_dewey_state['latitude'], crs=\"EPSG:4326\"))\n",
    "    \n",
    "    # County\n",
    "    # Check alignment with county shape file\n",
    "    assert gdf_dewey_state.crs == gdf_county.crs\n",
    "    # Use shapefile to identify county by geometry\n",
    "    gdf_dewey_wcounties = gdf_dewey_state.sjoin(gdf_county[['GEOID','geometry']], how='left', predicate='within')\n",
    "    gdf_dewey_wcounties.drop(columns='index_right',inplace=True)\n",
    "    gdf_dewey_wcounties.rename(columns={'GEOID':'COUNTYFP'},inplace=True)\n",
    "    if len(gdf_dewey_state) != len(gdf_dewey_wcounties):\n",
    "        print('Test: gdf_dewey_state == gdf_dewey_wcounties')\n",
    "    \n",
    "    # CT\n",
    "    # Use IRA files to identify CT by county\n",
    "    if col == 'DC':\n",
    "        state_fips = '11'\n",
    "        state_name = 'District of Columbia'\n",
    "    else:\n",
    "        state_fips = us.states.lookup(col).fips\n",
    "        state_name = us.states.lookup(state_fips).name\n",
    "    # Read IRA file\n",
    "    gdf_IRA = geopd.read_file(path_IRA + state_name.replace(' ','') + '.shp')\n",
    "    gdf_IRA = gdf_IRA.to_crs(gdf_dewey_wcounties.crs)\n",
    "    # Assign tracts\n",
    "    gdf_dewey_wCT = gdf_dewey_wcounties.sjoin(gdf_IRA[['GEOID10','geometry']], how='left', predicate='within')\n",
    "    gdf_dewey_wCT.drop(columns='index_right',inplace=True)\n",
    "    gdf_dewey_wCT.rename(columns={'GEOID10':'TRACTFP'},inplace=True)\n",
    "    if len(gdf_dewey_wCT) != len(gdf_dewey_wcounties):\n",
    "        print('Test: gdf_dewey_wcounties == gdf_dewey_wCT failed')\n",
    "\n",
    "    # BG\n",
    "    # Read BG file\n",
    "    file_bg = path + 'geodata/tl_bg/tl_2020_'+state_fips+'_bg/tl_2020_'+state_fips+'_bg.shp'\n",
    "    gdf_bg = geopd.read_file(file_bg)\n",
    "    gdf_bg = gdf_bg.to_crs(gdf_dewey_wCT.crs)\n",
    "    # Assign tracts\n",
    "    gdf_dewey_wBG = gdf_dewey_wCT.sjoin(gdf_bg[['GEOID','ALAND','geometry']], how='left', predicate='within')\n",
    "    gdf_dewey_wBG.drop(columns='index_right',inplace=True)\n",
    "    gdf_dewey_wBG.rename(columns={'GEOID':'BGFP'},inplace=True)\n",
    "    # gdf_dewey_wBG.rename(columns={'ALAND':'BGALAND'},inplace=True)\n",
    "    if len(gdf_dewey_wCT) != len(gdf_dewey_wBG):\n",
    "        print('Test: gdf_dewey_wCT == gdf_dewey_wBG failed')\n",
    "\n",
    "    # Check for unique index\n",
    "    if gdf_dewey_wBG.index.duplicated().sum() != 0:\n",
    "        print('Test: unique index failed')\n",
    "\n",
    "    # STATEFP\n",
    "    gdf_dewey_wBG['STATEFP'] = gdf_dewey_wBG['COUNTYFP'].str[:2]\n",
    "    if len(set(gdf_dewey_wBG['STATEFP'])) != 1:\n",
    "        print('Test: Multiple STATEFPs')\n",
    "        print(set(gdf_dewey_wBG['STATEFP']))\n",
    "\n",
    "        # How many to remove?\n",
    "        print('Removing [%]:')\n",
    "        print((1.-len(gdf_dewey_wBG.loc[gdf_dewey_wBG['STATEFP'] == state_fips])/len(gdf_dewey_wBG))*100)\n",
    "        gdf_dewey_wBG = gdf_dewey_wBG.loc[gdf_dewey_wBG['STATEFP'] == state_fips]\n",
    "\n",
    "    return gdf_dewey_wBG"
   ]
  },
  {
   "cell_type": "code",
   "execution_count": null,
   "metadata": {},
   "outputs": [],
   "source": [
    "# Read county data\n",
    "# Read county shape file\n",
    "gdf_county = geopd.read_file(path_US_data + 'tl_2022_us_county/tl_2022_us_county.shp')\n",
    "gdf_county = gdf_county.to_crs(\"EPSG:4326\")"
   ]
  },
  {
   "cell_type": "code",
   "execution_count": null,
   "metadata": {},
   "outputs": [],
   "source": [
    "# Assign FIPS to Dewey data\n",
    "for col in tqdm(sorted(states_AFDC)):\n",
    "    print(col)\n",
    "    # Read state data \n",
    "    df_dewey_state = pd.read_csv(result_path + 'Dewey/compiled_'+col+'.csv')\n",
    "    # Assign FIPS\n",
    "    gdf_dewey_state = assign_FIPS(df_dewey_state,gdf_county,col)\n",
    "    # Save\n",
    "    df_dewey_state = gdf_dewey_state.drop(columns='geometry')\n",
    "    df_dewey_state.to_csv(result_path + 'Dewey/01_compiled_'+col+'.csv')"
   ]
  }
 ],
 "metadata": {
  "kernelspec": {
   "display_name": ".venv (3.13.0)",
   "language": "python",
   "name": "python3"
  },
  "language_info": {
   "codemirror_mode": {
    "name": "ipython",
    "version": 3
   },
   "file_extension": ".py",
   "mimetype": "text/x-python",
   "name": "python",
   "nbconvert_exporter": "python",
   "pygments_lexer": "ipython3",
   "version": "3.13.0"
  }
 },
 "nbformat": 4,
 "nbformat_minor": 2
}
