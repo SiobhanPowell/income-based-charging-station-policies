{
 "cells": [
  {
   "cell_type": "markdown",
   "id": "0fa03a7b",
   "metadata": {},
   "source": [
    "# Compiling POI data (without pattern data)\n",
    "The original POI data is distributed across 50 separate files due to the size. Here we load each file, extract the relevant columns, combine and resave the data into one big file \"compiled.csv\"."
   ]
  },
  {
   "cell_type": "code",
   "execution_count": null,
   "id": "0b10dbec",
   "metadata": {},
   "outputs": [],
   "source": [
    "# Path\n",
    "root = ''\n",
    "folder = 'Dewey_original/'"
   ]
  },
  {
   "cell_type": "code",
   "execution_count": null,
   "id": "c49f4478",
   "metadata": {},
   "outputs": [],
   "source": [
    "import pandas as pd\n",
    "import numpy as np\n",
    "import matplotlib.pyplot as plt\n",
    "import os"
   ]
  },
  {
   "cell_type": "markdown",
   "id": "34310567",
   "metadata": {},
   "source": [
    "### Load and combine files"
   ]
  },
  {
   "cell_type": "code",
   "execution_count": null,
   "id": "3caa48b7",
   "metadata": {},
   "outputs": [],
   "source": [
    "saved_keys = ['placekey', 'parent_placekey', 'safegraph_brand_ids', 'location_name',\n",
    "              'brands', 'store_id', 'top_category', 'sub_category', 'naics_code',\n",
    "              'latitude', 'longitude', 'street_address', 'city', 'region',\n",
    "              'postal_code', 'open_hours', 'category_tags', 'opened_on', 'closed_on',\n",
    "              'tracking_closed_since', 'wkt_area_sq_meters'] # reduce full list of columns to reduce size of final dataset"
   ]
  },
  {
   "cell_type": "code",
   "execution_count": null,
   "id": "ceba5a74",
   "metadata": {
    "scrolled": true
   },
   "outputs": [],
   "source": [
    "df = None\n",
    "for file_number in np.arange(1, 50):\n",
    "    print('On file: ', file_number)\n",
    "    file = 'core_poi-geometry-part'+str(file_number)+'.csv'\n",
    "    pth = folder+file\n",
    "    tmp = pd.read_csv(pth)\n",
    "    if df is None:\n",
    "        df = tmp.loc[tmp['iso_country_code']=='US'].loc[:, saved_keys].copy(deep=True).reset_index(drop=True)\n",
    "    else:\n",
    "        df = pd.concat((df, tmp.loc[tmp['iso_country_code']=='US'].loc[:, saved_keys].copy(deep=True).reset_index(drop=True)), ignore_index=True, axis=0)\n",
    "        \n",
    "    print('Size of df: ', len(df))\n",
    "    print('---'*3)\n"
   ]
  },
  {
   "cell_type": "markdown",
   "id": "3f5f0ac6",
   "metadata": {},
   "source": [
    "### Save"
   ]
  },
  {
   "cell_type": "code",
   "execution_count": null,
   "id": "9773c22b",
   "metadata": {},
   "outputs": [],
   "source": [
    "df.to_csv(folder+'compiled.csv')"
   ]
  },
  {
   "cell_type": "code",
   "execution_count": null,
   "id": "ecaacec3",
   "metadata": {},
   "outputs": [],
   "source": [
    "os.stat(folder+'compiled.csv').st_size / (1e6)"
   ]
  }
 ],
 "metadata": {
  "kernelspec": {
   "display_name": "Python 3 (ipykernel)",
   "language": "python",
   "name": "python3"
  },
  "language_info": {
   "codemirror_mode": {
    "name": "ipython",
    "version": 3
   },
   "file_extension": ".py",
   "mimetype": "text/x-python",
   "name": "python",
   "nbconvert_exporter": "python",
   "pygments_lexer": "ipython3",
   "version": "3.10.7"
  }
 },
 "nbformat": 4,
 "nbformat_minor": 5
}
