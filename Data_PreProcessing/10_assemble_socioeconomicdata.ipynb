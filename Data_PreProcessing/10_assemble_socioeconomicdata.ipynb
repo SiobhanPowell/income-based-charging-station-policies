{
 "cells": [
  {
   "cell_type": "markdown",
   "id": "8c0e4cde",
   "metadata": {},
   "source": [
    "This code uses Safegraph socioeconomic data, selects relevant columns, and saves."
   ]
  },
  {
   "cell_type": "code",
   "execution_count": null,
   "id": "cdd6afc4",
   "metadata": {},
   "outputs": [],
   "source": [
    "import pandas as pd\n",
    "import glob\n",
    "import os\n",
    "from tqdm import tqdm"
   ]
  },
  {
   "cell_type": "code",
   "execution_count": null,
   "id": "d3a06627",
   "metadata": {},
   "outputs": [],
   "source": [
    "root = ''\n",
    "path = root + 'Data/Safegraph_CENSUS/'\n",
    "result_path = root + 'final_data/'"
   ]
  },
  {
   "cell_type": "markdown",
   "id": "8c0c1f3c",
   "metadata": {},
   "source": [
    "# Combine all csvs for full dataset"
   ]
  },
  {
   "cell_type": "code",
   "execution_count": null,
   "id": "a9e2d248",
   "metadata": {},
   "outputs": [],
   "source": [
    "# Assemble the list of all the CBG in the dataset\n",
    "csv_files = glob.glob(os.path.join(path, \"*.csv\"))\n",
    "list_cbg = []\n",
    "\n",
    "for csv in csv_files:\n",
    "    file = csv.split('\\\\')[-1]\n",
    "    if len(file) == 16:\n",
    "        list_cbg += [file]"
   ]
  },
  {
   "cell_type": "code",
   "execution_count": null,
   "id": "9a7babe4",
   "metadata": {},
   "outputs": [],
   "source": [
    "# Sort the list\n",
    "list_cbg = sorted(list_cbg)"
   ]
  },
  {
   "cell_type": "code",
   "execution_count": null,
   "id": "5110f9ff",
   "metadata": {},
   "outputs": [],
   "source": [
    "# Compile socioenonomic data into one dataframe\n",
    "df_cbg = pd.DataFrame()\n",
    "for file in tqdm(list_cbg):\n",
    "    df = pd.read_csv(path + file,index_col=[0])\n",
    "    try:\n",
    "        df_cbg = df_cbg.append(df)\n",
    "    except:\n",
    "        df_cbg = df.copy()"
   ]
  },
  {
   "cell_type": "markdown",
   "id": "98436858",
   "metadata": {},
   "source": [
    "# Selected columns"
   ]
  },
  {
   "cell_type": "code",
   "execution_count": null,
   "id": "b57936df",
   "metadata": {},
   "outputs": [],
   "source": [
    "# Read variables of interest\n",
    "# Full list available in Safegraph's 2020_METADATA_CBG_FIELD_DESCRIPTIONS.csv\n",
    "selection = 'selected_cols_EV.csv' # Manually prepared by authors\n",
    "df_cols = pd.read_csv(selection,index_col=[0])\n",
    "df_cols.tail()"
   ]
  },
  {
   "cell_type": "code",
   "execution_count": null,
   "id": "62739c4a",
   "metadata": {},
   "outputs": [],
   "source": [
    "# Identify the table number\n",
    "df_cols['TABLE_NUMBER_csv'] = df_cols['TABLE_NUMBER'].str[:3]"
   ]
  },
  {
   "cell_type": "code",
   "execution_count": null,
   "id": "2bd77a2d",
   "metadata": {},
   "outputs": [],
   "source": [
    "# Compile socioeconomic data into one dataframe\n",
    "df_socioecon = pd.DataFrame()\n",
    "for table in tqdm(sorted(set(df_cols['TABLE_NUMBER_csv']))):\n",
    "    df_table = pd.read_csv(path + '2020_CBG_' + table + '.csv',index_col=[0])\n",
    "    cols = df_cols.loc[df_cols['TABLE_NUMBER_csv'] == table].index.to_list()\n",
    "    df_table = df_table[cols]\n",
    "    try:\n",
    "        df_socioecon = df_socioecon.merge(df_table,left_index=True,right_index=True,how='outer')\n",
    "    except:\n",
    "        df_socioecon = df_table.copy()"
   ]
  },
  {
   "cell_type": "code",
   "execution_count": null,
   "id": "0fc75379",
   "metadata": {},
   "outputs": [],
   "source": [
    "# Rename columns as specified in df_cols / selected_cols_EV.csv\n",
    "for ind in df_cols.index:\n",
    "    df_socioecon.rename(columns={ind:df_cols['name'].loc[ind]},inplace=True)"
   ]
  },
  {
   "cell_type": "code",
   "execution_count": null,
   "id": "26408db4",
   "metadata": {},
   "outputs": [],
   "source": [
    "# Create STATEFIPS for state inspection\n",
    "df_socioecon['STATEFIPS'] = df_socioecon.index\n",
    "df_socioecon['STATEFIPS'] = df_socioecon['STATEFIPS'].astype(str).str.zfill(12).str[:2]"
   ]
  },
  {
   "cell_type": "code",
   "execution_count": null,
   "id": "35250bbc",
   "metadata": {},
   "outputs": [],
   "source": [
    "# Normalize: By population\n",
    "col_bypop = ['total_mixedrace',\n",
    "       'total_white', 'total_black', 'total_native', 'total_asian',\n",
    "       'total_workoutofhome']\n",
    "for col in col_bypop:\n",
    "\tdf_socioecon['share_'+col.split('_',1)[1]] = df_socioecon[col]/df_socioecon['total_pop']\n",
    "\tdf_socioecon.drop(col,axis=1,inplace=True)"
   ]
  },
  {
   "cell_type": "code",
   "execution_count": null,
   "id": "e01fbb2e",
   "metadata": {},
   "outputs": [],
   "source": [
    "# Normalize: By commutes\n",
    "col_bypop = ['total_mode_public', 'total_mode_taxi', 'total_mode_motorcycle',\n",
    "       'total_mode_bike', 'total_mode_walk', 'total_mode_car',\n",
    "       'total_mode_other', 'total_workfromhome', 'total_mode_caralone']\n",
    "for col in col_bypop:\n",
    "\tdf_socioecon['share_'+col.split('_',1)[1]] = df_socioecon[col]/df_socioecon['total_modes']\n",
    "\tdf_socioecon.drop(col,axis=1,inplace=True)"
   ]
  },
  {
   "cell_type": "code",
   "execution_count": null,
   "id": "05ac36a6",
   "metadata": {},
   "outputs": [],
   "source": [
    "# Normalize: Average commute time\n",
    "df_socioecon['avg_commutetime'] = df_socioecon['agg_commutetime']/df_socioecon['total_modes']\n",
    "df_socioecon.drop('agg_commutetime',axis=1,inplace=True)"
   ]
  },
  {
   "cell_type": "code",
   "execution_count": null,
   "id": "35b0144b",
   "metadata": {},
   "outputs": [],
   "source": [
    "# Normalize: By commuting times\n",
    "col_bypop = ['total_commute40', 'total_commute45', 'total_commute60',\n",
    "       'total_commute90', 'total_commute0', 'total_commute5',\n",
    "       'total_commute10', 'total_commute15', 'total_commute20',\n",
    "       'total_commute25', 'total_commute30', 'total_commute35']\n",
    "for col in col_bypop:\n",
    "\tdf_socioecon['share_'+col.split('_',1)[1]] = df_socioecon[col]/df_socioecon['total_modes']\n",
    "\tdf_socioecon.drop(col,axis=1,inplace=True)"
   ]
  },
  {
   "cell_type": "code",
   "execution_count": null,
   "id": "bb02c4c5",
   "metadata": {},
   "outputs": [],
   "source": [
    "# Normalize: Children + by education\n",
    "col_bypop = ['total_children', 'total_education', 'total_highschool',\n",
    "       'total_noschooling', 'total_college', 'total_associate',\n",
    "       'total_bachelor', 'total_master', 'total_professional', 'total_PhD',\n",
    "       'total_bachelorbyfield', 'total_business', 'total_CS', 'total_environ',\n",
    "       'total_physical', 'total_engineering', 'total_engineeringother']\n",
    "for col in col_bypop:\n",
    "\tdf_socioecon['share_'+col.split('_',1)[1]] = df_socioecon[col]/df_socioecon['total_modes']\n",
    "\tdf_socioecon.drop(col,axis=1,inplace=True)"
   ]
  },
  {
   "cell_type": "code",
   "execution_count": null,
   "id": "75492d73",
   "metadata": {},
   "outputs": [],
   "source": [
    "# Normalize: Housing density\n",
    "df_socioecon['housingunits_percapita'] = df_socioecon['total_housingunits']/df_socioecon['total_pop']"
   ]
  },
  {
   "cell_type": "code",
   "execution_count": null,
   "id": "b93eaf7d",
   "metadata": {},
   "outputs": [],
   "source": [
    "# Normalize: Housing types\n",
    "col_bypop = ['total_housing_occupied', 'total_housing_vacant',\n",
    "       'total_housing_owners', 'total_housing_renters',\n",
    "       'total_housing_detached', 'total_housing_atached',\n",
    "       'total_housing_heating_solar']\n",
    "for col in col_bypop:\n",
    "\tdf_socioecon['share_'+col.split('_',1)[1]] = df_socioecon[col]/df_socioecon['total_housingunits']\n",
    "\tdf_socioecon.drop(col,axis=1,inplace=True)"
   ]
  },
  {
   "cell_type": "code",
   "execution_count": null,
   "id": "cbd5b8c1",
   "metadata": {},
   "outputs": [],
   "source": [
    "# Include additional variables\n",
    "df_socioecon['share_nonwhite'] = 1. - df_socioecon['share_white']\n",
    "df_socioecon['share_mode_walkbike'] = df_socioecon['share_mode_walk'] + df_socioecon['share_mode_bike']\n",
    "df_socioecon['short_commute_0to25min'] = df_socioecon['share_commute0'] + df_socioecon['share_commute5'] + df_socioecon['share_commute10'] + df_socioecon['share_commute15'] + df_socioecon['share_commute20']\n",
    "df_socioecon['medium_commute_25to45min'] = df_socioecon['share_commute25'] + df_socioecon['share_commute30'] + df_socioecon['share_commute35'] + df_socioecon['share_commute40']\n",
    "df_socioecon['long_commute_45+min'] = df_socioecon['share_commute45'] + df_socioecon['share_commute60'] + df_socioecon['share_commute90']\n",
    "df_socioecon['share_somehighereducation'] = df_socioecon['share_college'] + df_socioecon['share_associate'] + df_socioecon['share_professional'] + df_socioecon['share_bachelor'] + df_socioecon['share_master'] + df_socioecon['share_PhD']"
   ]
  },
  {
   "cell_type": "code",
   "execution_count": null,
   "id": "e5cb04bb",
   "metadata": {},
   "outputs": [],
   "source": [
    "# Rename to _BG\n",
    "for col in df_socioecon.columns:\n",
    "    df_socioecon.rename(columns={col:col+'_byBG'},inplace=True)"
   ]
  },
  {
   "cell_type": "code",
   "execution_count": null,
   "id": "63866601",
   "metadata": {},
   "outputs": [],
   "source": [
    "# Drop STATEFIPS_byBG\n",
    "df_socioecon.drop('STATEFIPS_byBG',axis=1,inplace=True)"
   ]
  },
  {
   "cell_type": "code",
   "execution_count": null,
   "id": "dea1f233",
   "metadata": {},
   "outputs": [],
   "source": [
    "# Save\n",
    "df_socioecon.to_csv(result_path + 'CENSUS_' + selection)"
   ]
  }
 ],
 "metadata": {
  "kernelspec": {
   "display_name": ".venv (3.13.0)",
   "language": "python",
   "name": "python3"
  },
  "language_info": {
   "codemirror_mode": {
    "name": "ipython",
    "version": 3
   },
   "file_extension": ".py",
   "mimetype": "text/x-python",
   "name": "python",
   "nbconvert_exporter": "python",
   "pygments_lexer": "ipython3",
   "version": "3.13.0"
  }
 },
 "nbformat": 4,
 "nbformat_minor": 5
}
