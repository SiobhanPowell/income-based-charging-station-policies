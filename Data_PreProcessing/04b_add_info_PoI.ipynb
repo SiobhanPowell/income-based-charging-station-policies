{
 "cells": [
  {
   "cell_type": "markdown",
   "metadata": {},
   "source": [
    "This file adds the new top categories to the POI data."
   ]
  },
  {
   "cell_type": "code",
   "execution_count": null,
   "metadata": {},
   "outputs": [],
   "source": [
    "import pandas as pd\n",
    "import category_groupings_250403 as cg\n",
    "import numpy as np\n",
    "import us\n",
    "from tqdm import tqdm"
   ]
  },
  {
   "cell_type": "code",
   "execution_count": null,
   "metadata": {},
   "outputs": [],
   "source": [
    "root = ''\n",
    "path = root + 'Data/'\n",
    "path_US_data = root + 'Data/geodata/'\n",
    "result_path = root + 'final_data/'\n",
    "path_IRA = root + 'Data/IRA/1.0-shapefile-codebook/usa/'"
   ]
  },
  {
   "cell_type": "code",
   "execution_count": null,
   "metadata": {},
   "outputs": [],
   "source": [
    "# All states\n",
    "states = []\n",
    "for state in us.states.STATES:\n",
    "    states +=[state.abbr]\n",
    "states += ['DC']\n",
    "\n",
    "print(states)"
   ]
  },
  {
   "cell_type": "markdown",
   "metadata": {},
   "source": [
    "# Top categories"
   ]
  },
  {
   "cell_type": "code",
   "execution_count": null,
   "metadata": {},
   "outputs": [],
   "source": [
    "# Assign new top categories and save\n",
    "for state in tqdm(states):\n",
    "    df_dewey_state = pd.read_csv(result_path + 'Dewey/01_compiled_'+state+'.csv',index_col=0)\n",
    "    df_dewey_state['top_category_edit'] = ''\n",
    "    for top_cat in df_dewey_state['top_category'].unique():\n",
    "        if not str(top_cat) == 'nan':\n",
    "            df_dewey_state.loc[df_dewey_state['top_category'] == top_cat, 'top_category_edit'] = cg.category_grouping(top_cat)\n",
    "    df_dewey_state.to_csv(result_path + 'Dewey/04b_compiled_'+state+'_addinfo.csv')"
   ]
  }
 ],
 "metadata": {
  "kernelspec": {
   "display_name": ".venv (3.13.0)",
   "language": "python",
   "name": "python3"
  },
  "language_info": {
   "codemirror_mode": {
    "name": "ipython",
    "version": 3
   },
   "file_extension": ".py",
   "mimetype": "text/x-python",
   "name": "python",
   "nbconvert_exporter": "python",
   "pygments_lexer": "ipython3",
   "version": "3.13.0"
  }
 },
 "nbformat": 4,
 "nbformat_minor": 2
}
