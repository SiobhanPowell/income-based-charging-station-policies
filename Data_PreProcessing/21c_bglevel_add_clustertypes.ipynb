{
 "cells": [
  {
   "cell_type": "markdown",
   "id": "b64a6213",
   "metadata": {},
   "source": [
    "This file adds number of stations of each cluster type."
   ]
  },
  {
   "cell_type": "code",
   "execution_count": null,
   "id": "3b36fe1b",
   "metadata": {},
   "outputs": [],
   "source": [
    "import pandas as pd\n",
    "import us\n",
    "from tqdm import tqdm\n",
    "import numpy as np\n",
    "import category_groupings_250403 as cg"
   ]
  },
  {
   "cell_type": "code",
   "execution_count": null,
   "id": "be3015e5",
   "metadata": {},
   "outputs": [],
   "source": [
    "root = ''\n",
    "path = root + 'Data/'\n",
    "path_US_data = root + 'Data/geodata/'\n",
    "result_path = root + 'final_data/'\n",
    "path_IRA = root + 'Data/IRA/1.0-shapefile-codebook/usa/'"
   ]
  },
  {
   "cell_type": "markdown",
   "id": "e837ee14",
   "metadata": {},
   "source": [
    "# Read data"
   ]
  },
  {
   "cell_type": "code",
   "execution_count": null,
   "id": "61801954",
   "metadata": {},
   "outputs": [],
   "source": [
    "# Read BG-level data (21_compile_BGlevel)\n",
    "label = '250702'\n",
    "df_BG_US = pd.read_csv(result_path + 'BGlevel/21_level_BG_US_compiled_'+label+'.csv',index_col=0)\n",
    "df_BG_US.index = df_BG_US.index.astype(str).str.zfill(12)\n",
    "df_BG_US.head(3)"
   ]
  },
  {
   "cell_type": "code",
   "execution_count": null,
   "id": "800de48e",
   "metadata": {},
   "outputs": [],
   "source": [
    "# Read station level data\n",
    "df_stations_wlabels = pd.read_csv(result_path + 'stationlevel/20d_level_stations_US_compiled_250415_wlabels.csv', index_col=0)\n",
    "df_stations_wlabels['BGFP'] = df_stations_wlabels['BGFP'].astype(str).str.zfill(12)\n",
    "df_stations_wlabels.head()"
   ]
  },
  {
   "cell_type": "markdown",
   "id": "c8af4186",
   "metadata": {},
   "source": [
    "# Count number of stations by label"
   ]
  },
  {
   "cell_type": "code",
   "execution_count": null,
   "id": "5e358d1d",
   "metadata": {},
   "outputs": [],
   "source": [
    "# Get label names for k=8\n",
    "# Following https://github.com/SiobhanPowell/charging-location-POIs/blob/analysis/Analysis/figure4-6_clusteringplots.ipynb (2025/05/30)\n",
    "label_mapping = {}\n",
    "label_mapping['Kmeans_nc8'] = {0:'University/college campuses',\n",
    "                               1:'Weekday daytime, short stops',\n",
    "                               2:'City neighborhoods',#Medium density city',\n",
    "                               3:'Weekday daytime, long stops',\n",
    "                               4:'Gas stations, very short stops',\n",
    "                               5:'Weekend evening recreation',\n",
    "                               6:'High density city',\n",
    "                               7:'Hotels'}"
   ]
  },
  {
   "cell_type": "code",
   "execution_count": null,
   "id": "8dccdd35",
   "metadata": {},
   "outputs": [],
   "source": [
    "# Get number of stations per label and BG\n",
    "no_clusters = 'Kmeans_nc8'\n",
    "df_labels_by_BG = df_stations_wlabels.groupby(['BGFP',no_clusters]).size().reset_index().pivot(index='BGFP', columns=no_clusters, values=0).fillna(0).astype(int)\n",
    "new_cols = []\n",
    "for col in df_labels_by_BG.columns:\n",
    "    # df_labels_by_BG.rename(columns={col: no_clusters + '_' + str(col)}, inplace=True)\n",
    "    new_col = label_mapping['Kmeans_nc8'][col].replace(' ','_')\n",
    "    new_col = new_col.replace(',','').replace('/','_').replace('-','_')\n",
    "    new_col = 'no_stations_k8_' + new_col\n",
    "    df_labels_by_BG.rename(columns={col: new_col}, inplace=True)\n",
    "    print(new_col)\n",
    "    new_cols.append(new_col)\n",
    "df_labels_by_BG"
   ]
  },
  {
   "cell_type": "code",
   "execution_count": null,
   "id": "73adec3a",
   "metadata": {},
   "outputs": [],
   "source": [
    "# Merge columns\n",
    "df_BG_US_wlabels = df_BG_US.merge(df_labels_by_BG, how='left', left_on='BGFP', right_index=True)\n",
    "for key in new_cols:\n",
    "    df_BG_US_wlabels[key] = df_BG_US_wlabels[key].fillna(0).astype(int)\n",
    "df_BG_US_wlabels.head(3)"
   ]
  },
  {
   "cell_type": "markdown",
   "id": "9e9e9e8c",
   "metadata": {},
   "source": [
    "# Save"
   ]
  },
  {
   "cell_type": "code",
   "execution_count": null,
   "id": "2fef0f90",
   "metadata": {},
   "outputs": [],
   "source": [
    "# Save\n",
    "label = '250702'\n",
    "df_BG_US_wlabels.to_csv(result_path + 'BGlevel/21c_level_BG_US_compiled_wlabels_'+label+'.csv')"
   ]
  }
 ],
 "metadata": {
  "kernelspec": {
   "display_name": ".venv (3.13.0)",
   "language": "python",
   "name": "python3"
  },
  "language_info": {
   "codemirror_mode": {
    "name": "ipython",
    "version": 3
   },
   "file_extension": ".py",
   "mimetype": "text/x-python",
   "name": "python",
   "nbconvert_exporter": "python",
   "pygments_lexer": "ipython3",
   "version": "3.13.0"
  }
 },
 "nbformat": 4,
 "nbformat_minor": 5
}
