{
 "cells": [
  {
   "cell_type": "markdown",
   "id": "3c84dbbe",
   "metadata": {},
   "source": [
    "This file loads the station-specific labels identified through the clustering process and assigns them station-level dataset."
   ]
  },
  {
   "cell_type": "code",
   "execution_count": null,
   "id": "4eaf4808",
   "metadata": {},
   "outputs": [],
   "source": [
    "import pandas as pd"
   ]
  },
  {
   "cell_type": "code",
   "execution_count": null,
   "id": "900c1b4b",
   "metadata": {},
   "outputs": [],
   "source": [
    "plotsavedate = '20250502'\n",
    "root = ''\n",
    "result_path = root + 'final_data/stationlevel/'\n",
    "clustering_path = 'clustering/'"
   ]
  },
  {
   "cell_type": "markdown",
   "id": "cc189143",
   "metadata": {},
   "source": [
    "# Read station data"
   ]
  },
  {
   "cell_type": "code",
   "execution_count": null,
   "id": "12a7dd6b",
   "metadata": {},
   "outputs": [],
   "source": [
    "# Read station level data\n",
    "df_stations = pd.read_csv(result_path + '20_level_stations_US_compiled_250415.csv', index_col=0)\n",
    "df_stations.head(3)"
   ]
  },
  {
   "cell_type": "markdown",
   "id": "ac83f7a8",
   "metadata": {},
   "source": [
    "# Read labels and label names"
   ]
  },
  {
   "cell_type": "code",
   "execution_count": null,
   "id": "24ae5fc0",
   "metadata": {},
   "outputs": [],
   "source": [
    "# Read labels\n",
    "df_labels = pd.read_csv(clustering_path + 'clustering_labels_saved_' + plotsavedate + '.csv', index_col=0)\n",
    "df_labels.head(3)"
   ]
  },
  {
   "cell_type": "code",
   "execution_count": null,
   "id": "06a47742",
   "metadata": {},
   "outputs": [],
   "source": [
    "# Label names for k=8\n",
    "label_mapping = {}\n",
    "label_mapping['Kmeans_nc8'] = {0:'University/college campuses',\n",
    "                               1:'Weekday daytime, short stops',\n",
    "                               2:'City neighborhoods',#Medium density city',\n",
    "                               3:'Weekday daytime, long stops',\n",
    "                               4:'Gas stations, very short stops',\n",
    "                               5:'Weekend evening recreation',\n",
    "                               6:'High density city',\n",
    "                               7:'Hotels'}"
   ]
  },
  {
   "cell_type": "markdown",
   "id": "1fb06d39",
   "metadata": {},
   "source": [
    "# Merge"
   ]
  },
  {
   "cell_type": "code",
   "execution_count": null,
   "id": "7946845c",
   "metadata": {},
   "outputs": [],
   "source": [
    "# Merge labels with station data\n",
    "df_stations_wlabels = df_stations.merge(df_labels, how='left', left_on='unique_ID', right_on='unique_ID')"
   ]
  },
  {
   "cell_type": "markdown",
   "id": "95f7c178",
   "metadata": {},
   "source": [
    "# Save"
   ]
  },
  {
   "cell_type": "code",
   "execution_count": null,
   "id": "f41e601c",
   "metadata": {},
   "outputs": [],
   "source": [
    "# Save\n",
    "df_stations_wlabels.to_csv(result_path + '20d_level_stations_US_compiled_250415_wlabels.csv', index=False)"
   ]
  }
 ],
 "metadata": {
  "kernelspec": {
   "display_name": ".venv (3.13.0)",
   "language": "python",
   "name": "python3"
  },
  "language_info": {
   "codemirror_mode": {
    "name": "ipython",
    "version": 3
   },
   "file_extension": ".py",
   "mimetype": "text/x-python",
   "name": "python",
   "nbconvert_exporter": "python",
   "pygments_lexer": "ipython3",
   "version": "3.13.0"
  }
 },
 "nbformat": 4,
 "nbformat_minor": 5
}
