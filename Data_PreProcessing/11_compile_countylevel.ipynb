{
 "cells": [
  {
   "cell_type": "markdown",
   "metadata": {},
   "source": [
    "This file compiles the county-level data."
   ]
  },
  {
   "cell_type": "code",
   "execution_count": null,
   "metadata": {},
   "outputs": [],
   "source": [
    "import pandas as pd\n",
    "pd.options.mode.chained_assignment = None  # default='warn'\n",
    "import numpy as np\n",
    "import geopandas as geopd\n",
    "import us\n",
    "import matplotlib.pyplot as plt\n",
    "from tqdm import tqdm"
   ]
  },
  {
   "cell_type": "code",
   "execution_count": null,
   "metadata": {},
   "outputs": [],
   "source": [
    "# Which states\n",
    "states = []\n",
    "for state in us.states.STATES:\n",
    "    states +=[state.abbr]\n",
    "states += ['DC']"
   ]
  },
  {
   "cell_type": "code",
   "execution_count": null,
   "metadata": {},
   "outputs": [],
   "source": [
    "# File path\n",
    "root = ''\n",
    "result_path = root + 'final_data/'\n",
    "path_geodata = root + 'Data/geodata/'\n",
    "path_data = root + 'Data/'"
   ]
  },
  {
   "cell_type": "markdown",
   "metadata": {},
   "source": [
    "# Read data"
   ]
  },
  {
   "cell_type": "code",
   "execution_count": null,
   "metadata": {},
   "outputs": [],
   "source": [
    "# Read in county shapefile\n",
    "gdf_county = geopd.read_file(path_geodata + 'tl_2022_us_county/tl_2022_us_county.shp')\n",
    "gdf_county = gdf_county[['GEOID','STATEFP','NAMELSAD','ALAND','geometry']]\n",
    "gdf_county.rename(columns={'GEOID':'COUNTYFP','NAMELSAD':'COUNTYNAME','ALAND':'COUNTYALAND'},inplace=True)"
   ]
  },
  {
   "cell_type": "markdown",
   "metadata": {},
   "source": [
    "# Read in population density in county"
   ]
  },
  {
   "cell_type": "code",
   "execution_count": null,
   "metadata": {},
   "outputs": [],
   "source": [
    "# Population data in county\n",
    "df_pop = pd.read_csv(path_data + 'US CENSUS/co-est2022-alldata.csv',index_col=[0])\n",
    "df_pop['STATE'] = df_pop['STATE'].astype(str)\n",
    "df_pop['COUNTY'] = df_pop['COUNTY'].astype(str)\n",
    "df_pop['STATE'].loc[df_pop['STATE'].str.len() == 1] = '0' + df_pop['STATE'].loc[df_pop['STATE'].str.len() == 1]\n",
    "df_pop['COUNTY'].loc[df_pop['COUNTY'].str.len() == 1] = '00' + df_pop['COUNTY'].loc[df_pop['COUNTY'].str.len() == 1]\n",
    "df_pop['COUNTY'].loc[df_pop['COUNTY'].str.len() == 2] = '0' + df_pop['COUNTY'].loc[df_pop['COUNTY'].str.len() == 2]\n",
    "df_pop['COUNTYFP'] = df_pop['STATE'] + df_pop['COUNTY']\n",
    "df_pop.rename(columns={'POPESTIMATE2020':'Population_inCounty'},inplace=True)"
   ]
  },
  {
   "cell_type": "code",
   "execution_count": null,
   "metadata": {},
   "outputs": [],
   "source": [
    "# Merge with gdf_county\n",
    "gdf_county = gdf_county.merge(df_pop[['COUNTYFP','Population_inCounty']],how='left',left_on='COUNTYFP',right_on='COUNTYFP')\n",
    "gdf_county['PopDensity_inCounty'] = gdf_county['Population_inCounty'] / gdf_county['COUNTYALAND']"
   ]
  },
  {
   "cell_type": "markdown",
   "metadata": {},
   "source": [
    "# Cars"
   ]
  },
  {
   "cell_type": "code",
   "execution_count": null,
   "metadata": {},
   "outputs": [],
   "source": [
    "# Read in residential car data (from CENSUS)\n",
    "df_resCars_CENSUS_county = pd.read_csv(path_data + 'US_CENSUS/CENSUS_ResCars_bycounty.csv')\n",
    "df_resCars_CENSUS_county['COUNTYFP'] = df_resCars_CENSUS_county['COUNTYFP'].astype(str)\n",
    "df_resCars_CENSUS_county['COUNTYFP'].loc[df_resCars_CENSUS_county['COUNTYFP'].str.len() == 4] = '0' + df_resCars_CENSUS_county['COUNTYFP'].loc[df_resCars_CENSUS_county['COUNTYFP'].str.len() == 4]\n",
    "df_resCars_CENSUS_county.head()"
   ]
  },
  {
   "cell_type": "code",
   "execution_count": null,
   "metadata": {},
   "outputs": [],
   "source": [
    "# Assign actual county FIPS based on county shapefile\n",
    "# Manually prepared file: Matching contains matching of BGs to new and old county FIPS in Connecticut\n",
    "df_matching = pd.read_csv('CT_county_bg_mappings.csv',index_col=0)\n",
    "df_matching = df_matching.drop_duplicates(subset=['COUNTYFP_BG','COUNTYFP_CT'])\n",
    "df_matching = df_matching.dropna(subset=['COUNTYFP_CT'])\n",
    "df_matching.head(3)"
   ]
  },
  {
   "cell_type": "code",
   "execution_count": null,
   "metadata": {},
   "outputs": [],
   "source": [
    "# Compute full FIPS\n",
    "df_matching['COUNTYFP_BG'] = df_matching['COUNTYFP_BG'].astype(str).str.zfill(3)\n",
    "df_matching['COUNTYFP_CT'] = df_matching['COUNTYFP_CT'].astype(int).astype(str).str.zfill(3)"
   ]
  },
  {
   "cell_type": "code",
   "execution_count": null,
   "metadata": {},
   "outputs": [],
   "source": [
    "# Merge\n",
    "gdf_county = gdf_county.merge(df_resCars_CENSUS_county[['COUNTYFP','ResCars_inCounty']],how='left',left_on='COUNTYFP',right_on='COUNTYFP')\n",
    "gdf_county.head(3)"
   ]
  },
  {
   "cell_type": "code",
   "execution_count": null,
   "metadata": {},
   "outputs": [],
   "source": [
    "# Select columns\n",
    "gdf_county.drop(['geometry'],axis=1,inplace=True)"
   ]
  },
  {
   "cell_type": "markdown",
   "metadata": {},
   "source": [
    "# Save"
   ]
  },
  {
   "cell_type": "code",
   "execution_count": null,
   "metadata": {},
   "outputs": [],
   "source": [
    "# Save\n",
    "gdf_county.to_csv(result_path + 'level_county.csv')"
   ]
  }
 ],
 "metadata": {
  "kernelspec": {
   "display_name": ".venv (3.13.0)",
   "language": "python",
   "name": "python3"
  },
  "language_info": {
   "codemirror_mode": {
    "name": "ipython",
    "version": 3
   },
   "file_extension": ".py",
   "mimetype": "text/x-python",
   "name": "python",
   "nbconvert_exporter": "python",
   "pygments_lexer": "ipython3",
   "version": "3.13.0"
  }
 },
 "nbformat": 4,
 "nbformat_minor": 2
}
