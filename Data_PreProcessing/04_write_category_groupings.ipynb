{
 "cells": [
  {
   "cell_type": "markdown",
   "id": "8dff1a42",
   "metadata": {},
   "source": [
    "This file lists all top categories and saves them to a csv file. After manual assignment of meta categories, the csv file is read in again and written to a category_groupings file."
   ]
  },
  {
   "cell_type": "code",
   "execution_count": null,
   "id": "507e4761",
   "metadata": {},
   "outputs": [],
   "source": [
    "import pandas as pd\n",
    "import os\n",
    "import numpy as np\n",
    "from tqdm import tqdm"
   ]
  },
  {
   "cell_type": "code",
   "execution_count": null,
   "id": "c27f799b",
   "metadata": {},
   "outputs": [],
   "source": [
    "# Paths\n",
    "root = ''\n",
    "path = root + 'Data/'"
   ]
  },
  {
   "cell_type": "markdown",
   "id": "418e2e2e",
   "metadata": {},
   "source": [
    "# Identify existing top categories"
   ]
  },
  {
   "cell_type": "code",
   "execution_count": null,
   "id": "6fd95b0a",
   "metadata": {},
   "outputs": [],
   "source": [
    "# Read full POI dataset\n",
    "file = path + 'Dewey_original/compiled.csv'\n",
    "df_dewey = pd.read_csv(file)"
   ]
  },
  {
   "cell_type": "code",
   "execution_count": null,
   "id": "8615ce11",
   "metadata": {},
   "outputs": [],
   "source": [
    "# Get top categories\n",
    "top_categories = df_dewey.top_category.unique().tolist()\n",
    "try:\n",
    "    top_categories.remove(np.nan)\n",
    "except:\n",
    "    pass\n",
    "top_categories = sorted(top_categories)"
   ]
  },
  {
   "cell_type": "code",
   "execution_count": null,
   "id": "f2d504fa",
   "metadata": {},
   "outputs": [],
   "source": [
    "# Save\n",
    "df_categories_complete = pd.DataFrame({'top_category': top_categories})\n",
    "df_categories_complete.to_csv('top_categories_classification.csv')"
   ]
  },
  {
   "cell_type": "markdown",
   "id": "81a92a89",
   "metadata": {},
   "source": [
    "# Do manual classification"
   ]
  },
  {
   "cell_type": "markdown",
   "id": "e1e13eca",
   "metadata": {},
   "source": [
    "Open top_categories_classification.csv, re-save as top_categories_classification_final.csv, and manually fill new column category_grouping. "
   ]
  },
  {
   "cell_type": "markdown",
   "id": "a5cc5c99",
   "metadata": {},
   "source": [
    "# Write category_groupings file"
   ]
  },
  {
   "cell_type": "code",
   "execution_count": null,
   "id": "3b457459",
   "metadata": {},
   "outputs": [],
   "source": [
    "# Read data\n",
    "df_new_categories = pd.read_csv('top_categories_classification_final.csv',index_col=0)\n",
    "df_new_categories.head(3)"
   ]
  },
  {
   "cell_type": "code",
   "execution_count": null,
   "id": "4a1870c2",
   "metadata": {},
   "outputs": [],
   "source": [
    "# Write to dictionary\n",
    "category_groupings_dict = {}\n",
    "for ind in df_new_categories.index:\n",
    "    category_groupings_dict[df_new_categories['top_category'].loc[ind]] = df_new_categories['category_grouping'].loc[ind]"
   ]
  },
  {
   "cell_type": "code",
   "execution_count": null,
   "id": "71cb4fd6",
   "metadata": {},
   "outputs": [],
   "source": [
    "# Write to module\n",
    "with open(\"category_groupings_250403.py\", \"w\") as text_file:\n",
    "    text_file.write(\"def category_grouping(key, return_key_list=False):\\n\\n\")\n",
    "    text_file.write(\"\\tcategory_grouping_dict = {\\n\")\n",
    "    for key in category_groupings_dict.keys():\n",
    "        if '\\'' in key:\n",
    "            print(key) # Correct manually\n",
    "        # Last line in dict\n",
    "        if key != list(category_groupings_dict.keys())[-1]:\n",
    "            text_file.write(\"\\t\\t\\'\" + key + \"\\' : \\'\" + category_groupings_dict[key] + '\\',\\n')\n",
    "        # All others\n",
    "        else:\n",
    "            text_file.write(\"\\t\\t\\'\" + key + \"\\' : \\'\" + category_groupings_dict[key] + '\\'}\\n\\n')\n",
    "    text_file.write(\"\\tif return_key_list:\\n\")\n",
    "    text_file.write(\"\\t\\treturn list(category_grouping_dict.keys())\\n\")\n",
    "    text_file.write(\"\\telse:\\n\")\n",
    "    text_file.write(\"\\t\\treturn category_grouping_dict[key]\\n\\n\")"
   ]
  },
  {
   "cell_type": "markdown",
   "id": "b2e2f4fb",
   "metadata": {},
   "source": [
    "Manually 's correct in Python file: \\\\' ."
   ]
  }
 ],
 "metadata": {
  "kernelspec": {
   "display_name": ".venv (3.13.0)",
   "language": "python",
   "name": "python3"
  },
  "language_info": {
   "codemirror_mode": {
    "name": "ipython",
    "version": 3
   },
   "file_extension": ".py",
   "mimetype": "text/x-python",
   "name": "python",
   "nbconvert_exporter": "python",
   "pygments_lexer": "ipython3",
   "version": "3.13.0"
  }
 },
 "nbformat": 4,
 "nbformat_minor": 5
}
