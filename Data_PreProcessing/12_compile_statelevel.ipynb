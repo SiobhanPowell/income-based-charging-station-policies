{
 "cells": [
  {
   "cell_type": "markdown",
   "metadata": {},
   "source": [
    "This file compiles state-level data."
   ]
  },
  {
   "cell_type": "code",
   "execution_count": null,
   "metadata": {},
   "outputs": [],
   "source": [
    "import pandas as pd\n",
    "pd.options.mode.chained_assignment = None  # default='warn'\n",
    "import numpy as np\n",
    "import geopandas as geopd\n",
    "import us\n",
    "import matplotlib.pyplot as plt\n",
    "from tqdm import tqdm"
   ]
  },
  {
   "cell_type": "code",
   "execution_count": null,
   "metadata": {},
   "outputs": [],
   "source": [
    "# File path\n",
    "root = ''\n",
    "result_path = root + 'final_data/'\n",
    "path_geodata = root + 'Data/geodata/'\n",
    "path_data = root + 'Data/'"
   ]
  },
  {
   "cell_type": "markdown",
   "metadata": {},
   "source": [
    "# Vehicle stock"
   ]
  },
  {
   "cell_type": "code",
   "execution_count": null,
   "metadata": {},
   "outputs": [],
   "source": [
    "# Read in AFDC EV statistics\n",
    "df_cars = pd.read_csv(path_data + 'AFDC/AFDC_allvehicles_2023.csv')\n",
    "cars_cols = df_cars.columns.tolist()\n",
    "for col in cars_cols:\n",
    "    if '_2023' in col:\n",
    "        df_cars.rename(columns={col:col[:-5]},inplace=True)\n",
    "    if 'Unnamed' in col:\n",
    "        df_cars.drop(columns=[col],inplace=True)"
   ]
  },
  {
   "cell_type": "code",
   "execution_count": null,
   "metadata": {},
   "outputs": [],
   "source": [
    "# Rename column\n",
    "df_cars.set_index('State', inplace=True)\n",
    "df_cars.rename(columns={'Electric (EV)':'EVs_byState'},inplace=True)\n",
    "df_cars.rename(columns={'Plug-In Hybrid Electric (PHEV)':'PHEVs_byState'},inplace=True)\n",
    "df_cars.head(3)"
   ]
  },
  {
   "cell_type": "code",
   "execution_count": null,
   "metadata": {},
   "outputs": [],
   "source": [
    "# Convert to numeric\n",
    "for col in df_cars.columns:\n",
    "    try:\n",
    "        df_cars[col] = df_cars[col].str.replace(',','')\n",
    "        df_cars[col] = pd.to_numeric(df_cars[col], errors='coerce')\n",
    "    except:\n",
    "        print(col)"
   ]
  },
  {
   "cell_type": "code",
   "execution_count": null,
   "metadata": {},
   "outputs": [],
   "source": [
    "# Sum over all fuel types\n",
    "df_cars['cars_byState'] = df_cars.sum(axis=1)"
   ]
  },
  {
   "cell_type": "code",
   "execution_count": null,
   "metadata": {},
   "outputs": [],
   "source": [
    "# Include STATEFP\n",
    "for ind in df_cars.index:\n",
    "    if ind == 'District of Columbia':\n",
    "        df_cars.loc[ind,'STATEFP'] = '11'\n",
    "    else:\n",
    "        df_cars.loc[ind,'STATEFP'] = us.states.lookup(ind).fips"
   ]
  },
  {
   "cell_type": "code",
   "execution_count": null,
   "metadata": {},
   "outputs": [],
   "source": [
    "# Get only relevant columns\n",
    "df_cars_sel = df_cars[['STATEFP','EVs_byState','PHEVs_byState','cars_byState']].copy()\n",
    "df_cars_sel.set_index('STATEFP', inplace=True)"
   ]
  },
  {
   "cell_type": "markdown",
   "metadata": {},
   "source": [
    "# Save"
   ]
  },
  {
   "cell_type": "code",
   "execution_count": null,
   "metadata": {},
   "outputs": [],
   "source": [
    "# Save\n",
    "df_cars_sel.to_csv(result_path + 'level_state.csv')"
   ]
  }
 ],
 "metadata": {
  "kernelspec": {
   "display_name": ".venv (3.13.0)",
   "language": "python",
   "name": "python3"
  },
  "language_info": {
   "codemirror_mode": {
    "name": "ipython",
    "version": 3
   },
   "file_extension": ".py",
   "mimetype": "text/x-python",
   "name": "python",
   "nbconvert_exporter": "python",
   "pygments_lexer": "ipython3",
   "version": "3.13.0"
  }
 },
 "nbformat": 4,
 "nbformat_minor": 2
}
