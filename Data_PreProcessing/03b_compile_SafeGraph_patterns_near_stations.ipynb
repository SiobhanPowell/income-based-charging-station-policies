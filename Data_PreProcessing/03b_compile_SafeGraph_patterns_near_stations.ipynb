{
 "cells": [
  {
   "cell_type": "markdown",
   "id": "2a35484e",
   "metadata": {},
   "source": [
    "# Compile pattern data only for POI near stations\n",
    "This file loads the compiled patterns data, station list, and json files of the nearby POIs to each station, then calculates the average patterns for nearby POIs to each station."
   ]
  },
  {
   "cell_type": "code",
   "execution_count": null,
   "id": "f9f4caba",
   "metadata": {},
   "outputs": [],
   "source": [
    "savedate = '20250401'\n",
    "root = ''\n",
    "folder1 = root + 'Data/SafeGraphData/DownloadedData/2022/10/MP/'\n",
    "folder2 = root + 'Data/SafeGraphData/ProcessedData/final_data_250330/'"
   ]
  },
  {
   "cell_type": "code",
   "execution_count": null,
   "id": "c49f4478",
   "metadata": {},
   "outputs": [],
   "source": [
    "import pandas as pd\n",
    "import numpy as np\n",
    "import matplotlib.pyplot as plt\n",
    "import os\n",
    "import geopandas\n",
    "import json\n",
    "import time"
   ]
  },
  {
   "cell_type": "markdown",
   "id": "3ced83f8",
   "metadata": {},
   "source": [
    "### Load data"
   ]
  },
  {
   "cell_type": "code",
   "execution_count": null,
   "id": "e83657c1",
   "metadata": {},
   "outputs": [],
   "source": [
    "pattern_data = pd.read_csv(folder1 + 'compiled_patterns.csv', index_col=0)\n",
    "station_id_df = pd.read_csv(folder2 + '00_alt_fuel_stations (Apr 3 2023)_wFIPS.csv', index_col=0).reset_index()\n",
    "station_id_df = station_id_df.loc[:, ['unique_ID', 'State']]\n",
    "state_names = list(station_id_df['State'].unique())"
   ]
  },
  {
   "cell_type": "code",
   "execution_count": null,
   "id": "ca864c49",
   "metadata": {},
   "outputs": [],
   "source": [
    "nearbypois_500m = {}\n",
    "nearbypois_10closest = {}\n",
    "ct_nopatterns = 0\n",
    "\n",
    "combined_df_stations = None\n",
    "\n",
    "for state in np.sort(state_names):\n",
    "    tic = time.time()\n",
    "    print('---'*5, state, '---'*5)\n",
    "    filename = folder2 + 'stations_PoI_uniqueID_within_500m/'+state+'_500.json'\n",
    "    nearbypois_500m[state] = json.load(open(filename))\n",
    "    filename = folder2 + '10neareststations_PoI_uniqueID_within_5000m/'+state+'_5000.json'\n",
    "    nearbypois_10closest[state] = json.load(open(filename))\n",
    "\n",
    "    station_id_df_here = station_id_df.loc[station_id_df['State']==state].copy().reset_index(drop=True)\n",
    "    \n",
    "    for idx in station_id_df_here.index:\n",
    "        key = station_id_df_here.loc[idx, 'unique_ID']\n",
    "        if len(nearbypois_500m[state][key]) >= 10:\n",
    "            poi_subset = pattern_data.loc[pattern_data['placekey'].isin(nearbypois_500m[state][key])]\n",
    "        else:\n",
    "            poi_subset = pattern_data.loc[pattern_data['placekey'].isin(nearbypois_10closest[state][key])]\n",
    "        means = poi_subset.mean(axis=0, numeric_only=True)\n",
    "        for key1, val in means.items():\n",
    "            station_id_df_here.loc[idx, key1] = val\n",
    "            \n",
    "    print('Nans:', np.round(station_id_df_here['distance_from_home'].isna().sum() / len(station_id_df_here), 4))\n",
    "    \n",
    "    if combined_df_stations is None:\n",
    "        combined_df_stations = station_id_df_here.copy(deep=True)\n",
    "    else:\n",
    "        combined_df_stations = pd.concat((combined_df_stations, station_id_df_here.copy(deep=True)), axis=0, ignore_index=True)\n",
    "        \n",
    "    toc = time.time()\n",
    "    print('Time for ', state, ' in minutes: ', np.round((1/60)*(toc-tic), 4))\n",
    "    combined_df_stations.to_csv(folder2 + 'stationlevel/patternsonly_uniqueID_'+savedate+'.csv')"
   ]
  },
  {
   "cell_type": "markdown",
   "id": "cc08c269",
   "metadata": {},
   "source": [
    "### Stats"
   ]
  },
  {
   "cell_type": "code",
   "execution_count": null,
   "id": "65e20681",
   "metadata": {},
   "outputs": [],
   "source": [
    "combined_df_stations['distance_from_home'].isna().sum() / len(combined_df_stations)"
   ]
  },
  {
   "cell_type": "code",
   "execution_count": null,
   "id": "71763d4e",
   "metadata": {
    "scrolled": true
   },
   "outputs": [],
   "source": [
    "combined_df_stations['State'].value_counts()"
   ]
  },
  {
   "cell_type": "code",
   "execution_count": null,
   "id": "319e52ae",
   "metadata": {
    "scrolled": true
   },
   "outputs": [],
   "source": [
    "combined_df_stations.isna().sum()"
   ]
  }
 ],
 "metadata": {
  "kernelspec": {
   "display_name": "Python 3 (ipykernel)",
   "language": "python",
   "name": "python3"
  },
  "language_info": {
   "codemirror_mode": {
    "name": "ipython",
    "version": 3
   },
   "file_extension": ".py",
   "mimetype": "text/x-python",
   "name": "python",
   "nbconvert_exporter": "python",
   "pygments_lexer": "ipython3",
   "version": "3.10.7"
  }
 },
 "nbformat": 4,
 "nbformat_minor": 5
}
