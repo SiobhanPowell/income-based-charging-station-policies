{
 "cells": [
  {
   "cell_type": "markdown",
   "metadata": {},
   "source": [
    "This file prepares the computation of the neighboring income of each BG by creating shapefiles of state BGs plus neighboring states."
   ]
  },
  {
   "cell_type": "code",
   "execution_count": null,
   "metadata": {},
   "outputs": [],
   "source": [
    "import os\n",
    "import numpy as np\n",
    "import pandas as pd\n",
    "pd.options.mode.chained_assignment = None  # default='warn'\n",
    "import geopandas as geopds\n",
    "from tqdm import tqdm\n",
    "import matplotlib.pyplot as plt\n",
    "import state_name_crs_mappings_ML as crsm\n",
    "import us"
   ]
  },
  {
   "cell_type": "code",
   "execution_count": null,
   "metadata": {},
   "outputs": [],
   "source": [
    "# File path\n",
    "root = ''\n",
    "result_path = root + 'final_data/'\n",
    "path_geodata = root + 'Data/geodata/'"
   ]
  },
  {
   "cell_type": "code",
   "execution_count": null,
   "metadata": {},
   "outputs": [],
   "source": [
    "# Check whether folder exists, if not create it\n",
    "if not os.path.exists(result_path + 'neighboring_bgs/'):\n",
    "    os.makedirs(result_path + 'neighboring_bgs/')"
   ]
  },
  {
   "cell_type": "markdown",
   "metadata": {},
   "source": [
    "# Read original data"
   ]
  },
  {
   "cell_type": "code",
   "execution_count": null,
   "metadata": {},
   "outputs": [],
   "source": [
    "# Get socioeconomics per BG (output of 10b)\n",
    "df_socioecon = pd.read_csv(result_path + 'BGlevel/level_BG.csv')\n",
    "df_socioecon.head(3)"
   ]
  },
  {
   "cell_type": "code",
   "execution_count": null,
   "metadata": {},
   "outputs": [],
   "source": [
    "# COnvert FIPS to string\n",
    "df_socioecon['BGFP'] = df_socioecon['BGFP'].astype(str).str.zfill(12)\n",
    "df_socioecon['STATEFP'] = df_socioecon['STATEFP'].astype(str).str.zfill(2)\n",
    "df_socioecon['COUNTYFP'] = df_socioecon['COUNTYFP'].astype(str).str.zfill(5)"
   ]
  },
  {
   "cell_type": "code",
   "execution_count": null,
   "metadata": {},
   "outputs": [],
   "source": [
    "# Set index\n",
    "df_socioecon.set_index('BGFP', inplace=True)"
   ]
  },
  {
   "cell_type": "markdown",
   "metadata": {},
   "source": [
    "# Create shapefiles of neighboring BGs"
   ]
  },
  {
   "cell_type": "code",
   "execution_count": null,
   "metadata": {},
   "outputs": [],
   "source": [
    "# List all states\n",
    "states = []\n",
    "for state in us.states.STATES:\n",
    "    states +=[state.abbr]\n",
    "states += ['DC']\n",
    "len(states)"
   ]
  },
  {
   "cell_type": "code",
   "execution_count": null,
   "metadata": {},
   "outputs": [],
   "source": [
    "# Load geodata\n",
    "gdf_states = geopds.read_file(path_geodata + 'cb_2018_us_state_500k/cb_2018_us_state_500k.shp')"
   ]
  },
  {
   "cell_type": "code",
   "execution_count": null,
   "metadata": {},
   "outputs": [],
   "source": [
    "# Compile dataset of neighboring bgs\n",
    "for state in tqdm(states):\n",
    "    # FIPS\n",
    "    if state == 'DC':\n",
    "        fips = '11'\n",
    "        state_name = 'District of Columbia'\n",
    "    else:\n",
    "        fips = us.states.lookup(state).fips\n",
    "        state_name = us.states.lookup(fips).name\n",
    "\n",
    "    # Reproject to relevant metric system\n",
    "    crs = crsm.us_state_to_crs[state_name]\n",
    "    gdf_states = gdf_states.to_crs(crs=crs)\n",
    "\n",
    "    # Buffer 100km\n",
    "    state_100 = gdf_states[gdf_states['STUSPS'] == state].buffer(100000) # 100km as uppercommuting bound\n",
    "    print(len(state_100))\n",
    "    gdf_neighbors = gdf_states.clip(state_100)\n",
    "    neighbor_fips = list(gdf_neighbors['STATEFP'])\n",
    "    neighbor_fips.remove(fips)\n",
    "    # print(neighbor_fips)\n",
    "\n",
    "    # Read state's bg\n",
    "    file_bg = path_geodata + 'tl_bg/tl_2020_'+fips+'_bg/tl_2020_'+fips+'_bg.shp'\n",
    "    gdf_bg = geopds.read_file(file_bg)\n",
    "    gdf_bg = gdf_bg.to_crs(crs=crs)\n",
    "\n",
    "    # Get blockgroups of neighboring states\n",
    "    for nb_fips in tqdm(neighbor_fips):\n",
    "        # Read bgs\n",
    "        file_bg_nb = path_geodata + 'tl_bg/tl_2020_'+nb_fips+'_bg/tl_2020_'+nb_fips+'_bg.shp'\n",
    "        gdf_bg_nb = geopds.read_file(file_bg_nb)\n",
    "        gdf_bg_nb = gdf_bg_nb.to_crs(crs=crs)\n",
    "        # Clip\n",
    "        gdf_bg_nb = gdf_bg_nb.clip(state_100)\n",
    "        # Concat: state + neighboring state\n",
    "        gdf_bg = geopds.GeoDataFrame(pd.concat([gdf_bg,gdf_bg_nb],ignore_index=True),crs=crs)\n",
    "        gdf_bg.to_file(result_path + 'neighboring_bgs/tl_2020_'+fips+'_bg_neighbors.shp')"
   ]
  }
 ],
 "metadata": {
  "kernelspec": {
   "display_name": ".venv (3.13.0)",
   "language": "python",
   "name": "python3"
  },
  "language_info": {
   "codemirror_mode": {
    "name": "ipython",
    "version": 3
   },
   "file_extension": ".py",
   "mimetype": "text/x-python",
   "name": "python",
   "nbconvert_exporter": "python",
   "pygments_lexer": "ipython3",
   "version": "3.13.0"
  }
 },
 "nbformat": 4,
 "nbformat_minor": 2
}
