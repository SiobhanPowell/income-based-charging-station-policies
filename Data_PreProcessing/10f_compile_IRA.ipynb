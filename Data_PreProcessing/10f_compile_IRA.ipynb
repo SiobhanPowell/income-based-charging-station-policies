{
 "cells": [
  {
   "cell_type": "markdown",
   "id": "6209f2c5",
   "metadata": {},
   "source": [
    "This file assigns IRA-status to BGs and computes the share of neighboring BG with disadvantaged status."
   ]
  },
  {
   "cell_type": "code",
   "execution_count": null,
   "id": "c9fef327",
   "metadata": {},
   "outputs": [],
   "source": [
    "import pandas as pd\n",
    "import numpy as np\n",
    "import geopandas as geopd\n",
    "from shapely.ops import unary_union\n",
    "import us\n",
    "from tqdm import tqdm\n",
    "import state_name_crs_mappings_ML as crsm\n",
    "import matplotlib.pyplot as plt"
   ]
  },
  {
   "cell_type": "code",
   "execution_count": null,
   "id": "fa951b38",
   "metadata": {},
   "outputs": [],
   "source": [
    "root = ''\n",
    "path = root + 'Data/'\n",
    "path_US_data = root + 'Data/geodata/'\n",
    "result_path = root + 'final_data/'\n",
    "path_IRA = root + 'Data/IRA/1.0-shapefile-codebook/usa/'"
   ]
  },
  {
   "cell_type": "code",
   "execution_count": null,
   "id": "29d735e1",
   "metadata": {},
   "outputs": [],
   "source": [
    "# All states\n",
    "states = []\n",
    "for state in us.states.STATES:\n",
    "    states +=[state.abbr]\n",
    "states += ['DC']\n",
    "print(states)"
   ]
  },
  {
   "cell_type": "markdown",
   "id": "badc97a9",
   "metadata": {},
   "source": [
    "# Label BGs whether disadvantaged according to IRA"
   ]
  },
  {
   "cell_type": "code",
   "execution_count": null,
   "id": "18460be6",
   "metadata": {},
   "outputs": [],
   "source": [
    "# Assign BG-level to IRA/CT\n",
    "for state in (states):\n",
    "    print(state)\n",
    "    if state == 'DC':\n",
    "        state_full = 'District of Columbia'\n",
    "        fips = '11'\n",
    "    else:\n",
    "        state_full = us.states.lookup(state).name\n",
    "        fips = us.states.lookup(state).fips\n",
    "    # Read BG shapefile\n",
    "    file_bg = path_US_data + 'tl_bg/tl_2020_'+fips+'_bg/tl_2020_'+fips+'_bg.shp'\n",
    "    gdf_bg = geopd.read_file(file_bg)\n",
    "    gdf_bg = gdf_bg[['GEOID','geometry']]\n",
    "    gdf_bg.rename(columns={'GEOID':'BGFIPS'},inplace=True)\n",
    "    # Read IRA data\n",
    "    gdf_ira_state = geopd.read_file(path_IRA + state_full.replace(' ','') + '.shp')\n",
    "    gdf_ira_state = gdf_ira_state.loc[gdf_ira_state['SN_C'] == 1] # Only IRA BGs\n",
    "    gdf_ira_state = gdf_ira_state.to_crs(crs=gdf_bg.crs)\n",
    "    # Sjoin\n",
    "    gdf_BG_IRA = geopd.sjoin(gdf_bg, gdf_ira_state, how='left', predicate='intersects')\n",
    "    # Assign share of IRA territory\n",
    "    gdf_bg['share_IRA'] = np.nan\n",
    "    BGFIPS_noIRA = gdf_BG_IRA.loc[gdf_BG_IRA['index_right'].isna()].BGFIPS.unique()\n",
    "    gdf_bg.loc[gdf_bg['BGFIPS'].isin(BGFIPS_noIRA),'share_IRA'] = 0.\n",
    "    # Iterate over BGs\n",
    "    BGFIPS_IRA = gdf_BG_IRA.loc[~gdf_BG_IRA['index_right'].isna()].BGFIPS.unique()\n",
    "    ira_only_state = unary_union(gdf_ira_state['geometry'])\n",
    "    gdf_bg.set_index('BGFIPS', inplace=True)\n",
    "    for BGFIPS in tqdm(BGFIPS_IRA):\n",
    "        geometry_i = gdf_bg.loc[BGFIPS].geometry\n",
    "        area_all = geometry_i.area\n",
    "        area_ira = geometry_i.intersection(ira_only_state).area\n",
    "        gdf_bg.loc[BGFIPS,'share_IRA'] = area_ira/area_all\n",
    "    gdf_bg['is_disadvantaged_IRA'] = 0\n",
    "    gdf_bg.loc[gdf_bg['share_IRA'] > 0.8,'is_disadvantaged_IRA'] = 1\n",
    "    # Save\n",
    "    gdf_bg.drop(columns=['geometry'], inplace=True)\n",
    "    gdf_bg.to_csv(result_path + 'BGlevel/level_BG_'+state+'_IRA.csv')\n"
   ]
  },
  {
   "cell_type": "markdown",
   "id": "99cb2248",
   "metadata": {},
   "source": [
    "# IRA neighbours"
   ]
  },
  {
   "cell_type": "code",
   "execution_count": null,
   "id": "a318b197",
   "metadata": {},
   "outputs": [],
   "source": [
    "# IRA file\n",
    "file = 'usa.shp'\n",
    "gdf_ira = geopd.read_file(path_IRA + file)\n",
    "len(gdf_ira)"
   ]
  },
  {
   "cell_type": "code",
   "execution_count": null,
   "id": "e2433abc",
   "metadata": {},
   "outputs": [],
   "source": [
    "# Only disadvantaged communities\n",
    "gdf_ira_dis = gdf_ira.loc[gdf_ira['SN_C'] == 1]\n",
    "len(gdf_ira_dis)"
   ]
  },
  {
   "cell_type": "code",
   "execution_count": null,
   "id": "28919c72",
   "metadata": {},
   "outputs": [],
   "source": [
    "# Combine all IRA areas to one geometry\n",
    "IRA_area = gdf_ira_dis.unary_union"
   ]
  },
  {
   "cell_type": "code",
   "execution_count": null,
   "id": "1df31911",
   "metadata": {},
   "outputs": [],
   "source": [
    "# Find nb states\n",
    "# nb_states_FIPS = list(gdf_bg_inclnb.STATEFP.unique())\n",
    "# nb_states = [us.states.lookup(fips).name for fips in nb_states_FIPS]\n",
    "# print(nb_states)"
   ]
  },
  {
   "cell_type": "code",
   "execution_count": null,
   "id": "1b5eed7f",
   "metadata": {},
   "outputs": [],
   "source": [
    "# Distances\n",
    "distances = [10,50]"
   ]
  },
  {
   "cell_type": "code",
   "execution_count": null,
   "id": "61d76b1d",
   "metadata": {},
   "outputs": [],
   "source": [
    "# Reproject to relevant metric system\n",
    "for state in tqdm(states):\n",
    "\n",
    "    # State\n",
    "    if state == 'DC':\n",
    "        state_full = 'District of Columbia'\n",
    "        fips = '11'\n",
    "    else:\n",
    "        state_full = us.states.lookup(state).name\n",
    "        fips = us.states.lookup(state).fips\n",
    "    crs = crsm.us_state_to_crs[state_full]\n",
    "\n",
    "    # Read BG shapefile\n",
    "    file_bg = path_US_data + 'tl_bg/tl_2020_'+fips+'_bg/tl_2020_'+fips+'_bg.shp'\n",
    "    gdf_bg = geopd.read_file(file_bg)\n",
    "    gdf_bg = gdf_bg[['GEOID','geometry']]\n",
    "    gdf_bg.rename(columns={'GEOID':'BGFIPS'},inplace=True)\n",
    "    gdf_bg = gdf_bg.to_crs(crs=crs)\n",
    "\n",
    "    # Read nb BGs\n",
    "    try:\n",
    "        gdf_bg_inclnb = geopd.read_file(result_path + 'neighboring_bgs/tl_2020_'+fips+'_bg_neighbors.shp')\n",
    "    except:\n",
    "        # If there are no neighbours, there is no file (AK for instance)\n",
    "        gdf_bg_inclnb = geopd.read_file(path_US_data + 'tl_bg/tl_2020_'+fips+'_bg/tl_2020_'+fips+'_bg.shp')\n",
    "    gdf_bg_inclnb = gdf_bg_inclnb.to_crs(crs=crs)\n",
    "    land_area = gdf_bg_inclnb['geometry'].union_all()\n",
    "\n",
    "    # Clip for IRA area\n",
    "    # Filter for states in gdf_bg_inclnb\n",
    "    nb_states_FIPS = list(gdf_bg_inclnb.STATEFP.unique())\n",
    "    # nb_states = [us.states.lookup(fips).name for fips in nb_states_FIPS]\n",
    "    nb_states = []\n",
    "    for fips in nb_states_FIPS:\n",
    "        if fips == '11':\n",
    "            nb_states += ['District of Columbia']\n",
    "        else:\n",
    "            nb_states += [us.states.lookup(fips).name]\n",
    "    gdf_ira_dis_nbstates = gdf_ira_dis[gdf_ira_dis['SF'].isin(nb_states)]\n",
    "    \n",
    "    if len(nb_states) == len(gdf_ira_dis_nbstates['SF'].unique()):\n",
    "        # Then convert crs\n",
    "        gdf_ira_dis_nbstates = gdf_ira_dis_nbstates.to_crs(crs=crs)\n",
    "        IRA_area_state = gdf_ira_dis_nbstates.union_all()\n",
    "\n",
    "        # Look at nb areas\n",
    "        for d in distances:\n",
    "            # Create buffers (can extend beyond state borders + into the sea)\n",
    "            # print('Buffering')\n",
    "            gdf_bg_buffer = gdf_bg.copy()\n",
    "            gdf_bg_buffer['geometry'] = gdf_bg_buffer['geometry'].buffer(d*1000) # 10,000m buffer\n",
    "            \n",
    "            # Clip to land borders to get rid of seaside areas\n",
    "            # print('Clip to land borders')\n",
    "            gdf_bg_buffer['geometry'] = gdf_bg_buffer['geometry'].clip(land_area) # intersection\n",
    "            # Deduct original BG geometry\n",
    "            gdf_bg_buffer['geometry'] = gdf_bg_buffer['geometry'].difference(gdf_bg['geometry'])\n",
    "            # Compute nb area\n",
    "            gdf_bg['neighbArea_'+str(d)+'km'] = gdf_bg_buffer['geometry'].area\n",
    "            \n",
    "            # Clip buffered area to IRA area\n",
    "            # print('Intersect IRA area with buffer')\n",
    "            gdf_bg_buffer['geometry'] = gdf_bg_buffer['geometry'].intersection(IRA_area_state)\n",
    "            gdf_bg['neighbAreaIRA_'+str(d)+'km'] = gdf_bg_buffer['geometry'].area\n",
    "            # Compute share of IRA area\n",
    "            gdf_bg['shareIRA_'+str(d)+'km'] = gdf_bg['neighbAreaIRA_'+str(d)+'km']/gdf_bg['neighbArea_'+str(d)+'km']\n",
    "            \n",
    "        # Save\n",
    "        df_bg = gdf_bg.drop(columns=['geometry'])\n",
    "        df_bg.to_csv(result_path + 'BGlevel/level_BG_'+state+'_nbIRA.csv')\n",
    "    else:\n",
    "        print('Not all states are in IRA data')\n",
    "        print(state + ' not compiled')\n"
   ]
  }
 ],
 "metadata": {
  "kernelspec": {
   "display_name": ".venv (3.13.0)",
   "language": "python",
   "name": "python3"
  },
  "language_info": {
   "codemirror_mode": {
    "name": "ipython",
    "version": 3
   },
   "file_extension": ".py",
   "mimetype": "text/x-python",
   "name": "python",
   "nbconvert_exporter": "python",
   "pygments_lexer": "ipython3",
   "version": "3.13.0"
  }
 },
 "nbformat": 4,
 "nbformat_minor": 5
}
