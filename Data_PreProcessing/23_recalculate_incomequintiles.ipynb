{
 "cells": [
  {
   "cell_type": "markdown",
   "id": "a36cf2da",
   "metadata": {},
   "source": [
    "# Recalculate income quintiles using imputed data\n",
    "Imputed data for BG-level income is included in \"median_household_income_imputed\" and has no missing values, but the quantile data we use in some analysis still has missing values because of missing values in the CT- or County-level data. Here we use the imputed BG-level data to imputed the CT- and County-level values, then recalculate the income quantiles with no missing values. "
   ]
  },
  {
   "cell_type": "code",
   "execution_count": null,
   "id": "d06377f2",
   "metadata": {},
   "outputs": [],
   "source": [
    "root = ''\n",
    "folder = root + 'final_data/'"
   ]
  },
  {
   "cell_type": "code",
   "execution_count": null,
   "id": "8d70bf55",
   "metadata": {},
   "outputs": [],
   "source": [
    "import pandas as pd\n",
    "import matplotlib.pyplot as plt\n",
    "import us\n",
    "import numpy as np"
   ]
  },
  {
   "cell_type": "code",
   "execution_count": null,
   "id": "f195b230",
   "metadata": {},
   "outputs": [],
   "source": [
    "# Read latest compiled data\n",
    "df_bg_level = pd.read_csv(folder + 'BGlevel/22_level_BG_US_imputed_250702.csv', index_col=0)\n",
    "df_ct_level = pd.read_csv(folder + 'CTlevel/22_level_CT_US_compiled_wlabels_250702.csv', index_col=0)"
   ]
  },
  {
   "cell_type": "markdown",
   "id": "cf3ab43b",
   "metadata": {},
   "source": [
    "# 1. Impute missing values"
   ]
  },
  {
   "cell_type": "markdown",
   "id": "04452155",
   "metadata": {},
   "source": [
    "### Fill CTs with missing data based on imputed BG-level values\n",
    "\n",
    "df_bg_level['median_household_income_imputed'] has no missing values.\n"
   ]
  },
  {
   "cell_type": "code",
   "execution_count": null,
   "id": "0d7f31ef",
   "metadata": {},
   "outputs": [],
   "source": [
    "df_dataset_CT_pop = df_bg_level[['TRACTFP','total_pop_byBG']].groupby('TRACTFP').sum()\n",
    "df_dataset_CT_pop.rename(columns={'total_pop_byBG':'total_pop_byCT'}, inplace=True)\n",
    "\n",
    "df_dataset_BG_imputed_weigh = df_bg_level.loc[:, ['TRACTFP', 'total_pop_byBG', 'median_household_income_imputed']].copy().merge(df_dataset_CT_pop, on='TRACTFP', how='left')\n",
    "\n",
    "inds_zero = df_dataset_BG_imputed_weigh[df_dataset_BG_imputed_weigh['total_pop_byCT']==0].index\n",
    "inds_nonzero = df_dataset_BG_imputed_weigh[~(df_dataset_BG_imputed_weigh['total_pop_byCT']==0)].index\n",
    "\n",
    "df_dataset_BG_imputed_weigh.loc[inds_nonzero, 'weights'] = df_dataset_BG_imputed_weigh.loc[inds_nonzero, 'total_pop_byBG']/df_dataset_BG_imputed_weigh.loc[inds_nonzero, 'total_pop_byCT']\n",
    "df_dataset_BG_imputed_weigh.loc[inds_zero, 'weights'] = 0\n",
    "\n",
    "df_dataset_BG_imputed_weigh['median_household_income_imputed_weighted'] = df_dataset_BG_imputed_weigh['median_household_income_imputed']*df_dataset_BG_imputed_weigh['weights']\n",
    "\n",
    "df_dataset_CT_weigh = df_dataset_BG_imputed_weigh[['TRACTFP', 'median_household_income_imputed_weighted']].groupby('TRACTFP').sum(min_count=1).reset_index()\n",
    "\n",
    "df_ct_level = df_ct_level.merge(df_dataset_CT_weigh, on='TRACTFP', how='outer')\n",
    "df_ct_level = df_ct_level.rename(columns={'median_household_income_imputed_weighted':'median_household_income_byCT_imputed'})"
   ]
  },
  {
   "cell_type": "markdown",
   "id": "8ddf47c4",
   "metadata": {},
   "source": [
    "### Fill counties with missing data"
   ]
  },
  {
   "cell_type": "markdown",
   "id": "718d2ef2",
   "metadata": {},
   "source": [
    "#### First in BG-level dataset"
   ]
  },
  {
   "cell_type": "code",
   "execution_count": null,
   "id": "166f20dc",
   "metadata": {},
   "outputs": [],
   "source": [
    "counties_with_na = df_bg_level[df_bg_level['median_household_income_byCNTY'].isna()]['COUNTYFP'].unique()\n",
    "counties_with_na"
   ]
  },
  {
   "cell_type": "code",
   "execution_count": null,
   "id": "f0f53ecb",
   "metadata": {},
   "outputs": [],
   "source": [
    "df_bg_level['median_household_income_byCNTY_imputed'] = df_bg_level['median_household_income_byCNTY'].copy()\n",
    "for county in counties_with_na:\n",
    "    inds = df_bg_level[df_bg_level['COUNTYFP']==county].index\n",
    "    weights = df_bg_level.loc[inds, 'total_pop_byBG'] / df_bg_level.loc[inds, 'total_pop_byBG'].sum()\n",
    "    county_weighted = (df_bg_level.loc[inds, 'median_household_income_imputed'] * weights).sum()\n",
    "    print(df_bg_level.loc[inds, 'median_household_income_imputed'].mean(), county_weighted)\n",
    "    df_bg_level.loc[inds, 'median_household_income_byCNTY_imputed'] = county_weighted"
   ]
  },
  {
   "cell_type": "markdown",
   "id": "203816fa",
   "metadata": {},
   "source": [
    "#### Repeat in CT-level dataset"
   ]
  },
  {
   "cell_type": "code",
   "execution_count": null,
   "id": "4c1084ff",
   "metadata": {},
   "outputs": [],
   "source": [
    "counties_with_na_ct = df_ct_level[df_ct_level['median_household_income_byCNTY'].isna()]['COUNTYFP'].unique()\n",
    "counties_with_na_ct"
   ]
  },
  {
   "cell_type": "code",
   "execution_count": null,
   "id": "f8f3b063",
   "metadata": {},
   "outputs": [],
   "source": [
    "df_ct_level['median_household_income_byCNTY_imputed'] = df_ct_level['median_household_income_byCNTY'].copy()\n",
    "for county in counties_with_na_ct:\n",
    "    inds = df_ct_level[df_ct_level['COUNTYFP']==county].index\n",
    "    weights = df_ct_level.loc[inds, 'total_pop_byCT'] / df_ct_level.loc[inds, 'total_pop_byCT'].sum()\n",
    "    county_weighted = (df_ct_level.loc[inds, 'median_household_income_byCT_imputed'] * weights).sum()\n",
    "    print(df_ct_level.loc[inds, 'median_household_income_byCT_imputed'].mean(), county_weighted)\n",
    "    df_ct_level.loc[inds, 'median_household_income_byCNTY_imputed'] = county_weighted"
   ]
  },
  {
   "cell_type": "markdown",
   "id": "b8515344",
   "metadata": {},
   "source": [
    "# 2. Re-compute income quantiles"
   ]
  },
  {
   "cell_type": "markdown",
   "id": "b603cc5a",
   "metadata": {},
   "source": [
    "## Re-compute US-level quantiles"
   ]
  },
  {
   "cell_type": "code",
   "execution_count": null,
   "id": "bcda0a21",
   "metadata": {},
   "outputs": [],
   "source": [
    "# County quantiles US\n",
    "df_dataset_CNTY = df_bg_level[['COUNTYFP','median_household_income_byCNTY_imputed']].copy()\n",
    "df_dataset_CNTY.drop_duplicates(inplace=True)\n",
    "df_dataset_CNTY['income_quantile_county_US_imputed'] = pd.qcut(df_dataset_CNTY['median_household_income_byCNTY_imputed'], q=5, labels=np.arange(1, 6))\n",
    "df_bg_level = df_bg_level.merge(df_dataset_CNTY[['COUNTYFP', 'income_quantile_county_US_imputed']], on='COUNTYFP', how='outer')\n",
    "\n",
    "# BG quantiles US\n",
    "df_bg_level['income_quantile_bg_US_imputed'] = pd.qcut(df_bg_level['median_household_income_imputed'], q=5, labels=np.arange(1, 6))\n",
    "\n",
    "# CT county quantiles US\n",
    "df_dataset_CNTY = df_ct_level[['COUNTYFP','median_household_income_byCNTY_imputed']].copy()\n",
    "df_dataset_CNTY.drop_duplicates(inplace=True)\n",
    "df_dataset_CNTY['income_quantile_county_US_imputed'] = pd.qcut(df_dataset_CNTY['median_household_income_byCNTY_imputed'], q=5, labels=np.arange(1, 6))\n",
    "df_ct_level = df_ct_level.merge(df_dataset_CNTY[['COUNTYFP', 'income_quantile_county_US_imputed']], on='COUNTYFP', how='outer')\n",
    "\n",
    "# CT quantiles US\n",
    "df_ct_level['income_quantile_CT_US_imputed'] = pd.qcut(df_ct_level['median_household_income_byCT_imputed'], q=5, labels=np.arange(1, 6))\n"
   ]
  },
  {
   "cell_type": "markdown",
   "id": "5fa4d097",
   "metadata": {},
   "source": [
    "## Re-compute State-level Quantiles"
   ]
  },
  {
   "cell_type": "code",
   "execution_count": null,
   "id": "cebcd456",
   "metadata": {},
   "outputs": [],
   "source": [
    "for state in df_bg_level['STATEFP'].unique():\n",
    "    \n",
    "    bg_inds = df_bg_level[df_bg_level['STATEFP']==state].index\n",
    "    df_bg_level.loc[bg_inds, 'income_quantile_bg_state_imputed'] = pd.qcut(df_bg_level.loc[bg_inds, 'median_household_income_imputed'], q=5, labels=np.arange(1, 6))\n",
    "    \n",
    "    ct_inds = df_ct_level[df_ct_level['STATEFP']==state].index\n",
    "    df_ct_level.loc[ct_inds, 'income_quantile_CT_state_imputed'] = pd.qcut(df_ct_level.loc[ct_inds, 'median_household_income_byCT_imputed'], q=5, labels=np.arange(1, 6))\n",
    "    "
   ]
  },
  {
   "cell_type": "code",
   "execution_count": null,
   "id": "5878d9aa",
   "metadata": {
    "scrolled": true
   },
   "outputs": [],
   "source": [
    "for state in df_bg_level['STATEFP'].unique():\n",
    "    print('--'*20)\n",
    "    print(state)\n",
    "    \n",
    "    bg_inds = df_bg_level[df_bg_level['STATEFP']==state].index\n",
    "    ct_inds = df_ct_level[df_ct_level['STATEFP']==state].index\n",
    "    \n",
    "    if state == 11:\n",
    "        \n",
    "        print('Unique case with DC, as it has only one county. Map to 3.')\n",
    "        df_bg_level.loc[bg_inds, 'income_quantile_county_state_imputed'] = 3\n",
    "        df_ct_level.loc[ct_inds, 'income_quantile_county_state_imputed'] = 3\n",
    "\n",
    "    else:\n",
    "\n",
    "        df_bg_CNTY = df_bg_level.loc[bg_inds, ['COUNTYFP','median_household_income_byCNTY_imputed']].copy()\n",
    "        df_bg_CNTY.drop_duplicates(inplace=True)\n",
    "        df_bg_CNTY['income_quantile_county_state_imputed'] = pd.qcut(df_bg_CNTY['median_household_income_byCNTY_imputed'], q=5, labels=np.arange(1, 6))\n",
    "\n",
    "        mapping = df_bg_CNTY.loc[:, ['COUNTYFP', 'income_quantile_county_state_imputed']].set_index('COUNTYFP').to_dict()['income_quantile_county_state_imputed']\n",
    "        for key, val in mapping.items():\n",
    "            df_bg_level.loc[df_bg_level[df_bg_level['COUNTYFP']==key].index, 'income_quantile_county_state_imputed'] = val\n",
    "\n",
    "        df_ct_CNTY = df_ct_level.loc[ct_inds, ['COUNTYFP','median_household_income_byCNTY_imputed']].copy()\n",
    "        df_ct_CNTY.drop_duplicates(inplace=True)\n",
    "        df_ct_CNTY['income_quantile_county_state_imputed'] = pd.qcut(df_ct_CNTY['median_household_income_byCNTY_imputed'], q=5, labels=np.arange(1, 6))\n",
    "        mapping = df_ct_CNTY.loc[:, ['COUNTYFP', 'income_quantile_county_state_imputed']].set_index('COUNTYFP').to_dict()['income_quantile_county_state_imputed']\n",
    "        for key, val in mapping.items():\n",
    "            df_ct_level.loc[df_ct_level[df_ct_level['COUNTYFP']==key].index, 'income_quantile_county_state_imputed'] = val\n",
    "        \n"
   ]
  },
  {
   "cell_type": "markdown",
   "id": "f691cca1",
   "metadata": {},
   "source": [
    "# 3. Save"
   ]
  },
  {
   "cell_type": "code",
   "execution_count": null,
   "id": "184999d3",
   "metadata": {},
   "outputs": [],
   "source": [
    "df_bg_level.to_csv(folder + 'BGlevel/23_level_BG_US_imputedquantiles_20250722.zip')\n",
    "df_ct_level.to_csv(folder + 'CTlevel/23_level_CT_US_imputedquantiles_20250722.zip')"
   ]
  }
 ],
 "metadata": {
  "kernelspec": {
   "display_name": ".venv (3.13.0)",
   "language": "python",
   "name": "python3"
  },
  "language_info": {
   "codemirror_mode": {
    "name": "ipython",
    "version": 3
   },
   "file_extension": ".py",
   "mimetype": "text/x-python",
   "name": "python",
   "nbconvert_exporter": "python",
   "pygments_lexer": "ipython3",
   "version": "3.13.0"
  }
 },
 "nbformat": 4,
 "nbformat_minor": 5
}
